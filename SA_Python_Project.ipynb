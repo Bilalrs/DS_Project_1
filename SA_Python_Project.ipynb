{
 "cells": [
  {
   "cell_type": "markdown",
   "id": "93927ebb-1355-484f-9e8b-79fe3da1adc6",
   "metadata": {},
   "source": [
    "This is the start of the project on sentiment analysis of customer reviews\n",
    "\n",
    "Objective: Determine the sentiment (positive, neutral, negative) of customer reviews.\r\n",
    "\n",
    "Scope: Decide whether you'll focus on reviews from a specific industry, product, or service.\n",
    "\r\n",
    "Outcome: Develop a model that can automatically classify the sentiment of reviews."
   ]
  },
  {
   "cell_type": "markdown",
   "id": "1c985ed8-a312-467b-9fda-3f2c64117067",
   "metadata": {},
   "source": [
    "The first step is to go on amazon.com and find products that have a lot of reviews (in the 1000s) and the reviews are fairly descriptive. I have chosen stainless steel water bottles. the full url is: hhttps://www.amazon.com/s?k=stainless+steel+water+bottle"
   ]
  },
  {
   "cell_type": "markdown",
   "id": "4d370559-6848-4f38-be28-78e29b0d6878",
   "metadata": {},
   "source": [
    "I go on the page, right click and inspect element which pulls up the window to get access to the websites html files.\n"
   ]
  },
  {
   "cell_type": "code",
   "execution_count": 5,
   "id": "afb55e47-23e9-4e11-8ade-7f64fec10248",
   "metadata": {},
   "outputs": [],
   "source": [
    "#import the relevant libraries\n",
    "import pandas as pd\n",
    "import requests\n",
    "from bs4 import BeautifulSoup"
   ]
  },
  {
   "cell_type": "code",
   "execution_count": 13,
   "id": "2c81bfde-6f40-4b87-b4e3-1ff5addd3594",
   "metadata": {},
   "outputs": [
    {
     "name": "stdout",
     "output_type": "stream",
     "text": [
      "https://www.amazon.com/s?k=stainless+steel+water+bottle\n"
     ]
    }
   ],
   "source": [
    "'''\n",
    "first i retrieve the base url and search query from the site browser then i add the header variable which \n",
    "assigns the user agent and referer so when i request from amazon they dont think its a bot and \n",
    "dont block my request. \n",
    "helps with webscraping \n",
    "\n",
    "'''\n",
    "\n",
    "base_url='https://www.amazon.com/s?k='\n",
    "search_query='stainless+steel+water+bottle'\n",
    "url=base_url+search_query\n",
    "print (url)\n",
    "header={'User-Agent':'Mozilla/5.0 (Windows NT 10.0; Win64; x64) AppleWebKit/537.36 (KHTML, like Gecko) Chrome/120.0.0.0 Safari/537.36 Edg/120.0.0.0','referer':'www.amazon.com/s?k=stainless+steel+water+bottle&crid=3V6E6TATYPW6Y&sprefix=stainless+steel+water+bottl%2Caps%2C156&ref=nb_sb_noss_2'}"
   ]
  },
  {
   "cell_type": "markdown",
   "id": "5481502d-c3a5-4d59-bb25-8c514c569c09",
   "metadata": {},
   "source": [
    "Now we create the functions to retrive all the reviews"
   ]
  },
  {
   "cell_type": "code",
   "execution_count": 26,
   "id": "d8b4920a-b03e-4354-8da5-a9d4b012a08e",
   "metadata": {},
   "outputs": [],
   "source": [
    "#function to get the search query page\n",
    "def get_Amazon_page(search_query):\n",
    "    url= base_url + search_query\n",
    "    print(url)\n",
    "    page=requests.get(url,headers=header)\n",
    "    if page.status_code == 200:\n",
    "        return page\n",
    "    else:\n",
    "        return 'Error'"
   ]
  },
  {
   "cell_type": "code",
   "execution_count": 27,
   "id": "f1ce202c-dc9a-4252-a071-1a73b926af39",
   "metadata": {},
   "outputs": [],
   "source": [
    "#function to get the contents of each product page using the unique identification number(asin)\n",
    "#the /dp/ leads to the directory path to the product detail page\n",
    "def get_asin(asin):\n",
    "    url='https://www.amazon.com/dp/'+asin\n",
    "    print(url)\n",
    "    page=requests.get(url,headers=header)\n",
    "    if page.status_code==200:\n",
    "        return page\n",
    "    else:\n",
    "        return 'Error'"
   ]
  },
  {
   "cell_type": "code",
   "execution_count": 28,
   "id": "874a8b51-8586-421d-a425-0837eb8835fa",
   "metadata": {},
   "outputs": [],
   "source": [
    "#function to extract the content from 'see all reviews' page\n",
    "def get_reviews(review_link):\n",
    "    url='https://www.amazon.com'+ review_link\n",
    "    print(url)\n",
    "    page= requests.get(url,headers=header)\n",
    "    if page.status_code == 200:\n",
    "        return page\n",
    "    else:\n",
    "        return 'Error'"
   ]
  },
  {
   "cell_type": "markdown",
   "id": "5e64c18d-c185-4795-84ac-3d7091d6bb11",
   "metadata": {},
   "source": [
    "Now we begin the extraction of product reviews"
   ]
  },
  {
   "cell_type": "code",
   "execution_count": 19,
   "id": "fab5aa25-bd8d-4551-a9bc-c5ae04c46b3d",
   "metadata": {},
   "outputs": [
    {
     "name": "stdout",
     "output_type": "stream",
     "text": [
      "https://www.amazon.com/s?k=stainless+steel+water+bottle\n"
     ]
    }
   ],
   "source": [
    "#I create the empty list and call my first function. I then inspect element for a product on the page and\n",
    "#find the span element in the html and copy and paste the class\n",
    "product_names=[]\n",
    "response=get_Amazon_page(search_query)\n",
    "soup=BeautifulSoup(response.content)\n",
    "for n in soup.findAll('span',{'class':'a-size-base-plus a-color-base a-text-normal'}):# this tag is common for all the product names\n",
    "        product_names.append(n.text) #adds them to the empty list"
   ]
  },
  {
   "cell_type": "code",
   "execution_count": 20,
   "id": "fb7c1afb-c65b-4d8b-bd50-fd88ceb63495",
   "metadata": {
    "scrolled": true
   },
   "outputs": [
    {
     "data": {
      "text/plain": [
       "['SUNWILL Insulated Water Bottle with Straw, 32 oz Vacuum Stainless Steel Metal Sports Water Bottle with Straw and Spout lid, Wide Mouth, Leak proof, Powder Coated Black',\n",
       " 'Bambaw 32 oz Water Bottle | Metal Water Bottle | Non-insulated Single Wall Stainless Water Bottle | Steel Water Bottle | Stainless Steel Water Bottles | Travel Water Bottle | 1 Liter Water Bottles',\n",
       " 'BJPKPK Insulated Water Bottles with Straw Lid, 40oz Stainless Steel Water Bottles with 3 Lids, Large Metal Water Bottle, BPA Free Leakproof Thermos Water Bottle for Sports & Gym- Mint',\n",
       " 'NATURE PIONEOR Insulated Water Bottles with Paracord Handle - 24/32/40/64 oz Vacuum Sports Wide Mouth Water Bottle with 3 Lids, Leak Proof Stainless Steel Keeps Hot and Cold',\n",
       " 'Owala FreeSip Insulated Stainless Steel Water Bottle with Straw for Sports and Travel, BPA-Free, 24-oz, Very, Very Dark',\n",
       " 'Triple Tree 34OZ Vacuum Insulated Stainless Steel Water Bottle, Double Wall Wide Mouth Lids Keeps beverage Hot or Cold Sweat Proof',\n",
       " 'Hydro Flask Stainless Steel Standard Mouth Water Bottle with Flex Cap and Double-Wall Vacuum Insulation',\n",
       " 'IRON °FLASK Sports Water Bottle - 40 Oz 3 Lids (Straw Lid), Leak Proof - Stainless Steel Gym Bottles for Men, Women & Kids - Double Walled, Insulated Thermos - Valentines Day Gifts for Him or Her',\n",
       " '17oz Triple-Insulated Stainless Steel Water Bottle Set, Keeps Hot & Cold, Leakproof Lids - For Travel, Picnic & Camping',\n",
       " 'ICEWATER - 40 oz Insulated Water Bottle With Auto Straw Lid and Carry Handle, Leakproof Lockable Lid with Soft Silicone Spout, One-hand Operation, Vacuum Stainless Steel, BPA-Free (40 oz, Black)',\n",
       " 'Insulated Water Bottle with Straw,22oz 3 Lids Metal Bottles Stainless Steel Water Flask,Macaron Green',\n",
       " 'MIRA 17 Oz Stainless Steel Vacuum Insulated Water Bottle - Double Walled Cola Shape Thermos - 24 Hours Cold, 12 Hours Hot - Reusable Metal Water Bottle - Leak-Proof Sports Flask - Pearl Blue',\n",
       " 'Bambaw Insulated Water Bottle 24oz | Stainless Steel Water Bottle | Insulated Water Bottles | Travel Water Bottle | Metal Water Bottle | Large Water Bottle | Reusable Water Bottle 750 ml',\n",
       " 'BJPKPK 18oz Insulated Water Bottle With Straw Stainless Steel Double Wall Water Bottles BPA-Free Leak Proof Thermos With Lockable Flip Lid And Soft Silicone Spout,Laguna',\n",
       " 'Simple Modern Water Bottle with Narrow Mouth Straw Lid Metal Thermos Vacuum Insulated Stainless Steel l Reusable Leak Proof BPA-Free Flask | Ascent Collection | 24oz, Forest',\n",
       " 'Bambaw 32 oz Water Bottle | Metal Water Bottle | Non-insulated Single Wall Stainless Water Bottle | Steel Water Bottle | Stainless Steel Water Bottles | Travel Water Bottle | 1 Liter Water Bottles',\n",
       " '64 Oz Insulated Water Bottle With Straw & Paracord Handles & 2 Lids, Leak Proof Metal Water Jug, Hot Cold Stainless Steel Thermal Water Bottles, Half Gallon Large Water Flask for Sports, Gym',\n",
       " 'Oldley Insulated Water Bottle 20oz for Adults Kids Stainless Steel Water Bottles with Straw/Chug/Carabiner 3 Lids Fruit Strainer Double Wall Vacuum Wide Mouth BPA Free Leak-Proof for School Travel',\n",
       " 'BJPKPK Insulated Water Bottles with Straw Lid, 22oz Cold & Hot Water Bottle, Stainless Steel Metal Water Bottle with 3 Lids, Reusable Thermos, Cups, Mugs for Daily Water Intake-Mint',\n",
       " 'HASLE OUTFITTERS 40oz Stainless Steel Water Bottle, Vacuum Insulated Double Walled Leak Proof Sports Water Bottle with 2 Lids (Straw and Spout Lid) Thermo Mug Keep Cold and Hot(Black,1)',\n",
       " 'BJPKPK 64oz Insulated Water Bottle, Dishwasher Safe Half Gallon Water Bottle with Ergonomic Handle, BPA Free Leak Proof Water Jug for Sports, Metal Water Bottle with Anti-slip Bottom, Brick Red',\n",
       " 'MEWAY 17oz Sport Water Bottle Vacuum Insulated Stainless Steel Sport Water Bottle Leak-Proof Double Wall Cola Shape Water Bottle,Keep Drinks Hot & Cold (colorful，12 Pack)',\n",
       " 'SUNWILL Insulated Water Bottle with Straw, Sports & Travel Water Bottle 22oz Double Walled Stainless Steel, Cup Holder Friendly, Reusable Thermal Wide Mouth Flask, Leak Proof BPA Free',\n",
       " 'GOPPUS 24 oz Insulated Double Wall Vacuum Water Bottle With Straw Stainless Steel Sports Water Cup Flask Leakproof Wide Mouth Resusable Water bottles for Kids Men Women',\n",
       " 'VEGOND 17oz Stainless Steel Water Bottles, Reusable Metal Sports Water Bottle Keeps Drink Hot and Cold, BPA Free Double Wall Vacuum Cola Shape Insulated Water Bottle for Camping Gym, 1 Pack',\n",
       " 'WEREWOLVES Insulated Water Bottle With Paracord Handles & Strap & Straw Lid & Spout Lid,Reusable Wide Mouth Vacuum Stainless Steel Water Bottle for Adults 24 oz, 32 oz, 40 oz',\n",
       " 'CIVAGO 32 oz Insulated Water Bottle With Straw, Stainless Steel Sports Water Cup Flask with 3 Lids (Straw, Spout and Handle Lid), Wide Mouth Travel Thermal Mug, Black',\n",
       " 'Neihepal 20 oz Insulated Water Bottles Bulk 2 Pack,Stainless Steel Double Wall Sport Bottle with Lid of Handle,Metal Reusable Thermoses Flask with Cup Cap for School,Cyclists,Gift (Silver,Set of 2)',\n",
       " 'Hydro Flask Stainless Steel Wide Mouth Water Bottle with Flex Cap and Double-Wall Vacuum Insulation',\n",
       " 'Fanhaw 20 Oz Insulated Stainless Steel Water Bottle with Chug Lid - Leak & Sweat Proof with Anti-Dust Lid (Green Blue)',\n",
       " 'IRON FLASK Sports Water Bottle - 24 Oz - 3 Lids (Narrow Straw Lid) - Leak Proof Vacuum Insulated Stainless Steel - Hot & Cold Double Walled Insulated Thermos - Valentines Day Gifts for Him or Her',\n",
       " 'Bambaw Insulated Water Bottle 24oz | Stainless Steel Water Bottle | Insulated Water Bottles | Travel Water Bottle | Metal Water Bottle | Large Water Bottle | Reusable Water Bottle 750 ml',\n",
       " 'Takeya Originals Vacuum Insulated Stainless Steel Water Bottle, 18 oz, Ocean',\n",
       " 'Cortland Chill 2.0 Stainless Steel Vacuum-Insulated Water Bottle with Spill-Proof Lid, Keeps Drinks Hot or Cold for Hours with Interchangeable Lid, 24oz, Blueberry',\n",
       " 'FineDine Insulated Water Bottles with Straw - 25 Oz Stainless Steel Metal Water Bottle W/ 3 Lids - Reusable for Travel, Camping, Bike, Sports - Dreamy Pink-Green',\n",
       " '32oz Water Bottle with Powder Coated, Fit in Any Car Cup Holder, Water Bottle with Straw Lids, Stainless Steel Insulated Water Flask Double Wall Leak-proof BPA Free to Keep Cold&Hot',\n",
       " 'BJPKPK Insulated Water Bottles with Straw Lid, 40oz Stainless Steel Water Bottles with 3 Lids, Large Metal Water Bottle, BPA Free Leakproof Thermos Water Bottle for Sports & Gym- Sakura',\n",
       " 'Simple Modern Water Bottle with Straw and Chug Lid Vacuum Insulated Stainless Steel Metal Thermos Bottles | Reusable Leak Proof BPA-Free Flask for Sports | Summit Collection | 32oz, Almond Birch',\n",
       " 'BJPKPK Insulated Water Bottles, 18oz Stainless Steel Metal Water Bottle with Strap, BPA Free Leak Proof Thermos, Mugs, Flasks, Reusable Water Bottle for School, Sports & Travel, Macaron Green',\n",
       " 'Blockhuette Vacuum Insulated Stainless Steel Water Bottle I 25 oz I Wide Mouth Metal Bottle for hot and cold drinks I BPA-Free I for Travel, School I Kids, Adults, Water Canteen, Sports, flask',\n",
       " 'Coleman FreeFlow Vacuum-Insulated Stainless Steel Water Bottle with Leak-Proof Lid, 24oz/40oz Bottle with Button-Operated Lid & Carry Handle, Keeps Drinks Hot or Cold for Hours',\n",
       " 'BJPKPK 17oz Stainless Steel Water Bottles Dishwasher Safe Sports Insulated Kids Water Bottle for School-Light Pink',\n",
       " '32oz Stainless Steel Water Bottle(Cold for 48 Hrs, Hot for 24 Hrs),Double Wall Vacuum Insulated Water Bottle with Straw Lid, Spout Lid and Flex Cap, Fit in Any Car Cup Holder,Black',\n",
       " 'WEREWOLVES Insulated Water Bottle With Paracord Handles & Strap & Straw Lid & Spout Lid,Reusable Wide Mouth Vacuum Stainless Steel Water Bottle for Adults 24 oz, 32 oz, 40 oz',\n",
       " '40 oz Insulated Water Bottle with Straw, Stainless Steel Sports Water Bottles with 2 Lids (Straw and Wide Mouth lid), Double Wall Vacuum, Leakproof, BPA-Free, White',\n",
       " 'STANLEY IceFlow Stainless Steel Tumbler with Straw, Vacuum Insulated Water Bottle for Home, Office or Car, Reusable Cup with Straw Leakproof Flip',\n",
       " 'Klean Kanteen Classic 27oz (w/Sport Cap) Brushed Stainless',\n",
       " 'SUNWILL Insulated Water Bottle with Straw 32oz, Stainless Steel Travel Water Bottle, Reusable Wide Mouth Flask with 2 Lids (Straw & Spout Lid), Leak Proof BPA Free Thermal Canteen, Navy',\n",
       " 'CamelBak Chute Mag 20oz Vacuum Insulated Stainless Steel Water Bottle, Moss',\n",
       " 'WEREWOLVES Insulated Water Bottle with Straw Lid & Handle Lid, Stainless Steel Water Bottle with Carrier Bag Holder, Reusable Vacuum Narrow Mouth Leak-Proof Bottle for Biking (Blue-Aurora, 21oz)',\n",
       " 'Sports Water Bottle 316 Stainless Steel 32oz with Time Marker, 1000ml Insulated Water Bottle Double Walled with Handle, Metal Canteen Keep Cold 48H Hot 24H for Men, Women & Kids',\n",
       " 'Ello Cooper Stainless Steel Water Bottle with Straw and Carry Handle, Double Walled and Vacuum Insulated Metal, Leak Proof Locking Lid with Soft Silicone Spout, Reusable, BPA Free, 22oz, 32oz, 40oz',\n",
       " 'Insulated Water Bottle 64 oz, Triple Wall Vacuum Stainless Steel (Cold for 48 Hrs), Leak Proof & BPA-Free, Half Gallon Water Flask Jug with Paracord Handle & Straw Spout Lids, Magic Black',\n",
       " 'Stainless Steel Water Bottle with Straw – 24 Oz. Sports Water Bottle Insulated for Hot & Cold Drinks – Spout Lid & 2-in-1 Straw & Sip Insulated Water Bottles Lid – Water Flask (Black)',\n",
       " 'CamelBak Chute Mag 40oz Vacuum Insulated Stainless Steel Water Bottle, Black',\n",
       " 'Contigo Jackson Chill 2.0 Vacuum-Insulated Stainless Steel Water Bottle, Secure Lid Technology for Leak-Proof Travel, Keeps Drinks Cold for 12 Hours, 20oz Blueberry',\n",
       " '40oz Sports Water Bottle, Palopp Metal Flask, Insulated Water Bottle for Travel, Hot or Cold Double Wall Stainless Steel Easy to Clean, Leak-proof & BPA Free for Gym, Picnic, Trip or Commutes-Sunset',\n",
       " 'HYDRO CELL Stainless Steel Insulated Water Bottle with Straw - For Cold & Hot Drinks - Metal Vacuum Flask with Screw Cap and Modern Leakproof Sport Thermos for Kids & Adults (Black 24oz)',\n",
       " 'ThermoFlask Double Wall Vacuum Insulated Stainless Steel Water Bottle with Two Lids, 32 Ounce, Black',\n",
       " 'Simple Modern 40 oz Tumbler with Handle and Straw Lid | Insulated Reusable Stainless Steel Water Bottle Travel Mug Cupholder Friendly | Gifts for Women Men Him Her | Trek Collection | 40oz | Apricot',\n",
       " 'Insulated Water Bottle with Straw,22oz 3 Lids Metal Bottles Stainless Steel Water Flask,Macaron Green',\n",
       " 'Oldley Insulated Water Bottle 20oz for Adults Kids Stainless Steel Water Bottles with Straw/Chug/Carabiner 3 Lids Fruit Strainer Double Wall Vacuum Wide Mouth BPA Free Leak-Proof for School Travel',\n",
       " 'SipX™ Triple-Insulated Stainless Steel Water Bottle 25oz. With 3 Lids, BPA-Free Reusable Insulated Water Bottle Keeps Cold 24 Hours, Metal Water Bottle Made Of Sustainable Material For Hiking & Biking',\n",
       " 'Amazon Basics Stainless Steel Insulated Water Bottle With Spout Lid, 30-Ounce, Gray',\n",
       " 'Gallon Big Water Bottle with Handle, 128oz Leakproof BPA Free Fitness Sports Water Bottle with Motivational Time Marker & Wide Mouth Ensure You Drink More Water',\n",
       " '40th Birthday Gifts Tumbler - Vacuum Insulated Tumbler with Leak Proof Lid and Straw - Unique Funny 40 Year Old Birthday Gifts for Women - Birthday Gift for 40th Man (Violet Teal)',\n",
       " 'MEWAY 17oz Sport Water Bottle 12 Pack Vacuum Insulated Stainless Steel Sport Water Bottle Leak-Proof Double Wall Cola Shape Water Bottle,Keep Drinks Hot & Cold (Silver,12 Pack)',\n",
       " 'Ultralight Portable 900ml Outdoor Titanium Pot with Lid Folding Handle Camping Water Rice Food Bowl Cup Mug Bottle Ti15103B11']"
      ]
     },
     "execution_count": 20,
     "metadata": {},
     "output_type": "execute_result"
    }
   ],
   "source": [
    "product_names"
   ]
  },
  {
   "cell_type": "code",
   "execution_count": 21,
   "id": "91390969-4ab5-442b-95dd-987221ed3445",
   "metadata": {},
   "outputs": [
    {
     "data": {
      "text/plain": [
       "68"
      ]
     },
     "execution_count": 21,
     "metadata": {},
     "output_type": "execute_result"
    }
   ],
   "source": [
    "len(product_names)"
   ]
  },
  {
   "cell_type": "code",
   "execution_count": 32,
   "id": "80434998-79e4-437c-adb1-3a5ed921074e",
   "metadata": {},
   "outputs": [
    {
     "name": "stdout",
     "output_type": "stream",
     "text": [
      "https://www.amazon.com/s?k=stainless+steel+water+bottle\n"
     ]
    }
   ],
   "source": [
    "#getting the unqiue asin numbers uses the same function and method \n",
    "asin_data=[]\n",
    "response=get_Amazon_page(search_query)\n",
    "soup=BeautifulSoup(response.content)\n",
    "for n in soup.findAll('div',{'class':'sg-col-4-of-24 sg-col-4-of-12 s-result-item s-asin sg-col-4-of-16 AdHolder sg-col s-widget-spacing-small sg-col-4-of-20'}):\n",
    "    asin_data.append(n['data-asin'])"
   ]
  },
  {
   "cell_type": "code",
   "execution_count": 33,
   "id": "798b75e1-0c64-4b9e-8668-fe61017073d9",
   "metadata": {},
   "outputs": [
    {
     "data": {
      "text/plain": [
       "['B0BYJDCQ9Z',\n",
       " 'B07MBBP71L',\n",
       " 'B096RSBNXD',\n",
       " 'B0C32XWR15',\n",
       " 'B0C3VJFVLH',\n",
       " 'B01FV60W96',\n",
       " 'B07MPCW3KV',\n",
       " 'B0CGM34BV8',\n",
       " 'B0BYJG1HGP',\n",
       " 'B0BXLG9WB4',\n",
       " 'B0B6574Q7N',\n",
       " 'B09FKYP2JC']"
      ]
     },
     "execution_count": 33,
     "metadata": {},
     "output_type": "execute_result"
    }
   ],
   "source": [
    "asin_data"
   ]
  },
  {
   "cell_type": "code",
   "execution_count": 34,
   "id": "f20f1907-e024-49c7-b1bd-d9f7b830c4fc",
   "metadata": {},
   "outputs": [
    {
     "data": {
      "text/plain": [
       "12"
      ]
     },
     "execution_count": 34,
     "metadata": {},
     "output_type": "execute_result"
    }
   ],
   "source": [
    "len(asin_data)"
   ]
  },
  {
   "cell_type": "markdown",
   "id": "d344aad0-e3e3-4f01-8da3-e12ac1ab426a",
   "metadata": {},
   "source": [
    "Now we pass the asin numbers to extract the 'see all reviews' link for each product page"
   ]
  },
  {
   "cell_type": "code",
   "execution_count": 35,
   "id": "026a9e43-b01d-47b2-8104-f236f1e330b6",
   "metadata": {},
   "outputs": [
    {
     "name": "stdout",
     "output_type": "stream",
     "text": [
      "https://www.amazon.com/dp/B0BYJDCQ9Z\n",
      "https://www.amazon.com/dp/B07MBBP71L\n",
      "https://www.amazon.com/dp/B096RSBNXD\n",
      "https://www.amazon.com/dp/B0C32XWR15\n",
      "https://www.amazon.com/dp/B0C3VJFVLH\n",
      "https://www.amazon.com/dp/B01FV60W96\n",
      "https://www.amazon.com/dp/B07MPCW3KV\n",
      "https://www.amazon.com/dp/B0CGM34BV8\n",
      "https://www.amazon.com/dp/B0BYJG1HGP\n",
      "https://www.amazon.com/dp/B0BXLG9WB4\n",
      "https://www.amazon.com/dp/B0B6574Q7N\n",
      "https://www.amazon.com/dp/B09FKYP2JC\n"
     ]
    }
   ],
   "source": [
    "link=[]\n",
    "for n in range(len(asin_data)):\n",
    "    response=get_asin(asin_data[n])\n",
    "    soup=BeautifulSoup(response.content)\n",
    "    for n in soup.findAll('a',{'data-hook':'see-all-reviews-link-foot'}):\n",
    "        link.append(n['href'])"
   ]
  },
  {
   "cell_type": "code",
   "execution_count": 36,
   "id": "981c25e6-113c-4c0c-98ff-61249e984af4",
   "metadata": {
    "scrolled": true
   },
   "outputs": [
    {
     "data": {
      "text/plain": [
       "['/SUNWILL-Insulated-Bottle-Vacuum-Stainless/product-reviews/B0BYJDCQ9Z/ref=cm_cr_dp_d_show_all_btm?ie=UTF8&reviewerType=all_reviews',\n",
       " '/Bambaw-Stainless-Friendly-Reusable-Leakproof/product-reviews/B07MBBP71L/ref=cm_cr_dp_d_show_all_btm?ie=UTF8&reviewerType=all_reviews',\n",
       " '/Bambaw-Stainless-Friendly-Reusable-Leakproof/product-reviews/B07MBBP71L/ref=cm_cr_dp_d_show_all_btm?ie=UTF8&reviewerType=all_reviews',\n",
       " '/BJPKPK-Stainless-Bottles-Insulated-School/product-reviews/B096RSBNXD/ref=cm_cr_dp_d_show_all_btm?ie=UTF8&reviewerType=all_reviews',\n",
       " '/BJPKPK-Stainless-Bottles-Insulated-School/product-reviews/B096RSBNXD/ref=cm_cr_dp_d_show_all_btm?ie=UTF8&reviewerType=all_reviews',\n",
       " '/NATURE-PIONEOR-Insulated-Bottles-Paracord/product-reviews/B0C32XWR15/ref=cm_cr_dp_d_show_all_btm?ie=UTF8&reviewerType=all_reviews',\n",
       " '/NATURE-PIONEOR-Insulated-Bottles-Paracord/product-reviews/B0C32XWR15/ref=cm_cr_dp_d_show_all_btm?ie=UTF8&reviewerType=all_reviews',\n",
       " '/Konokyo-Insulated-Bottles-Stainless-Macaron/product-reviews/B0C3VJFVLH/ref=cm_cr_dp_d_show_all_btm?ie=UTF8&reviewerType=all_reviews',\n",
       " '/MIRA-Stainless-Vacuum-Insulated-Leak-Proof/product-reviews/B01FV60W96/ref=cm_cr_dp_d_show_all_btm?ie=UTF8&reviewerType=all_reviews',\n",
       " '/MIRA-Stainless-Vacuum-Insulated-Leak-Proof/product-reviews/B01FV60W96/ref=cm_cr_dp_d_show_all_btm?ie=UTF8&reviewerType=all_reviews',\n",
       " '/Bambaw-Insulated-Stainless-Friendly-Leakproof/product-reviews/B07MPCW3KV/ref=cm_cr_dp_d_show_all_btm?ie=UTF8&reviewerType=all_reviews',\n",
       " '/Bambaw-Insulated-Stainless-Friendly-Leakproof/product-reviews/B07MPCW3KV/ref=cm_cr_dp_d_show_all_btm?ie=UTF8&reviewerType=all_reviews',\n",
       " '/BJPKPK-Insulated-Stainless-BPA-Free-Lockable/product-reviews/B0CGM34BV8/ref=cm_cr_dp_d_show_all_btm?ie=UTF8&reviewerType=all_reviews',\n",
       " '/SUNWILL-Insulated-Stainless-Friendly-Reusable/product-reviews/B0BYJG1HGP/ref=cm_cr_dp_d_show_all_btm?ie=UTF8&reviewerType=all_reviews',\n",
       " '/GOPPUS-Insulated-Stainless-Leakproof-Resusable/product-reviews/B0BXLG9WB4/ref=cm_cr_dp_d_show_all_btm?ie=UTF8&reviewerType=all_reviews',\n",
       " '/GOPPUS-Insulated-Stainless-Leakproof-Resusable/product-reviews/B0BXLG9WB4/ref=cm_cr_dp_d_show_all_btm?ie=UTF8&reviewerType=all_reviews',\n",
       " '/VEGOND-Stainless-Bottles-Reusable-Insulated/product-reviews/B0B6574Q7N/ref=cm_cr_dp_d_show_all_btm?ie=UTF8&reviewerType=all_reviews',\n",
       " '/VEGOND-Stainless-Bottles-Reusable-Insulated/product-reviews/B0B6574Q7N/ref=cm_cr_dp_d_show_all_btm?ie=UTF8&reviewerType=all_reviews',\n",
       " '/WEREWOLVES-Insulated-Handles-Reusable-Stainless/product-reviews/B09H468NTT/ref=cm_cr_dp_d_show_all_btm?ie=UTF8&reviewerType=all_reviews',\n",
       " '/WEREWOLVES-Insulated-Handles-Reusable-Stainless/product-reviews/B09H468NTT/ref=cm_cr_dp_d_show_all_btm?ie=UTF8&reviewerType=all_reviews']"
      ]
     },
     "execution_count": 36,
     "metadata": {},
     "output_type": "execute_result"
    }
   ],
   "source": [
    "link"
   ]
  },
  {
   "cell_type": "code",
   "execution_count": 37,
   "id": "2aad8082-d94e-4b20-b17f-d83417184005",
   "metadata": {},
   "outputs": [
    {
     "data": {
      "text/plain": [
       "20"
      ]
     },
     "execution_count": 37,
     "metadata": {},
     "output_type": "execute_result"
    }
   ],
   "source": [
    "len(link)"
   ]
  },
  {
   "cell_type": "markdown",
   "id": "601d2ff4-d9a7-4820-80ce-5af98455e8ca",
   "metadata": {},
   "source": [
    "Now that we have the links for the 'see all reviews' page we can extract the reviews from pages"
   ]
  },
  {
   "cell_type": "code",
   "execution_count": 47,
   "id": "d95ec866-ae77-42f7-8670-2c1c776feb22",
   "metadata": {
    "scrolled": true
   },
   "outputs": [
    {
     "name": "stdout",
     "output_type": "stream",
     "text": [
      "https://www.amazon.com/SUNWILL-Insulated-Bottle-Vacuum-Stainless/product-reviews/B0BYJDCQ9Z/ref=cm_cr_dp_d_show_all_btm?ie=UTF8&reviewerType=all_reviews&pageNumber=0\n",
      "https://www.amazon.com/SUNWILL-Insulated-Bottle-Vacuum-Stainless/product-reviews/B0BYJDCQ9Z/ref=cm_cr_dp_d_show_all_btm?ie=UTF8&reviewerType=all_reviews&pageNumber=1\n",
      "https://www.amazon.com/SUNWILL-Insulated-Bottle-Vacuum-Stainless/product-reviews/B0BYJDCQ9Z/ref=cm_cr_dp_d_show_all_btm?ie=UTF8&reviewerType=all_reviews&pageNumber=2\n",
      "https://www.amazon.com/SUNWILL-Insulated-Bottle-Vacuum-Stainless/product-reviews/B0BYJDCQ9Z/ref=cm_cr_dp_d_show_all_btm?ie=UTF8&reviewerType=all_reviews&pageNumber=3\n",
      "https://www.amazon.com/SUNWILL-Insulated-Bottle-Vacuum-Stainless/product-reviews/B0BYJDCQ9Z/ref=cm_cr_dp_d_show_all_btm?ie=UTF8&reviewerType=all_reviews&pageNumber=4\n",
      "https://www.amazon.com/SUNWILL-Insulated-Bottle-Vacuum-Stainless/product-reviews/B0BYJDCQ9Z/ref=cm_cr_dp_d_show_all_btm?ie=UTF8&reviewerType=all_reviews&pageNumber=5\n",
      "https://www.amazon.com/SUNWILL-Insulated-Bottle-Vacuum-Stainless/product-reviews/B0BYJDCQ9Z/ref=cm_cr_dp_d_show_all_btm?ie=UTF8&reviewerType=all_reviews&pageNumber=6\n",
      "https://www.amazon.com/SUNWILL-Insulated-Bottle-Vacuum-Stainless/product-reviews/B0BYJDCQ9Z/ref=cm_cr_dp_d_show_all_btm?ie=UTF8&reviewerType=all_reviews&pageNumber=7\n",
      "https://www.amazon.com/SUNWILL-Insulated-Bottle-Vacuum-Stainless/product-reviews/B0BYJDCQ9Z/ref=cm_cr_dp_d_show_all_btm?ie=UTF8&reviewerType=all_reviews&pageNumber=8\n",
      "https://www.amazon.com/SUNWILL-Insulated-Bottle-Vacuum-Stainless/product-reviews/B0BYJDCQ9Z/ref=cm_cr_dp_d_show_all_btm?ie=UTF8&reviewerType=all_reviews&pageNumber=9\n",
      "https://www.amazon.com/SUNWILL-Insulated-Bottle-Vacuum-Stainless/product-reviews/B0BYJDCQ9Z/ref=cm_cr_dp_d_show_all_btm?ie=UTF8&reviewerType=all_reviews&pageNumber=10\n",
      "https://www.amazon.com/SUNWILL-Insulated-Bottle-Vacuum-Stainless/product-reviews/B0BYJDCQ9Z/ref=cm_cr_dp_d_show_all_btm?ie=UTF8&reviewerType=all_reviews&pageNumber=11\n",
      "https://www.amazon.com/SUNWILL-Insulated-Bottle-Vacuum-Stainless/product-reviews/B0BYJDCQ9Z/ref=cm_cr_dp_d_show_all_btm?ie=UTF8&reviewerType=all_reviews&pageNumber=12\n",
      "https://www.amazon.com/SUNWILL-Insulated-Bottle-Vacuum-Stainless/product-reviews/B0BYJDCQ9Z/ref=cm_cr_dp_d_show_all_btm?ie=UTF8&reviewerType=all_reviews&pageNumber=13\n",
      "https://www.amazon.com/SUNWILL-Insulated-Bottle-Vacuum-Stainless/product-reviews/B0BYJDCQ9Z/ref=cm_cr_dp_d_show_all_btm?ie=UTF8&reviewerType=all_reviews&pageNumber=14\n",
      "https://www.amazon.com/SUNWILL-Insulated-Bottle-Vacuum-Stainless/product-reviews/B0BYJDCQ9Z/ref=cm_cr_dp_d_show_all_btm?ie=UTF8&reviewerType=all_reviews&pageNumber=15\n",
      "https://www.amazon.com/SUNWILL-Insulated-Bottle-Vacuum-Stainless/product-reviews/B0BYJDCQ9Z/ref=cm_cr_dp_d_show_all_btm?ie=UTF8&reviewerType=all_reviews&pageNumber=16\n",
      "https://www.amazon.com/SUNWILL-Insulated-Bottle-Vacuum-Stainless/product-reviews/B0BYJDCQ9Z/ref=cm_cr_dp_d_show_all_btm?ie=UTF8&reviewerType=all_reviews&pageNumber=17\n",
      "https://www.amazon.com/SUNWILL-Insulated-Bottle-Vacuum-Stainless/product-reviews/B0BYJDCQ9Z/ref=cm_cr_dp_d_show_all_btm?ie=UTF8&reviewerType=all_reviews&pageNumber=18\n",
      "https://www.amazon.com/SUNWILL-Insulated-Bottle-Vacuum-Stainless/product-reviews/B0BYJDCQ9Z/ref=cm_cr_dp_d_show_all_btm?ie=UTF8&reviewerType=all_reviews&pageNumber=19\n",
      "https://www.amazon.com/Bambaw-Stainless-Friendly-Reusable-Leakproof/product-reviews/B07MBBP71L/ref=cm_cr_dp_d_show_all_btm?ie=UTF8&reviewerType=all_reviews&pageNumber=0\n",
      "https://www.amazon.com/Bambaw-Stainless-Friendly-Reusable-Leakproof/product-reviews/B07MBBP71L/ref=cm_cr_dp_d_show_all_btm?ie=UTF8&reviewerType=all_reviews&pageNumber=1\n",
      "https://www.amazon.com/Bambaw-Stainless-Friendly-Reusable-Leakproof/product-reviews/B07MBBP71L/ref=cm_cr_dp_d_show_all_btm?ie=UTF8&reviewerType=all_reviews&pageNumber=2\n",
      "https://www.amazon.com/Bambaw-Stainless-Friendly-Reusable-Leakproof/product-reviews/B07MBBP71L/ref=cm_cr_dp_d_show_all_btm?ie=UTF8&reviewerType=all_reviews&pageNumber=3\n",
      "https://www.amazon.com/Bambaw-Stainless-Friendly-Reusable-Leakproof/product-reviews/B07MBBP71L/ref=cm_cr_dp_d_show_all_btm?ie=UTF8&reviewerType=all_reviews&pageNumber=4\n",
      "https://www.amazon.com/Bambaw-Stainless-Friendly-Reusable-Leakproof/product-reviews/B07MBBP71L/ref=cm_cr_dp_d_show_all_btm?ie=UTF8&reviewerType=all_reviews&pageNumber=5\n",
      "https://www.amazon.com/Bambaw-Stainless-Friendly-Reusable-Leakproof/product-reviews/B07MBBP71L/ref=cm_cr_dp_d_show_all_btm?ie=UTF8&reviewerType=all_reviews&pageNumber=6\n",
      "https://www.amazon.com/Bambaw-Stainless-Friendly-Reusable-Leakproof/product-reviews/B07MBBP71L/ref=cm_cr_dp_d_show_all_btm?ie=UTF8&reviewerType=all_reviews&pageNumber=7\n",
      "https://www.amazon.com/Bambaw-Stainless-Friendly-Reusable-Leakproof/product-reviews/B07MBBP71L/ref=cm_cr_dp_d_show_all_btm?ie=UTF8&reviewerType=all_reviews&pageNumber=8\n",
      "https://www.amazon.com/Bambaw-Stainless-Friendly-Reusable-Leakproof/product-reviews/B07MBBP71L/ref=cm_cr_dp_d_show_all_btm?ie=UTF8&reviewerType=all_reviews&pageNumber=9\n",
      "https://www.amazon.com/Bambaw-Stainless-Friendly-Reusable-Leakproof/product-reviews/B07MBBP71L/ref=cm_cr_dp_d_show_all_btm?ie=UTF8&reviewerType=all_reviews&pageNumber=10\n",
      "https://www.amazon.com/Bambaw-Stainless-Friendly-Reusable-Leakproof/product-reviews/B07MBBP71L/ref=cm_cr_dp_d_show_all_btm?ie=UTF8&reviewerType=all_reviews&pageNumber=11\n",
      "https://www.amazon.com/Bambaw-Stainless-Friendly-Reusable-Leakproof/product-reviews/B07MBBP71L/ref=cm_cr_dp_d_show_all_btm?ie=UTF8&reviewerType=all_reviews&pageNumber=12\n",
      "https://www.amazon.com/Bambaw-Stainless-Friendly-Reusable-Leakproof/product-reviews/B07MBBP71L/ref=cm_cr_dp_d_show_all_btm?ie=UTF8&reviewerType=all_reviews&pageNumber=13\n",
      "https://www.amazon.com/Bambaw-Stainless-Friendly-Reusable-Leakproof/product-reviews/B07MBBP71L/ref=cm_cr_dp_d_show_all_btm?ie=UTF8&reviewerType=all_reviews&pageNumber=14\n",
      "https://www.amazon.com/Bambaw-Stainless-Friendly-Reusable-Leakproof/product-reviews/B07MBBP71L/ref=cm_cr_dp_d_show_all_btm?ie=UTF8&reviewerType=all_reviews&pageNumber=15\n",
      "https://www.amazon.com/Bambaw-Stainless-Friendly-Reusable-Leakproof/product-reviews/B07MBBP71L/ref=cm_cr_dp_d_show_all_btm?ie=UTF8&reviewerType=all_reviews&pageNumber=16\n",
      "https://www.amazon.com/Bambaw-Stainless-Friendly-Reusable-Leakproof/product-reviews/B07MBBP71L/ref=cm_cr_dp_d_show_all_btm?ie=UTF8&reviewerType=all_reviews&pageNumber=17\n",
      "https://www.amazon.com/Bambaw-Stainless-Friendly-Reusable-Leakproof/product-reviews/B07MBBP71L/ref=cm_cr_dp_d_show_all_btm?ie=UTF8&reviewerType=all_reviews&pageNumber=18\n",
      "https://www.amazon.com/Bambaw-Stainless-Friendly-Reusable-Leakproof/product-reviews/B07MBBP71L/ref=cm_cr_dp_d_show_all_btm?ie=UTF8&reviewerType=all_reviews&pageNumber=19\n",
      "https://www.amazon.com/Bambaw-Stainless-Friendly-Reusable-Leakproof/product-reviews/B07MBBP71L/ref=cm_cr_dp_d_show_all_btm?ie=UTF8&reviewerType=all_reviews&pageNumber=0\n",
      "https://www.amazon.com/Bambaw-Stainless-Friendly-Reusable-Leakproof/product-reviews/B07MBBP71L/ref=cm_cr_dp_d_show_all_btm?ie=UTF8&reviewerType=all_reviews&pageNumber=1\n",
      "https://www.amazon.com/Bambaw-Stainless-Friendly-Reusable-Leakproof/product-reviews/B07MBBP71L/ref=cm_cr_dp_d_show_all_btm?ie=UTF8&reviewerType=all_reviews&pageNumber=2\n",
      "https://www.amazon.com/Bambaw-Stainless-Friendly-Reusable-Leakproof/product-reviews/B07MBBP71L/ref=cm_cr_dp_d_show_all_btm?ie=UTF8&reviewerType=all_reviews&pageNumber=3\n",
      "https://www.amazon.com/Bambaw-Stainless-Friendly-Reusable-Leakproof/product-reviews/B07MBBP71L/ref=cm_cr_dp_d_show_all_btm?ie=UTF8&reviewerType=all_reviews&pageNumber=4\n",
      "https://www.amazon.com/Bambaw-Stainless-Friendly-Reusable-Leakproof/product-reviews/B07MBBP71L/ref=cm_cr_dp_d_show_all_btm?ie=UTF8&reviewerType=all_reviews&pageNumber=5\n",
      "https://www.amazon.com/Bambaw-Stainless-Friendly-Reusable-Leakproof/product-reviews/B07MBBP71L/ref=cm_cr_dp_d_show_all_btm?ie=UTF8&reviewerType=all_reviews&pageNumber=6\n",
      "https://www.amazon.com/Bambaw-Stainless-Friendly-Reusable-Leakproof/product-reviews/B07MBBP71L/ref=cm_cr_dp_d_show_all_btm?ie=UTF8&reviewerType=all_reviews&pageNumber=7\n",
      "https://www.amazon.com/Bambaw-Stainless-Friendly-Reusable-Leakproof/product-reviews/B07MBBP71L/ref=cm_cr_dp_d_show_all_btm?ie=UTF8&reviewerType=all_reviews&pageNumber=8\n",
      "https://www.amazon.com/Bambaw-Stainless-Friendly-Reusable-Leakproof/product-reviews/B07MBBP71L/ref=cm_cr_dp_d_show_all_btm?ie=UTF8&reviewerType=all_reviews&pageNumber=9\n",
      "https://www.amazon.com/Bambaw-Stainless-Friendly-Reusable-Leakproof/product-reviews/B07MBBP71L/ref=cm_cr_dp_d_show_all_btm?ie=UTF8&reviewerType=all_reviews&pageNumber=10\n",
      "https://www.amazon.com/Bambaw-Stainless-Friendly-Reusable-Leakproof/product-reviews/B07MBBP71L/ref=cm_cr_dp_d_show_all_btm?ie=UTF8&reviewerType=all_reviews&pageNumber=11\n",
      "https://www.amazon.com/Bambaw-Stainless-Friendly-Reusable-Leakproof/product-reviews/B07MBBP71L/ref=cm_cr_dp_d_show_all_btm?ie=UTF8&reviewerType=all_reviews&pageNumber=12\n",
      "https://www.amazon.com/Bambaw-Stainless-Friendly-Reusable-Leakproof/product-reviews/B07MBBP71L/ref=cm_cr_dp_d_show_all_btm?ie=UTF8&reviewerType=all_reviews&pageNumber=13\n",
      "https://www.amazon.com/Bambaw-Stainless-Friendly-Reusable-Leakproof/product-reviews/B07MBBP71L/ref=cm_cr_dp_d_show_all_btm?ie=UTF8&reviewerType=all_reviews&pageNumber=14\n",
      "https://www.amazon.com/Bambaw-Stainless-Friendly-Reusable-Leakproof/product-reviews/B07MBBP71L/ref=cm_cr_dp_d_show_all_btm?ie=UTF8&reviewerType=all_reviews&pageNumber=15\n",
      "https://www.amazon.com/Bambaw-Stainless-Friendly-Reusable-Leakproof/product-reviews/B07MBBP71L/ref=cm_cr_dp_d_show_all_btm?ie=UTF8&reviewerType=all_reviews&pageNumber=16\n",
      "https://www.amazon.com/Bambaw-Stainless-Friendly-Reusable-Leakproof/product-reviews/B07MBBP71L/ref=cm_cr_dp_d_show_all_btm?ie=UTF8&reviewerType=all_reviews&pageNumber=17\n",
      "https://www.amazon.com/Bambaw-Stainless-Friendly-Reusable-Leakproof/product-reviews/B07MBBP71L/ref=cm_cr_dp_d_show_all_btm?ie=UTF8&reviewerType=all_reviews&pageNumber=18\n",
      "https://www.amazon.com/Bambaw-Stainless-Friendly-Reusable-Leakproof/product-reviews/B07MBBP71L/ref=cm_cr_dp_d_show_all_btm?ie=UTF8&reviewerType=all_reviews&pageNumber=19\n",
      "https://www.amazon.com/BJPKPK-Stainless-Bottles-Insulated-School/product-reviews/B096RSBNXD/ref=cm_cr_dp_d_show_all_btm?ie=UTF8&reviewerType=all_reviews&pageNumber=0\n",
      "https://www.amazon.com/BJPKPK-Stainless-Bottles-Insulated-School/product-reviews/B096RSBNXD/ref=cm_cr_dp_d_show_all_btm?ie=UTF8&reviewerType=all_reviews&pageNumber=1\n",
      "https://www.amazon.com/BJPKPK-Stainless-Bottles-Insulated-School/product-reviews/B096RSBNXD/ref=cm_cr_dp_d_show_all_btm?ie=UTF8&reviewerType=all_reviews&pageNumber=2\n",
      "https://www.amazon.com/BJPKPK-Stainless-Bottles-Insulated-School/product-reviews/B096RSBNXD/ref=cm_cr_dp_d_show_all_btm?ie=UTF8&reviewerType=all_reviews&pageNumber=3\n",
      "https://www.amazon.com/BJPKPK-Stainless-Bottles-Insulated-School/product-reviews/B096RSBNXD/ref=cm_cr_dp_d_show_all_btm?ie=UTF8&reviewerType=all_reviews&pageNumber=4\n",
      "https://www.amazon.com/BJPKPK-Stainless-Bottles-Insulated-School/product-reviews/B096RSBNXD/ref=cm_cr_dp_d_show_all_btm?ie=UTF8&reviewerType=all_reviews&pageNumber=5\n",
      "https://www.amazon.com/BJPKPK-Stainless-Bottles-Insulated-School/product-reviews/B096RSBNXD/ref=cm_cr_dp_d_show_all_btm?ie=UTF8&reviewerType=all_reviews&pageNumber=6\n",
      "https://www.amazon.com/BJPKPK-Stainless-Bottles-Insulated-School/product-reviews/B096RSBNXD/ref=cm_cr_dp_d_show_all_btm?ie=UTF8&reviewerType=all_reviews&pageNumber=7\n",
      "https://www.amazon.com/BJPKPK-Stainless-Bottles-Insulated-School/product-reviews/B096RSBNXD/ref=cm_cr_dp_d_show_all_btm?ie=UTF8&reviewerType=all_reviews&pageNumber=8\n",
      "https://www.amazon.com/BJPKPK-Stainless-Bottles-Insulated-School/product-reviews/B096RSBNXD/ref=cm_cr_dp_d_show_all_btm?ie=UTF8&reviewerType=all_reviews&pageNumber=9\n",
      "https://www.amazon.com/BJPKPK-Stainless-Bottles-Insulated-School/product-reviews/B096RSBNXD/ref=cm_cr_dp_d_show_all_btm?ie=UTF8&reviewerType=all_reviews&pageNumber=10\n",
      "https://www.amazon.com/BJPKPK-Stainless-Bottles-Insulated-School/product-reviews/B096RSBNXD/ref=cm_cr_dp_d_show_all_btm?ie=UTF8&reviewerType=all_reviews&pageNumber=11\n",
      "https://www.amazon.com/BJPKPK-Stainless-Bottles-Insulated-School/product-reviews/B096RSBNXD/ref=cm_cr_dp_d_show_all_btm?ie=UTF8&reviewerType=all_reviews&pageNumber=12\n",
      "https://www.amazon.com/BJPKPK-Stainless-Bottles-Insulated-School/product-reviews/B096RSBNXD/ref=cm_cr_dp_d_show_all_btm?ie=UTF8&reviewerType=all_reviews&pageNumber=13\n",
      "https://www.amazon.com/BJPKPK-Stainless-Bottles-Insulated-School/product-reviews/B096RSBNXD/ref=cm_cr_dp_d_show_all_btm?ie=UTF8&reviewerType=all_reviews&pageNumber=14\n",
      "https://www.amazon.com/BJPKPK-Stainless-Bottles-Insulated-School/product-reviews/B096RSBNXD/ref=cm_cr_dp_d_show_all_btm?ie=UTF8&reviewerType=all_reviews&pageNumber=15\n",
      "https://www.amazon.com/BJPKPK-Stainless-Bottles-Insulated-School/product-reviews/B096RSBNXD/ref=cm_cr_dp_d_show_all_btm?ie=UTF8&reviewerType=all_reviews&pageNumber=16\n",
      "https://www.amazon.com/BJPKPK-Stainless-Bottles-Insulated-School/product-reviews/B096RSBNXD/ref=cm_cr_dp_d_show_all_btm?ie=UTF8&reviewerType=all_reviews&pageNumber=17\n",
      "https://www.amazon.com/BJPKPK-Stainless-Bottles-Insulated-School/product-reviews/B096RSBNXD/ref=cm_cr_dp_d_show_all_btm?ie=UTF8&reviewerType=all_reviews&pageNumber=18\n",
      "https://www.amazon.com/BJPKPK-Stainless-Bottles-Insulated-School/product-reviews/B096RSBNXD/ref=cm_cr_dp_d_show_all_btm?ie=UTF8&reviewerType=all_reviews&pageNumber=19\n",
      "https://www.amazon.com/BJPKPK-Stainless-Bottles-Insulated-School/product-reviews/B096RSBNXD/ref=cm_cr_dp_d_show_all_btm?ie=UTF8&reviewerType=all_reviews&pageNumber=0\n",
      "https://www.amazon.com/BJPKPK-Stainless-Bottles-Insulated-School/product-reviews/B096RSBNXD/ref=cm_cr_dp_d_show_all_btm?ie=UTF8&reviewerType=all_reviews&pageNumber=1\n",
      "https://www.amazon.com/BJPKPK-Stainless-Bottles-Insulated-School/product-reviews/B096RSBNXD/ref=cm_cr_dp_d_show_all_btm?ie=UTF8&reviewerType=all_reviews&pageNumber=2\n",
      "https://www.amazon.com/BJPKPK-Stainless-Bottles-Insulated-School/product-reviews/B096RSBNXD/ref=cm_cr_dp_d_show_all_btm?ie=UTF8&reviewerType=all_reviews&pageNumber=3\n",
      "https://www.amazon.com/BJPKPK-Stainless-Bottles-Insulated-School/product-reviews/B096RSBNXD/ref=cm_cr_dp_d_show_all_btm?ie=UTF8&reviewerType=all_reviews&pageNumber=4\n",
      "https://www.amazon.com/BJPKPK-Stainless-Bottles-Insulated-School/product-reviews/B096RSBNXD/ref=cm_cr_dp_d_show_all_btm?ie=UTF8&reviewerType=all_reviews&pageNumber=5\n",
      "https://www.amazon.com/BJPKPK-Stainless-Bottles-Insulated-School/product-reviews/B096RSBNXD/ref=cm_cr_dp_d_show_all_btm?ie=UTF8&reviewerType=all_reviews&pageNumber=6\n",
      "https://www.amazon.com/BJPKPK-Stainless-Bottles-Insulated-School/product-reviews/B096RSBNXD/ref=cm_cr_dp_d_show_all_btm?ie=UTF8&reviewerType=all_reviews&pageNumber=7\n",
      "https://www.amazon.com/BJPKPK-Stainless-Bottles-Insulated-School/product-reviews/B096RSBNXD/ref=cm_cr_dp_d_show_all_btm?ie=UTF8&reviewerType=all_reviews&pageNumber=8\n",
      "https://www.amazon.com/BJPKPK-Stainless-Bottles-Insulated-School/product-reviews/B096RSBNXD/ref=cm_cr_dp_d_show_all_btm?ie=UTF8&reviewerType=all_reviews&pageNumber=9\n",
      "https://www.amazon.com/BJPKPK-Stainless-Bottles-Insulated-School/product-reviews/B096RSBNXD/ref=cm_cr_dp_d_show_all_btm?ie=UTF8&reviewerType=all_reviews&pageNumber=10\n",
      "https://www.amazon.com/BJPKPK-Stainless-Bottles-Insulated-School/product-reviews/B096RSBNXD/ref=cm_cr_dp_d_show_all_btm?ie=UTF8&reviewerType=all_reviews&pageNumber=11\n",
      "https://www.amazon.com/BJPKPK-Stainless-Bottles-Insulated-School/product-reviews/B096RSBNXD/ref=cm_cr_dp_d_show_all_btm?ie=UTF8&reviewerType=all_reviews&pageNumber=12\n",
      "https://www.amazon.com/BJPKPK-Stainless-Bottles-Insulated-School/product-reviews/B096RSBNXD/ref=cm_cr_dp_d_show_all_btm?ie=UTF8&reviewerType=all_reviews&pageNumber=13\n",
      "https://www.amazon.com/BJPKPK-Stainless-Bottles-Insulated-School/product-reviews/B096RSBNXD/ref=cm_cr_dp_d_show_all_btm?ie=UTF8&reviewerType=all_reviews&pageNumber=14\n",
      "https://www.amazon.com/BJPKPK-Stainless-Bottles-Insulated-School/product-reviews/B096RSBNXD/ref=cm_cr_dp_d_show_all_btm?ie=UTF8&reviewerType=all_reviews&pageNumber=15\n",
      "https://www.amazon.com/BJPKPK-Stainless-Bottles-Insulated-School/product-reviews/B096RSBNXD/ref=cm_cr_dp_d_show_all_btm?ie=UTF8&reviewerType=all_reviews&pageNumber=16\n",
      "https://www.amazon.com/BJPKPK-Stainless-Bottles-Insulated-School/product-reviews/B096RSBNXD/ref=cm_cr_dp_d_show_all_btm?ie=UTF8&reviewerType=all_reviews&pageNumber=17\n",
      "https://www.amazon.com/BJPKPK-Stainless-Bottles-Insulated-School/product-reviews/B096RSBNXD/ref=cm_cr_dp_d_show_all_btm?ie=UTF8&reviewerType=all_reviews&pageNumber=18\n",
      "https://www.amazon.com/BJPKPK-Stainless-Bottles-Insulated-School/product-reviews/B096RSBNXD/ref=cm_cr_dp_d_show_all_btm?ie=UTF8&reviewerType=all_reviews&pageNumber=19\n",
      "https://www.amazon.com/NATURE-PIONEOR-Insulated-Bottles-Paracord/product-reviews/B0C32XWR15/ref=cm_cr_dp_d_show_all_btm?ie=UTF8&reviewerType=all_reviews&pageNumber=0\n",
      "https://www.amazon.com/NATURE-PIONEOR-Insulated-Bottles-Paracord/product-reviews/B0C32XWR15/ref=cm_cr_dp_d_show_all_btm?ie=UTF8&reviewerType=all_reviews&pageNumber=1\n",
      "https://www.amazon.com/NATURE-PIONEOR-Insulated-Bottles-Paracord/product-reviews/B0C32XWR15/ref=cm_cr_dp_d_show_all_btm?ie=UTF8&reviewerType=all_reviews&pageNumber=2\n",
      "https://www.amazon.com/NATURE-PIONEOR-Insulated-Bottles-Paracord/product-reviews/B0C32XWR15/ref=cm_cr_dp_d_show_all_btm?ie=UTF8&reviewerType=all_reviews&pageNumber=3\n",
      "https://www.amazon.com/NATURE-PIONEOR-Insulated-Bottles-Paracord/product-reviews/B0C32XWR15/ref=cm_cr_dp_d_show_all_btm?ie=UTF8&reviewerType=all_reviews&pageNumber=4\n",
      "https://www.amazon.com/NATURE-PIONEOR-Insulated-Bottles-Paracord/product-reviews/B0C32XWR15/ref=cm_cr_dp_d_show_all_btm?ie=UTF8&reviewerType=all_reviews&pageNumber=5\n",
      "https://www.amazon.com/NATURE-PIONEOR-Insulated-Bottles-Paracord/product-reviews/B0C32XWR15/ref=cm_cr_dp_d_show_all_btm?ie=UTF8&reviewerType=all_reviews&pageNumber=6\n",
      "https://www.amazon.com/NATURE-PIONEOR-Insulated-Bottles-Paracord/product-reviews/B0C32XWR15/ref=cm_cr_dp_d_show_all_btm?ie=UTF8&reviewerType=all_reviews&pageNumber=7\n",
      "https://www.amazon.com/NATURE-PIONEOR-Insulated-Bottles-Paracord/product-reviews/B0C32XWR15/ref=cm_cr_dp_d_show_all_btm?ie=UTF8&reviewerType=all_reviews&pageNumber=8\n",
      "https://www.amazon.com/NATURE-PIONEOR-Insulated-Bottles-Paracord/product-reviews/B0C32XWR15/ref=cm_cr_dp_d_show_all_btm?ie=UTF8&reviewerType=all_reviews&pageNumber=9\n",
      "https://www.amazon.com/NATURE-PIONEOR-Insulated-Bottles-Paracord/product-reviews/B0C32XWR15/ref=cm_cr_dp_d_show_all_btm?ie=UTF8&reviewerType=all_reviews&pageNumber=10\n",
      "https://www.amazon.com/NATURE-PIONEOR-Insulated-Bottles-Paracord/product-reviews/B0C32XWR15/ref=cm_cr_dp_d_show_all_btm?ie=UTF8&reviewerType=all_reviews&pageNumber=11\n",
      "https://www.amazon.com/NATURE-PIONEOR-Insulated-Bottles-Paracord/product-reviews/B0C32XWR15/ref=cm_cr_dp_d_show_all_btm?ie=UTF8&reviewerType=all_reviews&pageNumber=12\n",
      "https://www.amazon.com/NATURE-PIONEOR-Insulated-Bottles-Paracord/product-reviews/B0C32XWR15/ref=cm_cr_dp_d_show_all_btm?ie=UTF8&reviewerType=all_reviews&pageNumber=13\n",
      "https://www.amazon.com/NATURE-PIONEOR-Insulated-Bottles-Paracord/product-reviews/B0C32XWR15/ref=cm_cr_dp_d_show_all_btm?ie=UTF8&reviewerType=all_reviews&pageNumber=14\n",
      "https://www.amazon.com/NATURE-PIONEOR-Insulated-Bottles-Paracord/product-reviews/B0C32XWR15/ref=cm_cr_dp_d_show_all_btm?ie=UTF8&reviewerType=all_reviews&pageNumber=15\n",
      "https://www.amazon.com/NATURE-PIONEOR-Insulated-Bottles-Paracord/product-reviews/B0C32XWR15/ref=cm_cr_dp_d_show_all_btm?ie=UTF8&reviewerType=all_reviews&pageNumber=16\n",
      "https://www.amazon.com/NATURE-PIONEOR-Insulated-Bottles-Paracord/product-reviews/B0C32XWR15/ref=cm_cr_dp_d_show_all_btm?ie=UTF8&reviewerType=all_reviews&pageNumber=17\n",
      "https://www.amazon.com/NATURE-PIONEOR-Insulated-Bottles-Paracord/product-reviews/B0C32XWR15/ref=cm_cr_dp_d_show_all_btm?ie=UTF8&reviewerType=all_reviews&pageNumber=18\n",
      "https://www.amazon.com/NATURE-PIONEOR-Insulated-Bottles-Paracord/product-reviews/B0C32XWR15/ref=cm_cr_dp_d_show_all_btm?ie=UTF8&reviewerType=all_reviews&pageNumber=19\n",
      "https://www.amazon.com/NATURE-PIONEOR-Insulated-Bottles-Paracord/product-reviews/B0C32XWR15/ref=cm_cr_dp_d_show_all_btm?ie=UTF8&reviewerType=all_reviews&pageNumber=0\n",
      "https://www.amazon.com/NATURE-PIONEOR-Insulated-Bottles-Paracord/product-reviews/B0C32XWR15/ref=cm_cr_dp_d_show_all_btm?ie=UTF8&reviewerType=all_reviews&pageNumber=1\n",
      "https://www.amazon.com/NATURE-PIONEOR-Insulated-Bottles-Paracord/product-reviews/B0C32XWR15/ref=cm_cr_dp_d_show_all_btm?ie=UTF8&reviewerType=all_reviews&pageNumber=2\n",
      "https://www.amazon.com/NATURE-PIONEOR-Insulated-Bottles-Paracord/product-reviews/B0C32XWR15/ref=cm_cr_dp_d_show_all_btm?ie=UTF8&reviewerType=all_reviews&pageNumber=3\n",
      "https://www.amazon.com/NATURE-PIONEOR-Insulated-Bottles-Paracord/product-reviews/B0C32XWR15/ref=cm_cr_dp_d_show_all_btm?ie=UTF8&reviewerType=all_reviews&pageNumber=4\n",
      "https://www.amazon.com/NATURE-PIONEOR-Insulated-Bottles-Paracord/product-reviews/B0C32XWR15/ref=cm_cr_dp_d_show_all_btm?ie=UTF8&reviewerType=all_reviews&pageNumber=5\n",
      "https://www.amazon.com/NATURE-PIONEOR-Insulated-Bottles-Paracord/product-reviews/B0C32XWR15/ref=cm_cr_dp_d_show_all_btm?ie=UTF8&reviewerType=all_reviews&pageNumber=6\n",
      "https://www.amazon.com/NATURE-PIONEOR-Insulated-Bottles-Paracord/product-reviews/B0C32XWR15/ref=cm_cr_dp_d_show_all_btm?ie=UTF8&reviewerType=all_reviews&pageNumber=7\n",
      "https://www.amazon.com/NATURE-PIONEOR-Insulated-Bottles-Paracord/product-reviews/B0C32XWR15/ref=cm_cr_dp_d_show_all_btm?ie=UTF8&reviewerType=all_reviews&pageNumber=8\n",
      "https://www.amazon.com/NATURE-PIONEOR-Insulated-Bottles-Paracord/product-reviews/B0C32XWR15/ref=cm_cr_dp_d_show_all_btm?ie=UTF8&reviewerType=all_reviews&pageNumber=9\n",
      "https://www.amazon.com/NATURE-PIONEOR-Insulated-Bottles-Paracord/product-reviews/B0C32XWR15/ref=cm_cr_dp_d_show_all_btm?ie=UTF8&reviewerType=all_reviews&pageNumber=10\n",
      "https://www.amazon.com/NATURE-PIONEOR-Insulated-Bottles-Paracord/product-reviews/B0C32XWR15/ref=cm_cr_dp_d_show_all_btm?ie=UTF8&reviewerType=all_reviews&pageNumber=11\n",
      "https://www.amazon.com/NATURE-PIONEOR-Insulated-Bottles-Paracord/product-reviews/B0C32XWR15/ref=cm_cr_dp_d_show_all_btm?ie=UTF8&reviewerType=all_reviews&pageNumber=12\n",
      "https://www.amazon.com/NATURE-PIONEOR-Insulated-Bottles-Paracord/product-reviews/B0C32XWR15/ref=cm_cr_dp_d_show_all_btm?ie=UTF8&reviewerType=all_reviews&pageNumber=13\n",
      "https://www.amazon.com/NATURE-PIONEOR-Insulated-Bottles-Paracord/product-reviews/B0C32XWR15/ref=cm_cr_dp_d_show_all_btm?ie=UTF8&reviewerType=all_reviews&pageNumber=14\n",
      "https://www.amazon.com/NATURE-PIONEOR-Insulated-Bottles-Paracord/product-reviews/B0C32XWR15/ref=cm_cr_dp_d_show_all_btm?ie=UTF8&reviewerType=all_reviews&pageNumber=15\n",
      "https://www.amazon.com/NATURE-PIONEOR-Insulated-Bottles-Paracord/product-reviews/B0C32XWR15/ref=cm_cr_dp_d_show_all_btm?ie=UTF8&reviewerType=all_reviews&pageNumber=16\n",
      "https://www.amazon.com/NATURE-PIONEOR-Insulated-Bottles-Paracord/product-reviews/B0C32XWR15/ref=cm_cr_dp_d_show_all_btm?ie=UTF8&reviewerType=all_reviews&pageNumber=17\n",
      "https://www.amazon.com/NATURE-PIONEOR-Insulated-Bottles-Paracord/product-reviews/B0C32XWR15/ref=cm_cr_dp_d_show_all_btm?ie=UTF8&reviewerType=all_reviews&pageNumber=18\n",
      "https://www.amazon.com/NATURE-PIONEOR-Insulated-Bottles-Paracord/product-reviews/B0C32XWR15/ref=cm_cr_dp_d_show_all_btm?ie=UTF8&reviewerType=all_reviews&pageNumber=19\n",
      "https://www.amazon.com/Konokyo-Insulated-Bottles-Stainless-Macaron/product-reviews/B0C3VJFVLH/ref=cm_cr_dp_d_show_all_btm?ie=UTF8&reviewerType=all_reviews&pageNumber=0\n",
      "https://www.amazon.com/Konokyo-Insulated-Bottles-Stainless-Macaron/product-reviews/B0C3VJFVLH/ref=cm_cr_dp_d_show_all_btm?ie=UTF8&reviewerType=all_reviews&pageNumber=1\n",
      "https://www.amazon.com/Konokyo-Insulated-Bottles-Stainless-Macaron/product-reviews/B0C3VJFVLH/ref=cm_cr_dp_d_show_all_btm?ie=UTF8&reviewerType=all_reviews&pageNumber=2\n",
      "https://www.amazon.com/Konokyo-Insulated-Bottles-Stainless-Macaron/product-reviews/B0C3VJFVLH/ref=cm_cr_dp_d_show_all_btm?ie=UTF8&reviewerType=all_reviews&pageNumber=3\n",
      "https://www.amazon.com/Konokyo-Insulated-Bottles-Stainless-Macaron/product-reviews/B0C3VJFVLH/ref=cm_cr_dp_d_show_all_btm?ie=UTF8&reviewerType=all_reviews&pageNumber=4\n",
      "https://www.amazon.com/Konokyo-Insulated-Bottles-Stainless-Macaron/product-reviews/B0C3VJFVLH/ref=cm_cr_dp_d_show_all_btm?ie=UTF8&reviewerType=all_reviews&pageNumber=5\n",
      "https://www.amazon.com/Konokyo-Insulated-Bottles-Stainless-Macaron/product-reviews/B0C3VJFVLH/ref=cm_cr_dp_d_show_all_btm?ie=UTF8&reviewerType=all_reviews&pageNumber=6\n",
      "https://www.amazon.com/Konokyo-Insulated-Bottles-Stainless-Macaron/product-reviews/B0C3VJFVLH/ref=cm_cr_dp_d_show_all_btm?ie=UTF8&reviewerType=all_reviews&pageNumber=7\n",
      "https://www.amazon.com/Konokyo-Insulated-Bottles-Stainless-Macaron/product-reviews/B0C3VJFVLH/ref=cm_cr_dp_d_show_all_btm?ie=UTF8&reviewerType=all_reviews&pageNumber=8\n",
      "https://www.amazon.com/Konokyo-Insulated-Bottles-Stainless-Macaron/product-reviews/B0C3VJFVLH/ref=cm_cr_dp_d_show_all_btm?ie=UTF8&reviewerType=all_reviews&pageNumber=9\n",
      "https://www.amazon.com/Konokyo-Insulated-Bottles-Stainless-Macaron/product-reviews/B0C3VJFVLH/ref=cm_cr_dp_d_show_all_btm?ie=UTF8&reviewerType=all_reviews&pageNumber=10\n",
      "https://www.amazon.com/Konokyo-Insulated-Bottles-Stainless-Macaron/product-reviews/B0C3VJFVLH/ref=cm_cr_dp_d_show_all_btm?ie=UTF8&reviewerType=all_reviews&pageNumber=11\n",
      "https://www.amazon.com/Konokyo-Insulated-Bottles-Stainless-Macaron/product-reviews/B0C3VJFVLH/ref=cm_cr_dp_d_show_all_btm?ie=UTF8&reviewerType=all_reviews&pageNumber=12\n",
      "https://www.amazon.com/Konokyo-Insulated-Bottles-Stainless-Macaron/product-reviews/B0C3VJFVLH/ref=cm_cr_dp_d_show_all_btm?ie=UTF8&reviewerType=all_reviews&pageNumber=13\n",
      "https://www.amazon.com/Konokyo-Insulated-Bottles-Stainless-Macaron/product-reviews/B0C3VJFVLH/ref=cm_cr_dp_d_show_all_btm?ie=UTF8&reviewerType=all_reviews&pageNumber=14\n",
      "https://www.amazon.com/Konokyo-Insulated-Bottles-Stainless-Macaron/product-reviews/B0C3VJFVLH/ref=cm_cr_dp_d_show_all_btm?ie=UTF8&reviewerType=all_reviews&pageNumber=15\n",
      "https://www.amazon.com/Konokyo-Insulated-Bottles-Stainless-Macaron/product-reviews/B0C3VJFVLH/ref=cm_cr_dp_d_show_all_btm?ie=UTF8&reviewerType=all_reviews&pageNumber=16\n",
      "https://www.amazon.com/Konokyo-Insulated-Bottles-Stainless-Macaron/product-reviews/B0C3VJFVLH/ref=cm_cr_dp_d_show_all_btm?ie=UTF8&reviewerType=all_reviews&pageNumber=17\n",
      "https://www.amazon.com/Konokyo-Insulated-Bottles-Stainless-Macaron/product-reviews/B0C3VJFVLH/ref=cm_cr_dp_d_show_all_btm?ie=UTF8&reviewerType=all_reviews&pageNumber=18\n",
      "https://www.amazon.com/Konokyo-Insulated-Bottles-Stainless-Macaron/product-reviews/B0C3VJFVLH/ref=cm_cr_dp_d_show_all_btm?ie=UTF8&reviewerType=all_reviews&pageNumber=19\n",
      "https://www.amazon.com/MIRA-Stainless-Vacuum-Insulated-Leak-Proof/product-reviews/B01FV60W96/ref=cm_cr_dp_d_show_all_btm?ie=UTF8&reviewerType=all_reviews&pageNumber=0\n",
      "https://www.amazon.com/MIRA-Stainless-Vacuum-Insulated-Leak-Proof/product-reviews/B01FV60W96/ref=cm_cr_dp_d_show_all_btm?ie=UTF8&reviewerType=all_reviews&pageNumber=1\n",
      "https://www.amazon.com/MIRA-Stainless-Vacuum-Insulated-Leak-Proof/product-reviews/B01FV60W96/ref=cm_cr_dp_d_show_all_btm?ie=UTF8&reviewerType=all_reviews&pageNumber=2\n",
      "https://www.amazon.com/MIRA-Stainless-Vacuum-Insulated-Leak-Proof/product-reviews/B01FV60W96/ref=cm_cr_dp_d_show_all_btm?ie=UTF8&reviewerType=all_reviews&pageNumber=3\n",
      "https://www.amazon.com/MIRA-Stainless-Vacuum-Insulated-Leak-Proof/product-reviews/B01FV60W96/ref=cm_cr_dp_d_show_all_btm?ie=UTF8&reviewerType=all_reviews&pageNumber=4\n",
      "https://www.amazon.com/MIRA-Stainless-Vacuum-Insulated-Leak-Proof/product-reviews/B01FV60W96/ref=cm_cr_dp_d_show_all_btm?ie=UTF8&reviewerType=all_reviews&pageNumber=5\n",
      "https://www.amazon.com/MIRA-Stainless-Vacuum-Insulated-Leak-Proof/product-reviews/B01FV60W96/ref=cm_cr_dp_d_show_all_btm?ie=UTF8&reviewerType=all_reviews&pageNumber=6\n",
      "https://www.amazon.com/MIRA-Stainless-Vacuum-Insulated-Leak-Proof/product-reviews/B01FV60W96/ref=cm_cr_dp_d_show_all_btm?ie=UTF8&reviewerType=all_reviews&pageNumber=7\n",
      "https://www.amazon.com/MIRA-Stainless-Vacuum-Insulated-Leak-Proof/product-reviews/B01FV60W96/ref=cm_cr_dp_d_show_all_btm?ie=UTF8&reviewerType=all_reviews&pageNumber=8\n",
      "https://www.amazon.com/MIRA-Stainless-Vacuum-Insulated-Leak-Proof/product-reviews/B01FV60W96/ref=cm_cr_dp_d_show_all_btm?ie=UTF8&reviewerType=all_reviews&pageNumber=9\n",
      "https://www.amazon.com/MIRA-Stainless-Vacuum-Insulated-Leak-Proof/product-reviews/B01FV60W96/ref=cm_cr_dp_d_show_all_btm?ie=UTF8&reviewerType=all_reviews&pageNumber=10\n",
      "https://www.amazon.com/MIRA-Stainless-Vacuum-Insulated-Leak-Proof/product-reviews/B01FV60W96/ref=cm_cr_dp_d_show_all_btm?ie=UTF8&reviewerType=all_reviews&pageNumber=11\n",
      "https://www.amazon.com/MIRA-Stainless-Vacuum-Insulated-Leak-Proof/product-reviews/B01FV60W96/ref=cm_cr_dp_d_show_all_btm?ie=UTF8&reviewerType=all_reviews&pageNumber=12\n",
      "https://www.amazon.com/MIRA-Stainless-Vacuum-Insulated-Leak-Proof/product-reviews/B01FV60W96/ref=cm_cr_dp_d_show_all_btm?ie=UTF8&reviewerType=all_reviews&pageNumber=13\n",
      "https://www.amazon.com/MIRA-Stainless-Vacuum-Insulated-Leak-Proof/product-reviews/B01FV60W96/ref=cm_cr_dp_d_show_all_btm?ie=UTF8&reviewerType=all_reviews&pageNumber=14\n",
      "https://www.amazon.com/MIRA-Stainless-Vacuum-Insulated-Leak-Proof/product-reviews/B01FV60W96/ref=cm_cr_dp_d_show_all_btm?ie=UTF8&reviewerType=all_reviews&pageNumber=15\n",
      "https://www.amazon.com/MIRA-Stainless-Vacuum-Insulated-Leak-Proof/product-reviews/B01FV60W96/ref=cm_cr_dp_d_show_all_btm?ie=UTF8&reviewerType=all_reviews&pageNumber=16\n",
      "https://www.amazon.com/MIRA-Stainless-Vacuum-Insulated-Leak-Proof/product-reviews/B01FV60W96/ref=cm_cr_dp_d_show_all_btm?ie=UTF8&reviewerType=all_reviews&pageNumber=17\n",
      "https://www.amazon.com/MIRA-Stainless-Vacuum-Insulated-Leak-Proof/product-reviews/B01FV60W96/ref=cm_cr_dp_d_show_all_btm?ie=UTF8&reviewerType=all_reviews&pageNumber=18\n",
      "https://www.amazon.com/MIRA-Stainless-Vacuum-Insulated-Leak-Proof/product-reviews/B01FV60W96/ref=cm_cr_dp_d_show_all_btm?ie=UTF8&reviewerType=all_reviews&pageNumber=19\n",
      "https://www.amazon.com/MIRA-Stainless-Vacuum-Insulated-Leak-Proof/product-reviews/B01FV60W96/ref=cm_cr_dp_d_show_all_btm?ie=UTF8&reviewerType=all_reviews&pageNumber=0\n",
      "https://www.amazon.com/MIRA-Stainless-Vacuum-Insulated-Leak-Proof/product-reviews/B01FV60W96/ref=cm_cr_dp_d_show_all_btm?ie=UTF8&reviewerType=all_reviews&pageNumber=1\n",
      "https://www.amazon.com/MIRA-Stainless-Vacuum-Insulated-Leak-Proof/product-reviews/B01FV60W96/ref=cm_cr_dp_d_show_all_btm?ie=UTF8&reviewerType=all_reviews&pageNumber=2\n",
      "https://www.amazon.com/MIRA-Stainless-Vacuum-Insulated-Leak-Proof/product-reviews/B01FV60W96/ref=cm_cr_dp_d_show_all_btm?ie=UTF8&reviewerType=all_reviews&pageNumber=3\n",
      "https://www.amazon.com/MIRA-Stainless-Vacuum-Insulated-Leak-Proof/product-reviews/B01FV60W96/ref=cm_cr_dp_d_show_all_btm?ie=UTF8&reviewerType=all_reviews&pageNumber=4\n",
      "https://www.amazon.com/MIRA-Stainless-Vacuum-Insulated-Leak-Proof/product-reviews/B01FV60W96/ref=cm_cr_dp_d_show_all_btm?ie=UTF8&reviewerType=all_reviews&pageNumber=5\n",
      "https://www.amazon.com/MIRA-Stainless-Vacuum-Insulated-Leak-Proof/product-reviews/B01FV60W96/ref=cm_cr_dp_d_show_all_btm?ie=UTF8&reviewerType=all_reviews&pageNumber=6\n",
      "https://www.amazon.com/MIRA-Stainless-Vacuum-Insulated-Leak-Proof/product-reviews/B01FV60W96/ref=cm_cr_dp_d_show_all_btm?ie=UTF8&reviewerType=all_reviews&pageNumber=7\n",
      "https://www.amazon.com/MIRA-Stainless-Vacuum-Insulated-Leak-Proof/product-reviews/B01FV60W96/ref=cm_cr_dp_d_show_all_btm?ie=UTF8&reviewerType=all_reviews&pageNumber=8\n",
      "https://www.amazon.com/MIRA-Stainless-Vacuum-Insulated-Leak-Proof/product-reviews/B01FV60W96/ref=cm_cr_dp_d_show_all_btm?ie=UTF8&reviewerType=all_reviews&pageNumber=9\n",
      "https://www.amazon.com/MIRA-Stainless-Vacuum-Insulated-Leak-Proof/product-reviews/B01FV60W96/ref=cm_cr_dp_d_show_all_btm?ie=UTF8&reviewerType=all_reviews&pageNumber=10\n",
      "https://www.amazon.com/MIRA-Stainless-Vacuum-Insulated-Leak-Proof/product-reviews/B01FV60W96/ref=cm_cr_dp_d_show_all_btm?ie=UTF8&reviewerType=all_reviews&pageNumber=11\n",
      "https://www.amazon.com/MIRA-Stainless-Vacuum-Insulated-Leak-Proof/product-reviews/B01FV60W96/ref=cm_cr_dp_d_show_all_btm?ie=UTF8&reviewerType=all_reviews&pageNumber=12\n",
      "https://www.amazon.com/MIRA-Stainless-Vacuum-Insulated-Leak-Proof/product-reviews/B01FV60W96/ref=cm_cr_dp_d_show_all_btm?ie=UTF8&reviewerType=all_reviews&pageNumber=13\n",
      "https://www.amazon.com/MIRA-Stainless-Vacuum-Insulated-Leak-Proof/product-reviews/B01FV60W96/ref=cm_cr_dp_d_show_all_btm?ie=UTF8&reviewerType=all_reviews&pageNumber=14\n",
      "https://www.amazon.com/MIRA-Stainless-Vacuum-Insulated-Leak-Proof/product-reviews/B01FV60W96/ref=cm_cr_dp_d_show_all_btm?ie=UTF8&reviewerType=all_reviews&pageNumber=15\n",
      "https://www.amazon.com/MIRA-Stainless-Vacuum-Insulated-Leak-Proof/product-reviews/B01FV60W96/ref=cm_cr_dp_d_show_all_btm?ie=UTF8&reviewerType=all_reviews&pageNumber=16\n",
      "https://www.amazon.com/MIRA-Stainless-Vacuum-Insulated-Leak-Proof/product-reviews/B01FV60W96/ref=cm_cr_dp_d_show_all_btm?ie=UTF8&reviewerType=all_reviews&pageNumber=17\n",
      "https://www.amazon.com/MIRA-Stainless-Vacuum-Insulated-Leak-Proof/product-reviews/B01FV60W96/ref=cm_cr_dp_d_show_all_btm?ie=UTF8&reviewerType=all_reviews&pageNumber=18\n",
      "https://www.amazon.com/MIRA-Stainless-Vacuum-Insulated-Leak-Proof/product-reviews/B01FV60W96/ref=cm_cr_dp_d_show_all_btm?ie=UTF8&reviewerType=all_reviews&pageNumber=19\n",
      "https://www.amazon.com/Bambaw-Insulated-Stainless-Friendly-Leakproof/product-reviews/B07MPCW3KV/ref=cm_cr_dp_d_show_all_btm?ie=UTF8&reviewerType=all_reviews&pageNumber=0\n",
      "https://www.amazon.com/Bambaw-Insulated-Stainless-Friendly-Leakproof/product-reviews/B07MPCW3KV/ref=cm_cr_dp_d_show_all_btm?ie=UTF8&reviewerType=all_reviews&pageNumber=1\n",
      "https://www.amazon.com/Bambaw-Insulated-Stainless-Friendly-Leakproof/product-reviews/B07MPCW3KV/ref=cm_cr_dp_d_show_all_btm?ie=UTF8&reviewerType=all_reviews&pageNumber=2\n",
      "https://www.amazon.com/Bambaw-Insulated-Stainless-Friendly-Leakproof/product-reviews/B07MPCW3KV/ref=cm_cr_dp_d_show_all_btm?ie=UTF8&reviewerType=all_reviews&pageNumber=3\n",
      "https://www.amazon.com/Bambaw-Insulated-Stainless-Friendly-Leakproof/product-reviews/B07MPCW3KV/ref=cm_cr_dp_d_show_all_btm?ie=UTF8&reviewerType=all_reviews&pageNumber=4\n",
      "https://www.amazon.com/Bambaw-Insulated-Stainless-Friendly-Leakproof/product-reviews/B07MPCW3KV/ref=cm_cr_dp_d_show_all_btm?ie=UTF8&reviewerType=all_reviews&pageNumber=5\n",
      "https://www.amazon.com/Bambaw-Insulated-Stainless-Friendly-Leakproof/product-reviews/B07MPCW3KV/ref=cm_cr_dp_d_show_all_btm?ie=UTF8&reviewerType=all_reviews&pageNumber=6\n",
      "https://www.amazon.com/Bambaw-Insulated-Stainless-Friendly-Leakproof/product-reviews/B07MPCW3KV/ref=cm_cr_dp_d_show_all_btm?ie=UTF8&reviewerType=all_reviews&pageNumber=7\n",
      "https://www.amazon.com/Bambaw-Insulated-Stainless-Friendly-Leakproof/product-reviews/B07MPCW3KV/ref=cm_cr_dp_d_show_all_btm?ie=UTF8&reviewerType=all_reviews&pageNumber=8\n",
      "https://www.amazon.com/Bambaw-Insulated-Stainless-Friendly-Leakproof/product-reviews/B07MPCW3KV/ref=cm_cr_dp_d_show_all_btm?ie=UTF8&reviewerType=all_reviews&pageNumber=9\n",
      "https://www.amazon.com/Bambaw-Insulated-Stainless-Friendly-Leakproof/product-reviews/B07MPCW3KV/ref=cm_cr_dp_d_show_all_btm?ie=UTF8&reviewerType=all_reviews&pageNumber=10\n",
      "https://www.amazon.com/Bambaw-Insulated-Stainless-Friendly-Leakproof/product-reviews/B07MPCW3KV/ref=cm_cr_dp_d_show_all_btm?ie=UTF8&reviewerType=all_reviews&pageNumber=11\n",
      "https://www.amazon.com/Bambaw-Insulated-Stainless-Friendly-Leakproof/product-reviews/B07MPCW3KV/ref=cm_cr_dp_d_show_all_btm?ie=UTF8&reviewerType=all_reviews&pageNumber=12\n",
      "https://www.amazon.com/Bambaw-Insulated-Stainless-Friendly-Leakproof/product-reviews/B07MPCW3KV/ref=cm_cr_dp_d_show_all_btm?ie=UTF8&reviewerType=all_reviews&pageNumber=13\n",
      "https://www.amazon.com/Bambaw-Insulated-Stainless-Friendly-Leakproof/product-reviews/B07MPCW3KV/ref=cm_cr_dp_d_show_all_btm?ie=UTF8&reviewerType=all_reviews&pageNumber=14\n",
      "https://www.amazon.com/Bambaw-Insulated-Stainless-Friendly-Leakproof/product-reviews/B07MPCW3KV/ref=cm_cr_dp_d_show_all_btm?ie=UTF8&reviewerType=all_reviews&pageNumber=15\n",
      "https://www.amazon.com/Bambaw-Insulated-Stainless-Friendly-Leakproof/product-reviews/B07MPCW3KV/ref=cm_cr_dp_d_show_all_btm?ie=UTF8&reviewerType=all_reviews&pageNumber=16\n",
      "https://www.amazon.com/Bambaw-Insulated-Stainless-Friendly-Leakproof/product-reviews/B07MPCW3KV/ref=cm_cr_dp_d_show_all_btm?ie=UTF8&reviewerType=all_reviews&pageNumber=17\n",
      "https://www.amazon.com/Bambaw-Insulated-Stainless-Friendly-Leakproof/product-reviews/B07MPCW3KV/ref=cm_cr_dp_d_show_all_btm?ie=UTF8&reviewerType=all_reviews&pageNumber=18\n",
      "https://www.amazon.com/Bambaw-Insulated-Stainless-Friendly-Leakproof/product-reviews/B07MPCW3KV/ref=cm_cr_dp_d_show_all_btm?ie=UTF8&reviewerType=all_reviews&pageNumber=19\n",
      "https://www.amazon.com/Bambaw-Insulated-Stainless-Friendly-Leakproof/product-reviews/B07MPCW3KV/ref=cm_cr_dp_d_show_all_btm?ie=UTF8&reviewerType=all_reviews&pageNumber=0\n",
      "https://www.amazon.com/Bambaw-Insulated-Stainless-Friendly-Leakproof/product-reviews/B07MPCW3KV/ref=cm_cr_dp_d_show_all_btm?ie=UTF8&reviewerType=all_reviews&pageNumber=1\n",
      "https://www.amazon.com/Bambaw-Insulated-Stainless-Friendly-Leakproof/product-reviews/B07MPCW3KV/ref=cm_cr_dp_d_show_all_btm?ie=UTF8&reviewerType=all_reviews&pageNumber=2\n",
      "https://www.amazon.com/Bambaw-Insulated-Stainless-Friendly-Leakproof/product-reviews/B07MPCW3KV/ref=cm_cr_dp_d_show_all_btm?ie=UTF8&reviewerType=all_reviews&pageNumber=3\n",
      "https://www.amazon.com/Bambaw-Insulated-Stainless-Friendly-Leakproof/product-reviews/B07MPCW3KV/ref=cm_cr_dp_d_show_all_btm?ie=UTF8&reviewerType=all_reviews&pageNumber=4\n",
      "https://www.amazon.com/Bambaw-Insulated-Stainless-Friendly-Leakproof/product-reviews/B07MPCW3KV/ref=cm_cr_dp_d_show_all_btm?ie=UTF8&reviewerType=all_reviews&pageNumber=5\n",
      "https://www.amazon.com/Bambaw-Insulated-Stainless-Friendly-Leakproof/product-reviews/B07MPCW3KV/ref=cm_cr_dp_d_show_all_btm?ie=UTF8&reviewerType=all_reviews&pageNumber=6\n",
      "https://www.amazon.com/Bambaw-Insulated-Stainless-Friendly-Leakproof/product-reviews/B07MPCW3KV/ref=cm_cr_dp_d_show_all_btm?ie=UTF8&reviewerType=all_reviews&pageNumber=7\n",
      "https://www.amazon.com/Bambaw-Insulated-Stainless-Friendly-Leakproof/product-reviews/B07MPCW3KV/ref=cm_cr_dp_d_show_all_btm?ie=UTF8&reviewerType=all_reviews&pageNumber=8\n",
      "https://www.amazon.com/Bambaw-Insulated-Stainless-Friendly-Leakproof/product-reviews/B07MPCW3KV/ref=cm_cr_dp_d_show_all_btm?ie=UTF8&reviewerType=all_reviews&pageNumber=9\n",
      "https://www.amazon.com/Bambaw-Insulated-Stainless-Friendly-Leakproof/product-reviews/B07MPCW3KV/ref=cm_cr_dp_d_show_all_btm?ie=UTF8&reviewerType=all_reviews&pageNumber=10\n",
      "https://www.amazon.com/Bambaw-Insulated-Stainless-Friendly-Leakproof/product-reviews/B07MPCW3KV/ref=cm_cr_dp_d_show_all_btm?ie=UTF8&reviewerType=all_reviews&pageNumber=11\n",
      "https://www.amazon.com/Bambaw-Insulated-Stainless-Friendly-Leakproof/product-reviews/B07MPCW3KV/ref=cm_cr_dp_d_show_all_btm?ie=UTF8&reviewerType=all_reviews&pageNumber=12\n",
      "https://www.amazon.com/Bambaw-Insulated-Stainless-Friendly-Leakproof/product-reviews/B07MPCW3KV/ref=cm_cr_dp_d_show_all_btm?ie=UTF8&reviewerType=all_reviews&pageNumber=13\n",
      "https://www.amazon.com/Bambaw-Insulated-Stainless-Friendly-Leakproof/product-reviews/B07MPCW3KV/ref=cm_cr_dp_d_show_all_btm?ie=UTF8&reviewerType=all_reviews&pageNumber=14\n",
      "https://www.amazon.com/Bambaw-Insulated-Stainless-Friendly-Leakproof/product-reviews/B07MPCW3KV/ref=cm_cr_dp_d_show_all_btm?ie=UTF8&reviewerType=all_reviews&pageNumber=15\n",
      "https://www.amazon.com/Bambaw-Insulated-Stainless-Friendly-Leakproof/product-reviews/B07MPCW3KV/ref=cm_cr_dp_d_show_all_btm?ie=UTF8&reviewerType=all_reviews&pageNumber=16\n",
      "https://www.amazon.com/Bambaw-Insulated-Stainless-Friendly-Leakproof/product-reviews/B07MPCW3KV/ref=cm_cr_dp_d_show_all_btm?ie=UTF8&reviewerType=all_reviews&pageNumber=17\n",
      "https://www.amazon.com/Bambaw-Insulated-Stainless-Friendly-Leakproof/product-reviews/B07MPCW3KV/ref=cm_cr_dp_d_show_all_btm?ie=UTF8&reviewerType=all_reviews&pageNumber=18\n",
      "https://www.amazon.com/Bambaw-Insulated-Stainless-Friendly-Leakproof/product-reviews/B07MPCW3KV/ref=cm_cr_dp_d_show_all_btm?ie=UTF8&reviewerType=all_reviews&pageNumber=19\n",
      "https://www.amazon.com/BJPKPK-Insulated-Stainless-BPA-Free-Lockable/product-reviews/B0CGM34BV8/ref=cm_cr_dp_d_show_all_btm?ie=UTF8&reviewerType=all_reviews&pageNumber=0\n",
      "https://www.amazon.com/BJPKPK-Insulated-Stainless-BPA-Free-Lockable/product-reviews/B0CGM34BV8/ref=cm_cr_dp_d_show_all_btm?ie=UTF8&reviewerType=all_reviews&pageNumber=1\n",
      "https://www.amazon.com/BJPKPK-Insulated-Stainless-BPA-Free-Lockable/product-reviews/B0CGM34BV8/ref=cm_cr_dp_d_show_all_btm?ie=UTF8&reviewerType=all_reviews&pageNumber=2\n",
      "https://www.amazon.com/BJPKPK-Insulated-Stainless-BPA-Free-Lockable/product-reviews/B0CGM34BV8/ref=cm_cr_dp_d_show_all_btm?ie=UTF8&reviewerType=all_reviews&pageNumber=3\n",
      "https://www.amazon.com/BJPKPK-Insulated-Stainless-BPA-Free-Lockable/product-reviews/B0CGM34BV8/ref=cm_cr_dp_d_show_all_btm?ie=UTF8&reviewerType=all_reviews&pageNumber=4\n",
      "https://www.amazon.com/BJPKPK-Insulated-Stainless-BPA-Free-Lockable/product-reviews/B0CGM34BV8/ref=cm_cr_dp_d_show_all_btm?ie=UTF8&reviewerType=all_reviews&pageNumber=5\n",
      "https://www.amazon.com/BJPKPK-Insulated-Stainless-BPA-Free-Lockable/product-reviews/B0CGM34BV8/ref=cm_cr_dp_d_show_all_btm?ie=UTF8&reviewerType=all_reviews&pageNumber=6\n",
      "https://www.amazon.com/BJPKPK-Insulated-Stainless-BPA-Free-Lockable/product-reviews/B0CGM34BV8/ref=cm_cr_dp_d_show_all_btm?ie=UTF8&reviewerType=all_reviews&pageNumber=7\n",
      "https://www.amazon.com/BJPKPK-Insulated-Stainless-BPA-Free-Lockable/product-reviews/B0CGM34BV8/ref=cm_cr_dp_d_show_all_btm?ie=UTF8&reviewerType=all_reviews&pageNumber=8\n",
      "https://www.amazon.com/BJPKPK-Insulated-Stainless-BPA-Free-Lockable/product-reviews/B0CGM34BV8/ref=cm_cr_dp_d_show_all_btm?ie=UTF8&reviewerType=all_reviews&pageNumber=9\n",
      "https://www.amazon.com/BJPKPK-Insulated-Stainless-BPA-Free-Lockable/product-reviews/B0CGM34BV8/ref=cm_cr_dp_d_show_all_btm?ie=UTF8&reviewerType=all_reviews&pageNumber=10\n",
      "https://www.amazon.com/BJPKPK-Insulated-Stainless-BPA-Free-Lockable/product-reviews/B0CGM34BV8/ref=cm_cr_dp_d_show_all_btm?ie=UTF8&reviewerType=all_reviews&pageNumber=11\n",
      "https://www.amazon.com/BJPKPK-Insulated-Stainless-BPA-Free-Lockable/product-reviews/B0CGM34BV8/ref=cm_cr_dp_d_show_all_btm?ie=UTF8&reviewerType=all_reviews&pageNumber=12\n",
      "https://www.amazon.com/BJPKPK-Insulated-Stainless-BPA-Free-Lockable/product-reviews/B0CGM34BV8/ref=cm_cr_dp_d_show_all_btm?ie=UTF8&reviewerType=all_reviews&pageNumber=13\n",
      "https://www.amazon.com/BJPKPK-Insulated-Stainless-BPA-Free-Lockable/product-reviews/B0CGM34BV8/ref=cm_cr_dp_d_show_all_btm?ie=UTF8&reviewerType=all_reviews&pageNumber=14\n",
      "https://www.amazon.com/BJPKPK-Insulated-Stainless-BPA-Free-Lockable/product-reviews/B0CGM34BV8/ref=cm_cr_dp_d_show_all_btm?ie=UTF8&reviewerType=all_reviews&pageNumber=15\n",
      "https://www.amazon.com/BJPKPK-Insulated-Stainless-BPA-Free-Lockable/product-reviews/B0CGM34BV8/ref=cm_cr_dp_d_show_all_btm?ie=UTF8&reviewerType=all_reviews&pageNumber=16\n",
      "https://www.amazon.com/BJPKPK-Insulated-Stainless-BPA-Free-Lockable/product-reviews/B0CGM34BV8/ref=cm_cr_dp_d_show_all_btm?ie=UTF8&reviewerType=all_reviews&pageNumber=17\n",
      "https://www.amazon.com/BJPKPK-Insulated-Stainless-BPA-Free-Lockable/product-reviews/B0CGM34BV8/ref=cm_cr_dp_d_show_all_btm?ie=UTF8&reviewerType=all_reviews&pageNumber=18\n",
      "https://www.amazon.com/BJPKPK-Insulated-Stainless-BPA-Free-Lockable/product-reviews/B0CGM34BV8/ref=cm_cr_dp_d_show_all_btm?ie=UTF8&reviewerType=all_reviews&pageNumber=19\n",
      "https://www.amazon.com/SUNWILL-Insulated-Stainless-Friendly-Reusable/product-reviews/B0BYJG1HGP/ref=cm_cr_dp_d_show_all_btm?ie=UTF8&reviewerType=all_reviews&pageNumber=0\n",
      "https://www.amazon.com/SUNWILL-Insulated-Stainless-Friendly-Reusable/product-reviews/B0BYJG1HGP/ref=cm_cr_dp_d_show_all_btm?ie=UTF8&reviewerType=all_reviews&pageNumber=1\n",
      "https://www.amazon.com/SUNWILL-Insulated-Stainless-Friendly-Reusable/product-reviews/B0BYJG1HGP/ref=cm_cr_dp_d_show_all_btm?ie=UTF8&reviewerType=all_reviews&pageNumber=2\n",
      "https://www.amazon.com/SUNWILL-Insulated-Stainless-Friendly-Reusable/product-reviews/B0BYJG1HGP/ref=cm_cr_dp_d_show_all_btm?ie=UTF8&reviewerType=all_reviews&pageNumber=3\n",
      "https://www.amazon.com/SUNWILL-Insulated-Stainless-Friendly-Reusable/product-reviews/B0BYJG1HGP/ref=cm_cr_dp_d_show_all_btm?ie=UTF8&reviewerType=all_reviews&pageNumber=4\n",
      "https://www.amazon.com/SUNWILL-Insulated-Stainless-Friendly-Reusable/product-reviews/B0BYJG1HGP/ref=cm_cr_dp_d_show_all_btm?ie=UTF8&reviewerType=all_reviews&pageNumber=5\n",
      "https://www.amazon.com/SUNWILL-Insulated-Stainless-Friendly-Reusable/product-reviews/B0BYJG1HGP/ref=cm_cr_dp_d_show_all_btm?ie=UTF8&reviewerType=all_reviews&pageNumber=6\n",
      "https://www.amazon.com/SUNWILL-Insulated-Stainless-Friendly-Reusable/product-reviews/B0BYJG1HGP/ref=cm_cr_dp_d_show_all_btm?ie=UTF8&reviewerType=all_reviews&pageNumber=7\n",
      "https://www.amazon.com/SUNWILL-Insulated-Stainless-Friendly-Reusable/product-reviews/B0BYJG1HGP/ref=cm_cr_dp_d_show_all_btm?ie=UTF8&reviewerType=all_reviews&pageNumber=8\n",
      "https://www.amazon.com/SUNWILL-Insulated-Stainless-Friendly-Reusable/product-reviews/B0BYJG1HGP/ref=cm_cr_dp_d_show_all_btm?ie=UTF8&reviewerType=all_reviews&pageNumber=9\n",
      "https://www.amazon.com/SUNWILL-Insulated-Stainless-Friendly-Reusable/product-reviews/B0BYJG1HGP/ref=cm_cr_dp_d_show_all_btm?ie=UTF8&reviewerType=all_reviews&pageNumber=10\n",
      "https://www.amazon.com/SUNWILL-Insulated-Stainless-Friendly-Reusable/product-reviews/B0BYJG1HGP/ref=cm_cr_dp_d_show_all_btm?ie=UTF8&reviewerType=all_reviews&pageNumber=11\n",
      "https://www.amazon.com/SUNWILL-Insulated-Stainless-Friendly-Reusable/product-reviews/B0BYJG1HGP/ref=cm_cr_dp_d_show_all_btm?ie=UTF8&reviewerType=all_reviews&pageNumber=12\n",
      "https://www.amazon.com/SUNWILL-Insulated-Stainless-Friendly-Reusable/product-reviews/B0BYJG1HGP/ref=cm_cr_dp_d_show_all_btm?ie=UTF8&reviewerType=all_reviews&pageNumber=13\n",
      "https://www.amazon.com/SUNWILL-Insulated-Stainless-Friendly-Reusable/product-reviews/B0BYJG1HGP/ref=cm_cr_dp_d_show_all_btm?ie=UTF8&reviewerType=all_reviews&pageNumber=14\n",
      "https://www.amazon.com/SUNWILL-Insulated-Stainless-Friendly-Reusable/product-reviews/B0BYJG1HGP/ref=cm_cr_dp_d_show_all_btm?ie=UTF8&reviewerType=all_reviews&pageNumber=15\n",
      "https://www.amazon.com/SUNWILL-Insulated-Stainless-Friendly-Reusable/product-reviews/B0BYJG1HGP/ref=cm_cr_dp_d_show_all_btm?ie=UTF8&reviewerType=all_reviews&pageNumber=16\n",
      "https://www.amazon.com/SUNWILL-Insulated-Stainless-Friendly-Reusable/product-reviews/B0BYJG1HGP/ref=cm_cr_dp_d_show_all_btm?ie=UTF8&reviewerType=all_reviews&pageNumber=17\n",
      "https://www.amazon.com/SUNWILL-Insulated-Stainless-Friendly-Reusable/product-reviews/B0BYJG1HGP/ref=cm_cr_dp_d_show_all_btm?ie=UTF8&reviewerType=all_reviews&pageNumber=18\n",
      "https://www.amazon.com/SUNWILL-Insulated-Stainless-Friendly-Reusable/product-reviews/B0BYJG1HGP/ref=cm_cr_dp_d_show_all_btm?ie=UTF8&reviewerType=all_reviews&pageNumber=19\n",
      "https://www.amazon.com/GOPPUS-Insulated-Stainless-Leakproof-Resusable/product-reviews/B0BXLG9WB4/ref=cm_cr_dp_d_show_all_btm?ie=UTF8&reviewerType=all_reviews&pageNumber=0\n",
      "https://www.amazon.com/GOPPUS-Insulated-Stainless-Leakproof-Resusable/product-reviews/B0BXLG9WB4/ref=cm_cr_dp_d_show_all_btm?ie=UTF8&reviewerType=all_reviews&pageNumber=1\n",
      "https://www.amazon.com/GOPPUS-Insulated-Stainless-Leakproof-Resusable/product-reviews/B0BXLG9WB4/ref=cm_cr_dp_d_show_all_btm?ie=UTF8&reviewerType=all_reviews&pageNumber=2\n",
      "https://www.amazon.com/GOPPUS-Insulated-Stainless-Leakproof-Resusable/product-reviews/B0BXLG9WB4/ref=cm_cr_dp_d_show_all_btm?ie=UTF8&reviewerType=all_reviews&pageNumber=3\n",
      "https://www.amazon.com/GOPPUS-Insulated-Stainless-Leakproof-Resusable/product-reviews/B0BXLG9WB4/ref=cm_cr_dp_d_show_all_btm?ie=UTF8&reviewerType=all_reviews&pageNumber=4\n",
      "https://www.amazon.com/GOPPUS-Insulated-Stainless-Leakproof-Resusable/product-reviews/B0BXLG9WB4/ref=cm_cr_dp_d_show_all_btm?ie=UTF8&reviewerType=all_reviews&pageNumber=5\n",
      "https://www.amazon.com/GOPPUS-Insulated-Stainless-Leakproof-Resusable/product-reviews/B0BXLG9WB4/ref=cm_cr_dp_d_show_all_btm?ie=UTF8&reviewerType=all_reviews&pageNumber=6\n",
      "https://www.amazon.com/GOPPUS-Insulated-Stainless-Leakproof-Resusable/product-reviews/B0BXLG9WB4/ref=cm_cr_dp_d_show_all_btm?ie=UTF8&reviewerType=all_reviews&pageNumber=7\n",
      "https://www.amazon.com/GOPPUS-Insulated-Stainless-Leakproof-Resusable/product-reviews/B0BXLG9WB4/ref=cm_cr_dp_d_show_all_btm?ie=UTF8&reviewerType=all_reviews&pageNumber=8\n",
      "https://www.amazon.com/GOPPUS-Insulated-Stainless-Leakproof-Resusable/product-reviews/B0BXLG9WB4/ref=cm_cr_dp_d_show_all_btm?ie=UTF8&reviewerType=all_reviews&pageNumber=9\n",
      "https://www.amazon.com/GOPPUS-Insulated-Stainless-Leakproof-Resusable/product-reviews/B0BXLG9WB4/ref=cm_cr_dp_d_show_all_btm?ie=UTF8&reviewerType=all_reviews&pageNumber=10\n",
      "https://www.amazon.com/GOPPUS-Insulated-Stainless-Leakproof-Resusable/product-reviews/B0BXLG9WB4/ref=cm_cr_dp_d_show_all_btm?ie=UTF8&reviewerType=all_reviews&pageNumber=11\n",
      "https://www.amazon.com/GOPPUS-Insulated-Stainless-Leakproof-Resusable/product-reviews/B0BXLG9WB4/ref=cm_cr_dp_d_show_all_btm?ie=UTF8&reviewerType=all_reviews&pageNumber=12\n",
      "https://www.amazon.com/GOPPUS-Insulated-Stainless-Leakproof-Resusable/product-reviews/B0BXLG9WB4/ref=cm_cr_dp_d_show_all_btm?ie=UTF8&reviewerType=all_reviews&pageNumber=13\n",
      "https://www.amazon.com/GOPPUS-Insulated-Stainless-Leakproof-Resusable/product-reviews/B0BXLG9WB4/ref=cm_cr_dp_d_show_all_btm?ie=UTF8&reviewerType=all_reviews&pageNumber=14\n",
      "https://www.amazon.com/GOPPUS-Insulated-Stainless-Leakproof-Resusable/product-reviews/B0BXLG9WB4/ref=cm_cr_dp_d_show_all_btm?ie=UTF8&reviewerType=all_reviews&pageNumber=15\n",
      "https://www.amazon.com/GOPPUS-Insulated-Stainless-Leakproof-Resusable/product-reviews/B0BXLG9WB4/ref=cm_cr_dp_d_show_all_btm?ie=UTF8&reviewerType=all_reviews&pageNumber=16\n",
      "https://www.amazon.com/GOPPUS-Insulated-Stainless-Leakproof-Resusable/product-reviews/B0BXLG9WB4/ref=cm_cr_dp_d_show_all_btm?ie=UTF8&reviewerType=all_reviews&pageNumber=17\n",
      "https://www.amazon.com/GOPPUS-Insulated-Stainless-Leakproof-Resusable/product-reviews/B0BXLG9WB4/ref=cm_cr_dp_d_show_all_btm?ie=UTF8&reviewerType=all_reviews&pageNumber=18\n",
      "https://www.amazon.com/GOPPUS-Insulated-Stainless-Leakproof-Resusable/product-reviews/B0BXLG9WB4/ref=cm_cr_dp_d_show_all_btm?ie=UTF8&reviewerType=all_reviews&pageNumber=19\n",
      "https://www.amazon.com/GOPPUS-Insulated-Stainless-Leakproof-Resusable/product-reviews/B0BXLG9WB4/ref=cm_cr_dp_d_show_all_btm?ie=UTF8&reviewerType=all_reviews&pageNumber=0\n",
      "https://www.amazon.com/GOPPUS-Insulated-Stainless-Leakproof-Resusable/product-reviews/B0BXLG9WB4/ref=cm_cr_dp_d_show_all_btm?ie=UTF8&reviewerType=all_reviews&pageNumber=1\n",
      "https://www.amazon.com/GOPPUS-Insulated-Stainless-Leakproof-Resusable/product-reviews/B0BXLG9WB4/ref=cm_cr_dp_d_show_all_btm?ie=UTF8&reviewerType=all_reviews&pageNumber=2\n",
      "https://www.amazon.com/GOPPUS-Insulated-Stainless-Leakproof-Resusable/product-reviews/B0BXLG9WB4/ref=cm_cr_dp_d_show_all_btm?ie=UTF8&reviewerType=all_reviews&pageNumber=3\n",
      "https://www.amazon.com/GOPPUS-Insulated-Stainless-Leakproof-Resusable/product-reviews/B0BXLG9WB4/ref=cm_cr_dp_d_show_all_btm?ie=UTF8&reviewerType=all_reviews&pageNumber=4\n",
      "https://www.amazon.com/GOPPUS-Insulated-Stainless-Leakproof-Resusable/product-reviews/B0BXLG9WB4/ref=cm_cr_dp_d_show_all_btm?ie=UTF8&reviewerType=all_reviews&pageNumber=5\n",
      "https://www.amazon.com/GOPPUS-Insulated-Stainless-Leakproof-Resusable/product-reviews/B0BXLG9WB4/ref=cm_cr_dp_d_show_all_btm?ie=UTF8&reviewerType=all_reviews&pageNumber=6\n",
      "https://www.amazon.com/GOPPUS-Insulated-Stainless-Leakproof-Resusable/product-reviews/B0BXLG9WB4/ref=cm_cr_dp_d_show_all_btm?ie=UTF8&reviewerType=all_reviews&pageNumber=7\n",
      "https://www.amazon.com/GOPPUS-Insulated-Stainless-Leakproof-Resusable/product-reviews/B0BXLG9WB4/ref=cm_cr_dp_d_show_all_btm?ie=UTF8&reviewerType=all_reviews&pageNumber=8\n",
      "https://www.amazon.com/GOPPUS-Insulated-Stainless-Leakproof-Resusable/product-reviews/B0BXLG9WB4/ref=cm_cr_dp_d_show_all_btm?ie=UTF8&reviewerType=all_reviews&pageNumber=9\n",
      "https://www.amazon.com/GOPPUS-Insulated-Stainless-Leakproof-Resusable/product-reviews/B0BXLG9WB4/ref=cm_cr_dp_d_show_all_btm?ie=UTF8&reviewerType=all_reviews&pageNumber=10\n",
      "https://www.amazon.com/GOPPUS-Insulated-Stainless-Leakproof-Resusable/product-reviews/B0BXLG9WB4/ref=cm_cr_dp_d_show_all_btm?ie=UTF8&reviewerType=all_reviews&pageNumber=11\n",
      "https://www.amazon.com/GOPPUS-Insulated-Stainless-Leakproof-Resusable/product-reviews/B0BXLG9WB4/ref=cm_cr_dp_d_show_all_btm?ie=UTF8&reviewerType=all_reviews&pageNumber=12\n",
      "https://www.amazon.com/GOPPUS-Insulated-Stainless-Leakproof-Resusable/product-reviews/B0BXLG9WB4/ref=cm_cr_dp_d_show_all_btm?ie=UTF8&reviewerType=all_reviews&pageNumber=13\n",
      "https://www.amazon.com/GOPPUS-Insulated-Stainless-Leakproof-Resusable/product-reviews/B0BXLG9WB4/ref=cm_cr_dp_d_show_all_btm?ie=UTF8&reviewerType=all_reviews&pageNumber=14\n",
      "https://www.amazon.com/GOPPUS-Insulated-Stainless-Leakproof-Resusable/product-reviews/B0BXLG9WB4/ref=cm_cr_dp_d_show_all_btm?ie=UTF8&reviewerType=all_reviews&pageNumber=15\n",
      "https://www.amazon.com/GOPPUS-Insulated-Stainless-Leakproof-Resusable/product-reviews/B0BXLG9WB4/ref=cm_cr_dp_d_show_all_btm?ie=UTF8&reviewerType=all_reviews&pageNumber=16\n",
      "https://www.amazon.com/GOPPUS-Insulated-Stainless-Leakproof-Resusable/product-reviews/B0BXLG9WB4/ref=cm_cr_dp_d_show_all_btm?ie=UTF8&reviewerType=all_reviews&pageNumber=17\n",
      "https://www.amazon.com/GOPPUS-Insulated-Stainless-Leakproof-Resusable/product-reviews/B0BXLG9WB4/ref=cm_cr_dp_d_show_all_btm?ie=UTF8&reviewerType=all_reviews&pageNumber=18\n",
      "https://www.amazon.com/GOPPUS-Insulated-Stainless-Leakproof-Resusable/product-reviews/B0BXLG9WB4/ref=cm_cr_dp_d_show_all_btm?ie=UTF8&reviewerType=all_reviews&pageNumber=19\n",
      "https://www.amazon.com/VEGOND-Stainless-Bottles-Reusable-Insulated/product-reviews/B0B6574Q7N/ref=cm_cr_dp_d_show_all_btm?ie=UTF8&reviewerType=all_reviews&pageNumber=0\n",
      "https://www.amazon.com/VEGOND-Stainless-Bottles-Reusable-Insulated/product-reviews/B0B6574Q7N/ref=cm_cr_dp_d_show_all_btm?ie=UTF8&reviewerType=all_reviews&pageNumber=1\n",
      "https://www.amazon.com/VEGOND-Stainless-Bottles-Reusable-Insulated/product-reviews/B0B6574Q7N/ref=cm_cr_dp_d_show_all_btm?ie=UTF8&reviewerType=all_reviews&pageNumber=2\n",
      "https://www.amazon.com/VEGOND-Stainless-Bottles-Reusable-Insulated/product-reviews/B0B6574Q7N/ref=cm_cr_dp_d_show_all_btm?ie=UTF8&reviewerType=all_reviews&pageNumber=3\n",
      "https://www.amazon.com/VEGOND-Stainless-Bottles-Reusable-Insulated/product-reviews/B0B6574Q7N/ref=cm_cr_dp_d_show_all_btm?ie=UTF8&reviewerType=all_reviews&pageNumber=4\n",
      "https://www.amazon.com/VEGOND-Stainless-Bottles-Reusable-Insulated/product-reviews/B0B6574Q7N/ref=cm_cr_dp_d_show_all_btm?ie=UTF8&reviewerType=all_reviews&pageNumber=5\n",
      "https://www.amazon.com/VEGOND-Stainless-Bottles-Reusable-Insulated/product-reviews/B0B6574Q7N/ref=cm_cr_dp_d_show_all_btm?ie=UTF8&reviewerType=all_reviews&pageNumber=6\n",
      "https://www.amazon.com/VEGOND-Stainless-Bottles-Reusable-Insulated/product-reviews/B0B6574Q7N/ref=cm_cr_dp_d_show_all_btm?ie=UTF8&reviewerType=all_reviews&pageNumber=7\n",
      "https://www.amazon.com/VEGOND-Stainless-Bottles-Reusable-Insulated/product-reviews/B0B6574Q7N/ref=cm_cr_dp_d_show_all_btm?ie=UTF8&reviewerType=all_reviews&pageNumber=8\n",
      "https://www.amazon.com/VEGOND-Stainless-Bottles-Reusable-Insulated/product-reviews/B0B6574Q7N/ref=cm_cr_dp_d_show_all_btm?ie=UTF8&reviewerType=all_reviews&pageNumber=9\n",
      "https://www.amazon.com/VEGOND-Stainless-Bottles-Reusable-Insulated/product-reviews/B0B6574Q7N/ref=cm_cr_dp_d_show_all_btm?ie=UTF8&reviewerType=all_reviews&pageNumber=10\n",
      "https://www.amazon.com/VEGOND-Stainless-Bottles-Reusable-Insulated/product-reviews/B0B6574Q7N/ref=cm_cr_dp_d_show_all_btm?ie=UTF8&reviewerType=all_reviews&pageNumber=11\n",
      "https://www.amazon.com/VEGOND-Stainless-Bottles-Reusable-Insulated/product-reviews/B0B6574Q7N/ref=cm_cr_dp_d_show_all_btm?ie=UTF8&reviewerType=all_reviews&pageNumber=12\n",
      "https://www.amazon.com/VEGOND-Stainless-Bottles-Reusable-Insulated/product-reviews/B0B6574Q7N/ref=cm_cr_dp_d_show_all_btm?ie=UTF8&reviewerType=all_reviews&pageNumber=13\n",
      "https://www.amazon.com/VEGOND-Stainless-Bottles-Reusable-Insulated/product-reviews/B0B6574Q7N/ref=cm_cr_dp_d_show_all_btm?ie=UTF8&reviewerType=all_reviews&pageNumber=14\n",
      "https://www.amazon.com/VEGOND-Stainless-Bottles-Reusable-Insulated/product-reviews/B0B6574Q7N/ref=cm_cr_dp_d_show_all_btm?ie=UTF8&reviewerType=all_reviews&pageNumber=15\n",
      "https://www.amazon.com/VEGOND-Stainless-Bottles-Reusable-Insulated/product-reviews/B0B6574Q7N/ref=cm_cr_dp_d_show_all_btm?ie=UTF8&reviewerType=all_reviews&pageNumber=16\n",
      "https://www.amazon.com/VEGOND-Stainless-Bottles-Reusable-Insulated/product-reviews/B0B6574Q7N/ref=cm_cr_dp_d_show_all_btm?ie=UTF8&reviewerType=all_reviews&pageNumber=17\n",
      "https://www.amazon.com/VEGOND-Stainless-Bottles-Reusable-Insulated/product-reviews/B0B6574Q7N/ref=cm_cr_dp_d_show_all_btm?ie=UTF8&reviewerType=all_reviews&pageNumber=18\n",
      "https://www.amazon.com/VEGOND-Stainless-Bottles-Reusable-Insulated/product-reviews/B0B6574Q7N/ref=cm_cr_dp_d_show_all_btm?ie=UTF8&reviewerType=all_reviews&pageNumber=19\n",
      "https://www.amazon.com/VEGOND-Stainless-Bottles-Reusable-Insulated/product-reviews/B0B6574Q7N/ref=cm_cr_dp_d_show_all_btm?ie=UTF8&reviewerType=all_reviews&pageNumber=0\n",
      "https://www.amazon.com/VEGOND-Stainless-Bottles-Reusable-Insulated/product-reviews/B0B6574Q7N/ref=cm_cr_dp_d_show_all_btm?ie=UTF8&reviewerType=all_reviews&pageNumber=1\n",
      "https://www.amazon.com/VEGOND-Stainless-Bottles-Reusable-Insulated/product-reviews/B0B6574Q7N/ref=cm_cr_dp_d_show_all_btm?ie=UTF8&reviewerType=all_reviews&pageNumber=2\n",
      "https://www.amazon.com/VEGOND-Stainless-Bottles-Reusable-Insulated/product-reviews/B0B6574Q7N/ref=cm_cr_dp_d_show_all_btm?ie=UTF8&reviewerType=all_reviews&pageNumber=3\n",
      "https://www.amazon.com/VEGOND-Stainless-Bottles-Reusable-Insulated/product-reviews/B0B6574Q7N/ref=cm_cr_dp_d_show_all_btm?ie=UTF8&reviewerType=all_reviews&pageNumber=4\n",
      "https://www.amazon.com/VEGOND-Stainless-Bottles-Reusable-Insulated/product-reviews/B0B6574Q7N/ref=cm_cr_dp_d_show_all_btm?ie=UTF8&reviewerType=all_reviews&pageNumber=5\n",
      "https://www.amazon.com/VEGOND-Stainless-Bottles-Reusable-Insulated/product-reviews/B0B6574Q7N/ref=cm_cr_dp_d_show_all_btm?ie=UTF8&reviewerType=all_reviews&pageNumber=6\n",
      "https://www.amazon.com/VEGOND-Stainless-Bottles-Reusable-Insulated/product-reviews/B0B6574Q7N/ref=cm_cr_dp_d_show_all_btm?ie=UTF8&reviewerType=all_reviews&pageNumber=7\n",
      "https://www.amazon.com/VEGOND-Stainless-Bottles-Reusable-Insulated/product-reviews/B0B6574Q7N/ref=cm_cr_dp_d_show_all_btm?ie=UTF8&reviewerType=all_reviews&pageNumber=8\n",
      "https://www.amazon.com/VEGOND-Stainless-Bottles-Reusable-Insulated/product-reviews/B0B6574Q7N/ref=cm_cr_dp_d_show_all_btm?ie=UTF8&reviewerType=all_reviews&pageNumber=9\n",
      "https://www.amazon.com/VEGOND-Stainless-Bottles-Reusable-Insulated/product-reviews/B0B6574Q7N/ref=cm_cr_dp_d_show_all_btm?ie=UTF8&reviewerType=all_reviews&pageNumber=10\n",
      "https://www.amazon.com/VEGOND-Stainless-Bottles-Reusable-Insulated/product-reviews/B0B6574Q7N/ref=cm_cr_dp_d_show_all_btm?ie=UTF8&reviewerType=all_reviews&pageNumber=11\n",
      "https://www.amazon.com/VEGOND-Stainless-Bottles-Reusable-Insulated/product-reviews/B0B6574Q7N/ref=cm_cr_dp_d_show_all_btm?ie=UTF8&reviewerType=all_reviews&pageNumber=12\n",
      "https://www.amazon.com/VEGOND-Stainless-Bottles-Reusable-Insulated/product-reviews/B0B6574Q7N/ref=cm_cr_dp_d_show_all_btm?ie=UTF8&reviewerType=all_reviews&pageNumber=13\n",
      "https://www.amazon.com/VEGOND-Stainless-Bottles-Reusable-Insulated/product-reviews/B0B6574Q7N/ref=cm_cr_dp_d_show_all_btm?ie=UTF8&reviewerType=all_reviews&pageNumber=14\n",
      "https://www.amazon.com/VEGOND-Stainless-Bottles-Reusable-Insulated/product-reviews/B0B6574Q7N/ref=cm_cr_dp_d_show_all_btm?ie=UTF8&reviewerType=all_reviews&pageNumber=15\n",
      "https://www.amazon.com/VEGOND-Stainless-Bottles-Reusable-Insulated/product-reviews/B0B6574Q7N/ref=cm_cr_dp_d_show_all_btm?ie=UTF8&reviewerType=all_reviews&pageNumber=16\n",
      "https://www.amazon.com/VEGOND-Stainless-Bottles-Reusable-Insulated/product-reviews/B0B6574Q7N/ref=cm_cr_dp_d_show_all_btm?ie=UTF8&reviewerType=all_reviews&pageNumber=17\n",
      "https://www.amazon.com/VEGOND-Stainless-Bottles-Reusable-Insulated/product-reviews/B0B6574Q7N/ref=cm_cr_dp_d_show_all_btm?ie=UTF8&reviewerType=all_reviews&pageNumber=18\n",
      "https://www.amazon.com/VEGOND-Stainless-Bottles-Reusable-Insulated/product-reviews/B0B6574Q7N/ref=cm_cr_dp_d_show_all_btm?ie=UTF8&reviewerType=all_reviews&pageNumber=19\n",
      "https://www.amazon.com/WEREWOLVES-Insulated-Handles-Reusable-Stainless/product-reviews/B09H468NTT/ref=cm_cr_dp_d_show_all_btm?ie=UTF8&reviewerType=all_reviews&pageNumber=0\n",
      "https://www.amazon.com/WEREWOLVES-Insulated-Handles-Reusable-Stainless/product-reviews/B09H468NTT/ref=cm_cr_dp_d_show_all_btm?ie=UTF8&reviewerType=all_reviews&pageNumber=1\n",
      "https://www.amazon.com/WEREWOLVES-Insulated-Handles-Reusable-Stainless/product-reviews/B09H468NTT/ref=cm_cr_dp_d_show_all_btm?ie=UTF8&reviewerType=all_reviews&pageNumber=2\n",
      "https://www.amazon.com/WEREWOLVES-Insulated-Handles-Reusable-Stainless/product-reviews/B09H468NTT/ref=cm_cr_dp_d_show_all_btm?ie=UTF8&reviewerType=all_reviews&pageNumber=3\n",
      "https://www.amazon.com/WEREWOLVES-Insulated-Handles-Reusable-Stainless/product-reviews/B09H468NTT/ref=cm_cr_dp_d_show_all_btm?ie=UTF8&reviewerType=all_reviews&pageNumber=4\n",
      "https://www.amazon.com/WEREWOLVES-Insulated-Handles-Reusable-Stainless/product-reviews/B09H468NTT/ref=cm_cr_dp_d_show_all_btm?ie=UTF8&reviewerType=all_reviews&pageNumber=5\n",
      "https://www.amazon.com/WEREWOLVES-Insulated-Handles-Reusable-Stainless/product-reviews/B09H468NTT/ref=cm_cr_dp_d_show_all_btm?ie=UTF8&reviewerType=all_reviews&pageNumber=6\n",
      "https://www.amazon.com/WEREWOLVES-Insulated-Handles-Reusable-Stainless/product-reviews/B09H468NTT/ref=cm_cr_dp_d_show_all_btm?ie=UTF8&reviewerType=all_reviews&pageNumber=7\n",
      "https://www.amazon.com/WEREWOLVES-Insulated-Handles-Reusable-Stainless/product-reviews/B09H468NTT/ref=cm_cr_dp_d_show_all_btm?ie=UTF8&reviewerType=all_reviews&pageNumber=8\n",
      "https://www.amazon.com/WEREWOLVES-Insulated-Handles-Reusable-Stainless/product-reviews/B09H468NTT/ref=cm_cr_dp_d_show_all_btm?ie=UTF8&reviewerType=all_reviews&pageNumber=9\n",
      "https://www.amazon.com/WEREWOLVES-Insulated-Handles-Reusable-Stainless/product-reviews/B09H468NTT/ref=cm_cr_dp_d_show_all_btm?ie=UTF8&reviewerType=all_reviews&pageNumber=10\n",
      "https://www.amazon.com/WEREWOLVES-Insulated-Handles-Reusable-Stainless/product-reviews/B09H468NTT/ref=cm_cr_dp_d_show_all_btm?ie=UTF8&reviewerType=all_reviews&pageNumber=11\n",
      "https://www.amazon.com/WEREWOLVES-Insulated-Handles-Reusable-Stainless/product-reviews/B09H468NTT/ref=cm_cr_dp_d_show_all_btm?ie=UTF8&reviewerType=all_reviews&pageNumber=12\n",
      "https://www.amazon.com/WEREWOLVES-Insulated-Handles-Reusable-Stainless/product-reviews/B09H468NTT/ref=cm_cr_dp_d_show_all_btm?ie=UTF8&reviewerType=all_reviews&pageNumber=13\n",
      "https://www.amazon.com/WEREWOLVES-Insulated-Handles-Reusable-Stainless/product-reviews/B09H468NTT/ref=cm_cr_dp_d_show_all_btm?ie=UTF8&reviewerType=all_reviews&pageNumber=14\n",
      "https://www.amazon.com/WEREWOLVES-Insulated-Handles-Reusable-Stainless/product-reviews/B09H468NTT/ref=cm_cr_dp_d_show_all_btm?ie=UTF8&reviewerType=all_reviews&pageNumber=15\n",
      "https://www.amazon.com/WEREWOLVES-Insulated-Handles-Reusable-Stainless/product-reviews/B09H468NTT/ref=cm_cr_dp_d_show_all_btm?ie=UTF8&reviewerType=all_reviews&pageNumber=16\n",
      "https://www.amazon.com/WEREWOLVES-Insulated-Handles-Reusable-Stainless/product-reviews/B09H468NTT/ref=cm_cr_dp_d_show_all_btm?ie=UTF8&reviewerType=all_reviews&pageNumber=17\n",
      "https://www.amazon.com/WEREWOLVES-Insulated-Handles-Reusable-Stainless/product-reviews/B09H468NTT/ref=cm_cr_dp_d_show_all_btm?ie=UTF8&reviewerType=all_reviews&pageNumber=18\n",
      "https://www.amazon.com/WEREWOLVES-Insulated-Handles-Reusable-Stainless/product-reviews/B09H468NTT/ref=cm_cr_dp_d_show_all_btm?ie=UTF8&reviewerType=all_reviews&pageNumber=19\n",
      "https://www.amazon.com/WEREWOLVES-Insulated-Handles-Reusable-Stainless/product-reviews/B09H468NTT/ref=cm_cr_dp_d_show_all_btm?ie=UTF8&reviewerType=all_reviews&pageNumber=0\n",
      "https://www.amazon.com/WEREWOLVES-Insulated-Handles-Reusable-Stainless/product-reviews/B09H468NTT/ref=cm_cr_dp_d_show_all_btm?ie=UTF8&reviewerType=all_reviews&pageNumber=1\n",
      "https://www.amazon.com/WEREWOLVES-Insulated-Handles-Reusable-Stainless/product-reviews/B09H468NTT/ref=cm_cr_dp_d_show_all_btm?ie=UTF8&reviewerType=all_reviews&pageNumber=2\n",
      "https://www.amazon.com/WEREWOLVES-Insulated-Handles-Reusable-Stainless/product-reviews/B09H468NTT/ref=cm_cr_dp_d_show_all_btm?ie=UTF8&reviewerType=all_reviews&pageNumber=3\n",
      "https://www.amazon.com/WEREWOLVES-Insulated-Handles-Reusable-Stainless/product-reviews/B09H468NTT/ref=cm_cr_dp_d_show_all_btm?ie=UTF8&reviewerType=all_reviews&pageNumber=4\n",
      "https://www.amazon.com/WEREWOLVES-Insulated-Handles-Reusable-Stainless/product-reviews/B09H468NTT/ref=cm_cr_dp_d_show_all_btm?ie=UTF8&reviewerType=all_reviews&pageNumber=5\n",
      "https://www.amazon.com/WEREWOLVES-Insulated-Handles-Reusable-Stainless/product-reviews/B09H468NTT/ref=cm_cr_dp_d_show_all_btm?ie=UTF8&reviewerType=all_reviews&pageNumber=6\n",
      "https://www.amazon.com/WEREWOLVES-Insulated-Handles-Reusable-Stainless/product-reviews/B09H468NTT/ref=cm_cr_dp_d_show_all_btm?ie=UTF8&reviewerType=all_reviews&pageNumber=7\n",
      "https://www.amazon.com/WEREWOLVES-Insulated-Handles-Reusable-Stainless/product-reviews/B09H468NTT/ref=cm_cr_dp_d_show_all_btm?ie=UTF8&reviewerType=all_reviews&pageNumber=8\n",
      "https://www.amazon.com/WEREWOLVES-Insulated-Handles-Reusable-Stainless/product-reviews/B09H468NTT/ref=cm_cr_dp_d_show_all_btm?ie=UTF8&reviewerType=all_reviews&pageNumber=9\n",
      "https://www.amazon.com/WEREWOLVES-Insulated-Handles-Reusable-Stainless/product-reviews/B09H468NTT/ref=cm_cr_dp_d_show_all_btm?ie=UTF8&reviewerType=all_reviews&pageNumber=10\n",
      "https://www.amazon.com/WEREWOLVES-Insulated-Handles-Reusable-Stainless/product-reviews/B09H468NTT/ref=cm_cr_dp_d_show_all_btm?ie=UTF8&reviewerType=all_reviews&pageNumber=11\n",
      "https://www.amazon.com/WEREWOLVES-Insulated-Handles-Reusable-Stainless/product-reviews/B09H468NTT/ref=cm_cr_dp_d_show_all_btm?ie=UTF8&reviewerType=all_reviews&pageNumber=12\n",
      "https://www.amazon.com/WEREWOLVES-Insulated-Handles-Reusable-Stainless/product-reviews/B09H468NTT/ref=cm_cr_dp_d_show_all_btm?ie=UTF8&reviewerType=all_reviews&pageNumber=13\n",
      "https://www.amazon.com/WEREWOLVES-Insulated-Handles-Reusable-Stainless/product-reviews/B09H468NTT/ref=cm_cr_dp_d_show_all_btm?ie=UTF8&reviewerType=all_reviews&pageNumber=14\n",
      "https://www.amazon.com/WEREWOLVES-Insulated-Handles-Reusable-Stainless/product-reviews/B09H468NTT/ref=cm_cr_dp_d_show_all_btm?ie=UTF8&reviewerType=all_reviews&pageNumber=15\n",
      "https://www.amazon.com/WEREWOLVES-Insulated-Handles-Reusable-Stainless/product-reviews/B09H468NTT/ref=cm_cr_dp_d_show_all_btm?ie=UTF8&reviewerType=all_reviews&pageNumber=16\n",
      "https://www.amazon.com/WEREWOLVES-Insulated-Handles-Reusable-Stainless/product-reviews/B09H468NTT/ref=cm_cr_dp_d_show_all_btm?ie=UTF8&reviewerType=all_reviews&pageNumber=17\n",
      "https://www.amazon.com/WEREWOLVES-Insulated-Handles-Reusable-Stainless/product-reviews/B09H468NTT/ref=cm_cr_dp_d_show_all_btm?ie=UTF8&reviewerType=all_reviews&pageNumber=18\n",
      "https://www.amazon.com/WEREWOLVES-Insulated-Handles-Reusable-Stainless/product-reviews/B09H468NTT/ref=cm_cr_dp_d_show_all_btm?ie=UTF8&reviewerType=all_reviews&pageNumber=19\n"
     ]
    }
   ],
   "source": [
    "reviews=[]\n",
    "for n in range(len(link)):\n",
    "    for i in range(20):\n",
    "        response=get_reviews(link[n]+'&pageNumber='+str(i))\n",
    "        soup=BeautifulSoup(response.content)\n",
    "        for j in soup.findAll(\"span\",{'data-hook':\"review-body\"}):\n",
    "            reviews.append(j.text)"
   ]
  },
  {
   "cell_type": "code",
   "execution_count": 49,
   "id": "6968b5d4-b574-4972-9752-a0201f58dd6b",
   "metadata": {},
   "outputs": [
    {
     "data": {
      "text/plain": [
       "200"
      ]
     },
     "execution_count": 49,
     "metadata": {},
     "output_type": "execute_result"
    }
   ],
   "source": [
    "len(reviews)"
   ]
  },
  {
   "cell_type": "code",
   "execution_count": 40,
   "id": "efe5872c-beff-4a04-b189-c313d19b501d",
   "metadata": {},
   "outputs": [],
   "source": [
    "rev={'Reviews':reviews} #this stores the reviews in a dictionary "
   ]
  },
  {
   "cell_type": "code",
   "execution_count": 41,
   "id": "1b7ec612-eb7b-487b-971b-ed62fa33b12c",
   "metadata": {},
   "outputs": [],
   "source": [
    "review_data=pd.DataFrame.from_dict(rev) #this converts the dict to a pandas data frame"
   ]
  },
  {
   "cell_type": "code",
   "execution_count": 50,
   "id": "c8fcb8fe-930a-41b3-8c55-d482e86742f9",
   "metadata": {},
   "outputs": [
    {
     "data": {
      "text/html": [
       "<div>\n",
       "<style scoped>\n",
       "    .dataframe tbody tr th:only-of-type {\n",
       "        vertical-align: middle;\n",
       "    }\n",
       "\n",
       "    .dataframe tbody tr th {\n",
       "        vertical-align: top;\n",
       "    }\n",
       "\n",
       "    .dataframe thead th {\n",
       "        text-align: right;\n",
       "    }\n",
       "</style>\n",
       "<table border=\"1\" class=\"dataframe\">\n",
       "  <thead>\n",
       "    <tr style=\"text-align: right;\">\n",
       "      <th></th>\n",
       "      <th>Reviews</th>\n",
       "    </tr>\n",
       "  </thead>\n",
       "  <tbody>\n",
       "    <tr>\n",
       "      <th>0</th>\n",
       "      <td>\\nGood bottle and rugged. Retains cold and heat well. Gaskets keep a good seal. I use it everyday. I dropped it on the pavement and the finish, metal, and plastic were unscathed. This is as good as the high end bottles.\\n</td>\n",
       "    </tr>\n",
       "    <tr>\n",
       "      <th>1</th>\n",
       "      <td>\\nI love the color of my water bottle and that my water stay cold up to 48 hrs honestly. I love that it came with two lids but I only use one everyday. It’s super easy to clean even though I only put water in it. Money well spent !\\n</td>\n",
       "    </tr>\n",
       "    <tr>\n",
       "      <th>2</th>\n",
       "      <td>\\nI like this water bottle the best out of the last 4 I have bought. It works well and is easy to clean. It's not too big and not too small.  There are 2 tops provided as we.\\n</td>\n",
       "    </tr>\n",
       "    <tr>\n",
       "      <th>3</th>\n",
       "      <td>\\nThis water bottle is an excellent product. The additional straw and top make it even more of an excellent choice. It keeps my water cold as advertised.\\n</td>\n",
       "    </tr>\n",
       "    <tr>\n",
       "      <th>4</th>\n",
       "      <td>\\nIt’s definitely a cute water bottle, but I feel like it doesn’t keep water cold long enough. I also like that it comes with two different lids and two straws. Size is great and it’s super easy to clean too.\\n</td>\n",
       "    </tr>\n",
       "  </tbody>\n",
       "</table>\n",
       "</div>"
      ],
      "text/plain": [
       "                                                                                                                                                                                                                                     Reviews\n",
       "0              \\nGood bottle and rugged. Retains cold and heat well. Gaskets keep a good seal. I use it everyday. I dropped it on the pavement and the finish, metal, and plastic were unscathed. This is as good as the high end bottles.\\n\n",
       "1  \\nI love the color of my water bottle and that my water stay cold up to 48 hrs honestly. I love that it came with two lids but I only use one everyday. It’s super easy to clean even though I only put water in it. Money well spent !\\n\n",
       "2                                                           \\nI like this water bottle the best out of the last 4 I have bought. It works well and is easy to clean. It's not too big and not too small.  There are 2 tops provided as we.\\n\n",
       "3                                                                                \\nThis water bottle is an excellent product. The additional straw and top make it even more of an excellent choice. It keeps my water cold as advertised.\\n\n",
       "4                         \\nIt’s definitely a cute water bottle, but I feel like it doesn’t keep water cold long enough. I also like that it comes with two different lids and two straws. Size is great and it’s super easy to clean too.\\n"
      ]
     },
     "execution_count": 50,
     "metadata": {},
     "output_type": "execute_result"
    }
   ],
   "source": [
    "pd.set_option('max_colwidth',10000)\n",
    "review_data.head(5)"
   ]
  },
  {
   "cell_type": "markdown",
   "id": "088c2532-38ff-48fb-bd5b-aa9aab6eec1f",
   "metadata": {},
   "source": [
    "Now that I have all the reviews I need, this part of the project is complete. I can now store the reviews as a csv file for use in the second part of the project: preparing the data "
   ]
  },
  {
   "cell_type": "code",
   "execution_count": 43,
   "id": "dc144d92-1c13-428f-8737-bf0667b3f770",
   "metadata": {},
   "outputs": [],
   "source": [
    "review_data.to_csv('Scraped_Reviews.csv',index=False)"
   ]
  },
  {
   "cell_type": "markdown",
   "id": "9d7f534e-7d8f-457b-89c6-77684cfbf4e9",
   "metadata": {},
   "source": [
    "\n",
    "PART TWO: Data Prep \n"
   ]
  },
  {
   "cell_type": "code",
   "execution_count": 124,
   "id": "7cad8cac-b8de-4713-a7bc-c07c21857c09",
   "metadata": {},
   "outputs": [],
   "source": [
    "'''\n",
    "At this point I faced an issue. For some reason, I was only able to scrape 200 reviews from amazon. \n",
    "I tried using different urls and checking for errors but I believe there were some pages that \n",
    "Amazon was blocking me from accessing and I reached my limit. Therefore I decided to carry on the second \n",
    "part of the project which was data cleaning the scraped reviews but the third part onwards I would most\n",
    "likely get a prepared data set of reviews from an online source.\n",
    "'''\n",
    "import string"
   ]
  },
  {
   "cell_type": "code",
   "execution_count": 159,
   "id": "b188fe68-169d-472c-9f21-c90d95aaf060",
   "metadata": {},
   "outputs": [],
   "source": [
    "df=pd.read_csv('Scraped_Reviews.csv')"
   ]
  },
  {
   "cell_type": "code",
   "execution_count": 160,
   "id": "2bd2b09f-1ddd-4d5d-942e-01edd3d5fe81",
   "metadata": {},
   "outputs": [],
   "source": [
    "df.dropna(inplace=True) #gets rid of any missing values "
   ]
  },
  {
   "cell_type": "code",
   "execution_count": 161,
   "id": "cc51152c-993f-4de1-a939-1d6165be1c33",
   "metadata": {},
   "outputs": [
    {
     "data": {
      "text/plain": [
       "(200, 1)"
      ]
     },
     "execution_count": 161,
     "metadata": {},
     "output_type": "execute_result"
    }
   ],
   "source": [
    "df.shape"
   ]
  },
  {
   "cell_type": "code",
   "execution_count": 162,
   "id": "fc0e48a3-0c3b-4dfb-811a-ee10ec12c92d",
   "metadata": {},
   "outputs": [
    {
     "data": {
      "text/html": [
       "<div>\n",
       "<style scoped>\n",
       "    .dataframe tbody tr th:only-of-type {\n",
       "        vertical-align: middle;\n",
       "    }\n",
       "\n",
       "    .dataframe tbody tr th {\n",
       "        vertical-align: top;\n",
       "    }\n",
       "\n",
       "    .dataframe thead th {\n",
       "        text-align: right;\n",
       "    }\n",
       "</style>\n",
       "<table border=\"1\" class=\"dataframe\">\n",
       "  <thead>\n",
       "    <tr style=\"text-align: right;\">\n",
       "      <th></th>\n",
       "      <th>Reviews</th>\n",
       "    </tr>\n",
       "  </thead>\n",
       "  <tbody>\n",
       "    <tr>\n",
       "      <th>count</th>\n",
       "      <td>200</td>\n",
       "    </tr>\n",
       "    <tr>\n",
       "      <th>unique</th>\n",
       "      <td>120</td>\n",
       "    </tr>\n",
       "    <tr>\n",
       "      <th>top</th>\n",
       "      <td>\\nI place ice and water in the bottle and stayed cold all day.  Easy to clean. Get asked where I got it from all the time. Love the bottles everyone in the family has one! They go the high school every day lol\\n</td>\n",
       "    </tr>\n",
       "    <tr>\n",
       "      <th>freq</th>\n",
       "      <td>2</td>\n",
       "    </tr>\n",
       "  </tbody>\n",
       "</table>\n",
       "</div>"
      ],
      "text/plain": [
       "                                                                                                                                                                                                                    Reviews\n",
       "count                                                                                                                                                                                                                   200\n",
       "unique                                                                                                                                                                                                                  120\n",
       "top     \\nI place ice and water in the bottle and stayed cold all day.  Easy to clean. Get asked where I got it from all the time. Love the bottles everyone in the family has one! They go the high school every day lol\\n\n",
       "freq                                                                                                                                                                                                                      2"
      ]
     },
     "execution_count": 162,
     "metadata": {},
     "output_type": "execute_result"
    }
   ],
   "source": [
    "df.describe() #shows me how many duplicates of reviews there are"
   ]
  },
  {
   "cell_type": "code",
   "execution_count": 163,
   "id": "6e2ba105-f910-4196-afaf-e2beb6d680d8",
   "metadata": {},
   "outputs": [],
   "source": [
    "duplicates=df.duplicated()"
   ]
  },
  {
   "cell_type": "code",
   "execution_count": 164,
   "id": "9e3d0b56-76ed-45dd-8cb1-6f083c09f1c6",
   "metadata": {},
   "outputs": [],
   "source": [
    "df.drop_duplicates(inplace=True) #gets rid of the duplicates"
   ]
  },
  {
   "cell_type": "code",
   "execution_count": 165,
   "id": "1066109e-3235-4233-9534-25b59210a9ee",
   "metadata": {},
   "outputs": [
    {
     "data": {
      "text/html": [
       "<div>\n",
       "<style scoped>\n",
       "    .dataframe tbody tr th:only-of-type {\n",
       "        vertical-align: middle;\n",
       "    }\n",
       "\n",
       "    .dataframe tbody tr th {\n",
       "        vertical-align: top;\n",
       "    }\n",
       "\n",
       "    .dataframe thead th {\n",
       "        text-align: right;\n",
       "    }\n",
       "</style>\n",
       "<table border=\"1\" class=\"dataframe\">\n",
       "  <thead>\n",
       "    <tr style=\"text-align: right;\">\n",
       "      <th></th>\n",
       "      <th>Reviews</th>\n",
       "    </tr>\n",
       "  </thead>\n",
       "  <tbody>\n",
       "    <tr>\n",
       "      <th>count</th>\n",
       "      <td>120</td>\n",
       "    </tr>\n",
       "    <tr>\n",
       "      <th>unique</th>\n",
       "      <td>120</td>\n",
       "    </tr>\n",
       "    <tr>\n",
       "      <th>top</th>\n",
       "      <td>\\nGood bottle and rugged. Retains cold and heat well. Gaskets keep a good seal. I use it everyday. I dropped it on the pavement and the finish, metal, and plastic were unscathed. This is as good as the high end bottles.\\n</td>\n",
       "    </tr>\n",
       "    <tr>\n",
       "      <th>freq</th>\n",
       "      <td>1</td>\n",
       "    </tr>\n",
       "  </tbody>\n",
       "</table>\n",
       "</div>"
      ],
      "text/plain": [
       "                                                                                                                                                                                                                              Reviews\n",
       "count                                                                                                                                                                                                                             120\n",
       "unique                                                                                                                                                                                                                            120\n",
       "top     \\nGood bottle and rugged. Retains cold and heat well. Gaskets keep a good seal. I use it everyday. I dropped it on the pavement and the finish, metal, and plastic were unscathed. This is as good as the high end bottles.\\n\n",
       "freq                                                                                                                                                                                                                                1"
      ]
     },
     "execution_count": 165,
     "metadata": {},
     "output_type": "execute_result"
    }
   ],
   "source": [
    "df.describe()"
   ]
  },
  {
   "cell_type": "code",
   "execution_count": 166,
   "id": "d9c2c5c5-591f-4d8e-8217-4315ddc6ae6f",
   "metadata": {},
   "outputs": [],
   "source": [
    "df['reviews']=df['Reviews'].str.lower() \n",
    "#this creates a column of all the text in lowercase to standardise the data"
   ]
  },
  {
   "cell_type": "code",
   "execution_count": 167,
   "id": "ed995f71-9551-4ae2-b22b-c87f63d3c943",
   "metadata": {},
   "outputs": [
    {
     "data": {
      "text/html": [
       "<div>\n",
       "<style scoped>\n",
       "    .dataframe tbody tr th:only-of-type {\n",
       "        vertical-align: middle;\n",
       "    }\n",
       "\n",
       "    .dataframe tbody tr th {\n",
       "        vertical-align: top;\n",
       "    }\n",
       "\n",
       "    .dataframe thead th {\n",
       "        text-align: right;\n",
       "    }\n",
       "</style>\n",
       "<table border=\"1\" class=\"dataframe\">\n",
       "  <thead>\n",
       "    <tr style=\"text-align: right;\">\n",
       "      <th></th>\n",
       "      <th>Reviews</th>\n",
       "      <th>reviews</th>\n",
       "    </tr>\n",
       "  </thead>\n",
       "  <tbody>\n",
       "    <tr>\n",
       "      <th>0</th>\n",
       "      <td>\\nGood bottle and rugged. Retains cold and heat well. Gaskets keep a good seal. I use it everyday. I dropped it on the pavement and the finish, metal, and plastic were unscathed. This is as good as the high end bottles.\\n</td>\n",
       "      <td>\\ngood bottle and rugged. retains cold and heat well. gaskets keep a good seal. i use it everyday. i dropped it on the pavement and the finish, metal, and plastic were unscathed. this is as good as the high end bottles.\\n</td>\n",
       "    </tr>\n",
       "    <tr>\n",
       "      <th>1</th>\n",
       "      <td>\\nI love the color of my water bottle and that my water stay cold up to 48 hrs honestly. I love that it came with two lids but I only use one everyday. It’s super easy to clean even though I only put water in it. Money well spent !\\n</td>\n",
       "      <td>\\ni love the color of my water bottle and that my water stay cold up to 48 hrs honestly. i love that it came with two lids but i only use one everyday. it’s super easy to clean even though i only put water in it. money well spent !\\n</td>\n",
       "    </tr>\n",
       "  </tbody>\n",
       "</table>\n",
       "</div>"
      ],
      "text/plain": [
       "                                                                                                                                                                                                                                     Reviews   \n",
       "0              \\nGood bottle and rugged. Retains cold and heat well. Gaskets keep a good seal. I use it everyday. I dropped it on the pavement and the finish, metal, and plastic were unscathed. This is as good as the high end bottles.\\n  \\\n",
       "1  \\nI love the color of my water bottle and that my water stay cold up to 48 hrs honestly. I love that it came with two lids but I only use one everyday. It’s super easy to clean even though I only put water in it. Money well spent !\\n   \n",
       "\n",
       "                                                                                                                                                                                                                                     reviews  \n",
       "0              \\ngood bottle and rugged. retains cold and heat well. gaskets keep a good seal. i use it everyday. i dropped it on the pavement and the finish, metal, and plastic were unscathed. this is as good as the high end bottles.\\n  \n",
       "1  \\ni love the color of my water bottle and that my water stay cold up to 48 hrs honestly. i love that it came with two lids but i only use one everyday. it’s super easy to clean even though i only put water in it. money well spent !\\n  "
      ]
     },
     "execution_count": 167,
     "metadata": {},
     "output_type": "execute_result"
    }
   ],
   "source": [
    "df[0:2]"
   ]
  },
  {
   "cell_type": "code",
   "execution_count": 168,
   "id": "91ba4aa0-a05f-4d86-a100-47bbdd88e6c7",
   "metadata": {},
   "outputs": [],
   "source": [
    "df['reviewss']=df['reviews'].str.replace(r'\\n','',regex=True) \n",
    "#this removes the '\\n' from the start and end of each review"
   ]
  },
  {
   "cell_type": "code",
   "execution_count": 169,
   "id": "3772630e-2daa-4496-b775-b5e7231ee9d9",
   "metadata": {},
   "outputs": [
    {
     "data": {
      "text/html": [
       "<div>\n",
       "<style scoped>\n",
       "    .dataframe tbody tr th:only-of-type {\n",
       "        vertical-align: middle;\n",
       "    }\n",
       "\n",
       "    .dataframe tbody tr th {\n",
       "        vertical-align: top;\n",
       "    }\n",
       "\n",
       "    .dataframe thead th {\n",
       "        text-align: right;\n",
       "    }\n",
       "</style>\n",
       "<table border=\"1\" class=\"dataframe\">\n",
       "  <thead>\n",
       "    <tr style=\"text-align: right;\">\n",
       "      <th></th>\n",
       "      <th>Reviews</th>\n",
       "      <th>reviews</th>\n",
       "      <th>reviewss</th>\n",
       "    </tr>\n",
       "  </thead>\n",
       "  <tbody>\n",
       "    <tr>\n",
       "      <th>0</th>\n",
       "      <td>\\nGood bottle and rugged. Retains cold and heat well. Gaskets keep a good seal. I use it everyday. I dropped it on the pavement and the finish, metal, and plastic were unscathed. This is as good as the high end bottles.\\n</td>\n",
       "      <td>\\ngood bottle and rugged. retains cold and heat well. gaskets keep a good seal. i use it everyday. i dropped it on the pavement and the finish, metal, and plastic were unscathed. this is as good as the high end bottles.\\n</td>\n",
       "      <td>good bottle and rugged. retains cold and heat well. gaskets keep a good seal. i use it everyday. i dropped it on the pavement and the finish, metal, and plastic were unscathed. this is as good as the high end bottles.</td>\n",
       "    </tr>\n",
       "    <tr>\n",
       "      <th>1</th>\n",
       "      <td>\\nI love the color of my water bottle and that my water stay cold up to 48 hrs honestly. I love that it came with two lids but I only use one everyday. It’s super easy to clean even though I only put water in it. Money well spent !\\n</td>\n",
       "      <td>\\ni love the color of my water bottle and that my water stay cold up to 48 hrs honestly. i love that it came with two lids but i only use one everyday. it’s super easy to clean even though i only put water in it. money well spent !\\n</td>\n",
       "      <td>i love the color of my water bottle and that my water stay cold up to 48 hrs honestly. i love that it came with two lids but i only use one everyday. it’s super easy to clean even though i only put water in it. money well spent !</td>\n",
       "    </tr>\n",
       "  </tbody>\n",
       "</table>\n",
       "</div>"
      ],
      "text/plain": [
       "                                                                                                                                                                                                                                     Reviews   \n",
       "0              \\nGood bottle and rugged. Retains cold and heat well. Gaskets keep a good seal. I use it everyday. I dropped it on the pavement and the finish, metal, and plastic were unscathed. This is as good as the high end bottles.\\n  \\\n",
       "1  \\nI love the color of my water bottle and that my water stay cold up to 48 hrs honestly. I love that it came with two lids but I only use one everyday. It’s super easy to clean even though I only put water in it. Money well spent !\\n   \n",
       "\n",
       "                                                                                                                                                                                                                                     reviews   \n",
       "0              \\ngood bottle and rugged. retains cold and heat well. gaskets keep a good seal. i use it everyday. i dropped it on the pavement and the finish, metal, and plastic were unscathed. this is as good as the high end bottles.\\n  \\\n",
       "1  \\ni love the color of my water bottle and that my water stay cold up to 48 hrs honestly. i love that it came with two lids but i only use one everyday. it’s super easy to clean even though i only put water in it. money well spent !\\n   \n",
       "\n",
       "                                                                                                                                                                                                                                reviewss  \n",
       "0              good bottle and rugged. retains cold and heat well. gaskets keep a good seal. i use it everyday. i dropped it on the pavement and the finish, metal, and plastic were unscathed. this is as good as the high end bottles.  \n",
       "1  i love the color of my water bottle and that my water stay cold up to 48 hrs honestly. i love that it came with two lids but i only use one everyday. it’s super easy to clean even though i only put water in it. money well spent !  "
      ]
     },
     "execution_count": 169,
     "metadata": {},
     "output_type": "execute_result"
    }
   ],
   "source": [
    "df[0:2]"
   ]
  },
  {
   "cell_type": "code",
   "execution_count": 171,
   "id": "2ba30026-657c-41b7-b46d-f86b92b67613",
   "metadata": {},
   "outputs": [
    {
     "data": {
      "text/html": [
       "<div>\n",
       "<style scoped>\n",
       "    .dataframe tbody tr th:only-of-type {\n",
       "        vertical-align: middle;\n",
       "    }\n",
       "\n",
       "    .dataframe tbody tr th {\n",
       "        vertical-align: top;\n",
       "    }\n",
       "\n",
       "    .dataframe thead th {\n",
       "        text-align: right;\n",
       "    }\n",
       "</style>\n",
       "<table border=\"1\" class=\"dataframe\">\n",
       "  <thead>\n",
       "    <tr style=\"text-align: right;\">\n",
       "      <th></th>\n",
       "      <th>Reviews</th>\n",
       "      <th>reviews</th>\n",
       "      <th>reviewss</th>\n",
       "      <th>Cleaned</th>\n",
       "    </tr>\n",
       "  </thead>\n",
       "  <tbody>\n",
       "    <tr>\n",
       "      <th>0</th>\n",
       "      <td>\\nGood bottle and rugged. Retains cold and heat well. Gaskets keep a good seal. I use it everyday. I dropped it on the pavement and the finish, metal, and plastic were unscathed. This is as good as the high end bottles.\\n</td>\n",
       "      <td>\\ngood bottle and rugged. retains cold and heat well. gaskets keep a good seal. i use it everyday. i dropped it on the pavement and the finish, metal, and plastic were unscathed. this is as good as the high end bottles.\\n</td>\n",
       "      <td>good bottle and rugged. retains cold and heat well. gaskets keep a good seal. i use it everyday. i dropped it on the pavement and the finish, metal, and plastic were unscathed. this is as good as the high end bottles.</td>\n",
       "      <td>good bottle and rugged retains cold and heat well gaskets keep a good seal i use it everyday i dropped it on the pavement and the finish metal and plastic were unscathed this is as good as the high end bottles</td>\n",
       "    </tr>\n",
       "    <tr>\n",
       "      <th>1</th>\n",
       "      <td>\\nI love the color of my water bottle and that my water stay cold up to 48 hrs honestly. I love that it came with two lids but I only use one everyday. It’s super easy to clean even though I only put water in it. Money well spent !\\n</td>\n",
       "      <td>\\ni love the color of my water bottle and that my water stay cold up to 48 hrs honestly. i love that it came with two lids but i only use one everyday. it’s super easy to clean even though i only put water in it. money well spent !\\n</td>\n",
       "      <td>i love the color of my water bottle and that my water stay cold up to 48 hrs honestly. i love that it came with two lids but i only use one everyday. it’s super easy to clean even though i only put water in it. money well spent !</td>\n",
       "      <td>i love the color of my water bottle and that my water stay cold up to  hrs honestly i love that it came with two lids but i only use one everyday it’s super easy to clean even though i only put water in it money well spent</td>\n",
       "    </tr>\n",
       "    <tr>\n",
       "      <th>2</th>\n",
       "      <td>\\nI like this water bottle the best out of the last 4 I have bought. It works well and is easy to clean. It's not too big and not too small.  There are 2 tops provided as we.\\n</td>\n",
       "      <td>\\ni like this water bottle the best out of the last 4 i have bought. it works well and is easy to clean. it's not too big and not too small.  there are 2 tops provided as we.\\n</td>\n",
       "      <td>i like this water bottle the best out of the last 4 i have bought. it works well and is easy to clean. it's not too big and not too small.  there are 2 tops provided as we.</td>\n",
       "      <td>i like this water bottle the best out of the last  i have bought it works well and is easy to clean its not too big and not too small  there are  tops provided as we</td>\n",
       "    </tr>\n",
       "    <tr>\n",
       "      <th>3</th>\n",
       "      <td>\\nThis water bottle is an excellent product. The additional straw and top make it even more of an excellent choice. It keeps my water cold as advertised.\\n</td>\n",
       "      <td>\\nthis water bottle is an excellent product. the additional straw and top make it even more of an excellent choice. it keeps my water cold as advertised.\\n</td>\n",
       "      <td>this water bottle is an excellent product. the additional straw and top make it even more of an excellent choice. it keeps my water cold as advertised.</td>\n",
       "      <td>this water bottle is an excellent product the additional straw and top make it even more of an excellent choice it keeps my water cold as advertised</td>\n",
       "    </tr>\n",
       "    <tr>\n",
       "      <th>4</th>\n",
       "      <td>\\nIt’s definitely a cute water bottle, but I feel like it doesn’t keep water cold long enough. I also like that it comes with two different lids and two straws. Size is great and it’s super easy to clean too.\\n</td>\n",
       "      <td>\\nit’s definitely a cute water bottle, but i feel like it doesn’t keep water cold long enough. i also like that it comes with two different lids and two straws. size is great and it’s super easy to clean too.\\n</td>\n",
       "      <td>it’s definitely a cute water bottle, but i feel like it doesn’t keep water cold long enough. i also like that it comes with two different lids and two straws. size is great and it’s super easy to clean too.</td>\n",
       "      <td>it’s definitely a cute water bottle but i feel like it doesn’t keep water cold long enough i also like that it comes with two different lids and two straws size is great and it’s super easy to clean too</td>\n",
       "    </tr>\n",
       "  </tbody>\n",
       "</table>\n",
       "</div>"
      ],
      "text/plain": [
       "                                                                                                                                                                                                                                     Reviews   \n",
       "0              \\nGood bottle and rugged. Retains cold and heat well. Gaskets keep a good seal. I use it everyday. I dropped it on the pavement and the finish, metal, and plastic were unscathed. This is as good as the high end bottles.\\n  \\\n",
       "1  \\nI love the color of my water bottle and that my water stay cold up to 48 hrs honestly. I love that it came with two lids but I only use one everyday. It’s super easy to clean even though I only put water in it. Money well spent !\\n   \n",
       "2                                                           \\nI like this water bottle the best out of the last 4 I have bought. It works well and is easy to clean. It's not too big and not too small.  There are 2 tops provided as we.\\n   \n",
       "3                                                                                \\nThis water bottle is an excellent product. The additional straw and top make it even more of an excellent choice. It keeps my water cold as advertised.\\n   \n",
       "4                         \\nIt’s definitely a cute water bottle, but I feel like it doesn’t keep water cold long enough. I also like that it comes with two different lids and two straws. Size is great and it’s super easy to clean too.\\n   \n",
       "\n",
       "                                                                                                                                                                                                                                     reviews   \n",
       "0              \\ngood bottle and rugged. retains cold and heat well. gaskets keep a good seal. i use it everyday. i dropped it on the pavement and the finish, metal, and plastic were unscathed. this is as good as the high end bottles.\\n  \\\n",
       "1  \\ni love the color of my water bottle and that my water stay cold up to 48 hrs honestly. i love that it came with two lids but i only use one everyday. it’s super easy to clean even though i only put water in it. money well spent !\\n   \n",
       "2                                                           \\ni like this water bottle the best out of the last 4 i have bought. it works well and is easy to clean. it's not too big and not too small.  there are 2 tops provided as we.\\n   \n",
       "3                                                                                \\nthis water bottle is an excellent product. the additional straw and top make it even more of an excellent choice. it keeps my water cold as advertised.\\n   \n",
       "4                         \\nit’s definitely a cute water bottle, but i feel like it doesn’t keep water cold long enough. i also like that it comes with two different lids and two straws. size is great and it’s super easy to clean too.\\n   \n",
       "\n",
       "                                                                                                                                                                                                                                reviewss   \n",
       "0              good bottle and rugged. retains cold and heat well. gaskets keep a good seal. i use it everyday. i dropped it on the pavement and the finish, metal, and plastic were unscathed. this is as good as the high end bottles.  \\\n",
       "1  i love the color of my water bottle and that my water stay cold up to 48 hrs honestly. i love that it came with two lids but i only use one everyday. it’s super easy to clean even though i only put water in it. money well spent !   \n",
       "2                                                           i like this water bottle the best out of the last 4 i have bought. it works well and is easy to clean. it's not too big and not too small.  there are 2 tops provided as we.   \n",
       "3                                                                                this water bottle is an excellent product. the additional straw and top make it even more of an excellent choice. it keeps my water cold as advertised.   \n",
       "4                         it’s definitely a cute water bottle, but i feel like it doesn’t keep water cold long enough. i also like that it comes with two different lids and two straws. size is great and it’s super easy to clean too.   \n",
       "\n",
       "                                                                                                                                                                                                                           Cleaned  \n",
       "0                good bottle and rugged retains cold and heat well gaskets keep a good seal i use it everyday i dropped it on the pavement and the finish metal and plastic were unscathed this is as good as the high end bottles  \n",
       "1  i love the color of my water bottle and that my water stay cold up to  hrs honestly i love that it came with two lids but i only use one everyday it’s super easy to clean even though i only put water in it money well spent   \n",
       "2                                                            i like this water bottle the best out of the last  i have bought it works well and is easy to clean its not too big and not too small  there are  tops provided as we  \n",
       "3                                                                             this water bottle is an excellent product the additional straw and top make it even more of an excellent choice it keeps my water cold as advertised  \n",
       "4                       it’s definitely a cute water bottle but i feel like it doesn’t keep water cold long enough i also like that it comes with two different lids and two straws size is great and it’s super easy to clean too  "
      ]
     },
     "execution_count": 171,
     "metadata": {},
     "output_type": "execute_result"
    }
   ],
   "source": [
    "#the two lines of code remove the digits and special characters from each review\n",
    "df['Cleaned']=df['reviewss'].str.replace(r'[\\d\\(\\)]', '', regex=True)\n",
    "df['Cleaned']=df['Cleaned'].str.replace('[' + string.punctuation + ']', '', regex=True)\n",
    "df.head() #you can see the progression of cleaning from column to column"
   ]
  },
  {
   "cell_type": "code",
   "execution_count": 172,
   "id": "885dc44a-5285-42d5-968a-7cef1bf89ddb",
   "metadata": {},
   "outputs": [],
   "source": [
    "#this drops all the columns except the Cleaned one\n",
    "df.drop('Reviews',axis=1,inplace=True)\n",
    "df.drop('reviews',axis=1,inplace=True)\n",
    "df.drop('reviewss',axis=1,inplace=True)"
   ]
  },
  {
   "cell_type": "code",
   "execution_count": 187,
   "id": "7c72f2ef-e3e7-45d7-b7aa-725c07b37a67",
   "metadata": {},
   "outputs": [
    {
     "data": {
      "text/html": [
       "<div>\n",
       "<style scoped>\n",
       "    .dataframe tbody tr th:only-of-type {\n",
       "        vertical-align: middle;\n",
       "    }\n",
       "\n",
       "    .dataframe tbody tr th {\n",
       "        vertical-align: top;\n",
       "    }\n",
       "\n",
       "    .dataframe thead th {\n",
       "        text-align: right;\n",
       "    }\n",
       "</style>\n",
       "<table border=\"1\" class=\"dataframe\">\n",
       "  <thead>\n",
       "    <tr style=\"text-align: right;\">\n",
       "      <th></th>\n",
       "      <th>Cleaned</th>\n",
       "    </tr>\n",
       "  </thead>\n",
       "  <tbody>\n",
       "    <tr>\n",
       "      <th>0</th>\n",
       "      <td>good bottle and rugged retains cold and heat well gaskets keep a good seal i use it everyday i dropped it on the pavement and the finish metal and plastic were unscathed this is as good as the high end bottles</td>\n",
       "    </tr>\n",
       "    <tr>\n",
       "      <th>1</th>\n",
       "      <td>i love the color of my water bottle and that my water stay cold up to  hrs honestly i love that it came with two lids but i only use one everyday it’s super easy to clean even though i only put water in it money well spent</td>\n",
       "    </tr>\n",
       "    <tr>\n",
       "      <th>2</th>\n",
       "      <td>i like this water bottle the best out of the last  i have bought it works well and is easy to clean its not too big and not too small  there are  tops provided as we</td>\n",
       "    </tr>\n",
       "    <tr>\n",
       "      <th>3</th>\n",
       "      <td>this water bottle is an excellent product the additional straw and top make it even more of an excellent choice it keeps my water cold as advertised</td>\n",
       "    </tr>\n",
       "    <tr>\n",
       "      <th>4</th>\n",
       "      <td>it’s definitely a cute water bottle but i feel like it doesn’t keep water cold long enough i also like that it comes with two different lids and two straws size is great and it’s super easy to clean too</td>\n",
       "    </tr>\n",
       "  </tbody>\n",
       "</table>\n",
       "</div>"
      ],
      "text/plain": [
       "                                                                                                                                                                                                                           Cleaned\n",
       "0                good bottle and rugged retains cold and heat well gaskets keep a good seal i use it everyday i dropped it on the pavement and the finish metal and plastic were unscathed this is as good as the high end bottles\n",
       "1  i love the color of my water bottle and that my water stay cold up to  hrs honestly i love that it came with two lids but i only use one everyday it’s super easy to clean even though i only put water in it money well spent \n",
       "2                                                            i like this water bottle the best out of the last  i have bought it works well and is easy to clean its not too big and not too small  there are  tops provided as we\n",
       "3                                                                             this water bottle is an excellent product the additional straw and top make it even more of an excellent choice it keeps my water cold as advertised\n",
       "4                       it’s definitely a cute water bottle but i feel like it doesn’t keep water cold long enough i also like that it comes with two different lids and two straws size is great and it’s super easy to clean too"
      ]
     },
     "execution_count": 187,
     "metadata": {},
     "output_type": "execute_result"
    }
   ],
   "source": [
    "df.head()"
   ]
  },
  {
   "cell_type": "code",
   "execution_count": null,
   "id": "98606ea8-a85a-4f39-8ee0-d0a904445791",
   "metadata": {},
   "outputs": [],
   "source": []
  }
 ],
 "metadata": {
  "kernelspec": {
   "display_name": "Python 3 (ipykernel)",
   "language": "python",
   "name": "python3"
  },
  "language_info": {
   "codemirror_mode": {
    "name": "ipython",
    "version": 3
   },
   "file_extension": ".py",
   "mimetype": "text/x-python",
   "name": "python",
   "nbconvert_exporter": "python",
   "pygments_lexer": "ipython3",
   "version": "3.11.2"
  }
 },
 "nbformat": 4,
 "nbformat_minor": 5
}
