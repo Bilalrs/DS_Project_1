{
 "cells": [
  {
   "cell_type": "markdown",
   "id": "93927ebb-1355-484f-9e8b-79fe3da1adc6",
   "metadata": {},
   "source": [
    "This is the start of the project on sentiment analysis of customer reviews\n",
    "\n",
    "Objective: Determine the sentiment (positive, neutral, negative) of customer reviews.\r\n",
    "\n",
    "Scope: Decide whether you'll focus on reviews from a specific industry, product, or service.\n",
    "\r\n",
    "Outcome: Develop a model that can automatically classify the sentiment of reviews."
   ]
  },
  {
   "cell_type": "markdown",
   "id": "1c985ed8-a312-467b-9fda-3f2c64117067",
   "metadata": {},
   "source": [
    "The first step is to go on amazon.com and find products that have a lot of reviews and the reviews are descriptive. I have chosen beat wireless headphones. the full url is: https://www.amazon.co.uk/s?k=beats+headphones+wireless&crid=6JIPHRNVM3HH&sprefix=beats+headp%2Caps%2C80&ref=nb_sb_ss_ts-doa-p_1_11"
   ]
  },
  {
   "cell_type": "markdown",
   "id": "4d370559-6848-4f38-be28-78e29b0d6878",
   "metadata": {},
   "source": [
    "I go on the page, right click and inspect element which pulls up the window to get access to the websites html files.\n"
   ]
  },
  {
   "cell_type": "code",
   "execution_count": 3,
   "id": "afb55e47-23e9-4e11-8ade-7f64fec10248",
   "metadata": {},
   "outputs": [],
   "source": [
    "#import the relevant libraries\n",
    "import pandas as pd\n",
    "import requests\n",
    "from bs4 import BeautifulSoup"
   ]
  },
  {
   "cell_type": "code",
   "execution_count": 4,
   "id": "2c81bfde-6f40-4b87-b4e3-1ff5addd3594",
   "metadata": {},
   "outputs": [
    {
     "data": {
      "text/plain": [
       "200"
      ]
     },
     "execution_count": 4,
     "metadata": {},
     "output_type": "execute_result"
    }
   ],
   "source": [
    "'''\n",
    "first i retrieve the base url and search query from the site browser then i add the header variable which \n",
    "assigns the user agent and referer so when i request from amazon they dont think its a bot and \n",
    "dont block my request. \n",
    "helps with webscraping \n",
    "\n",
    "'''\n",
    "\n",
    "base_url='https://www.amazon.com/s?k='\n",
    "search_query='beats+headphones+wireless'\n",
    "url=base_url+search_query\n",
    "header={'User-Agent':'Mozilla/5.0 (Windows NT 10.0; Win64; x64) AppleWebKit/537.36 (KHTML, like Gecko) Chrome/120.0.0.0 Safari/537.36 Edg/120.0.0.0','referer':'https://www.amazon.co.uk/s?k=beats+headphones+wireless&crid=6JIPHRNVM3HH&sprefix=beats+headp%2Caps%2C80&ref=nb_sb_ss_ts-doa-p_1_11'}\n",
    "response=requests.get(url,headers=header)\n",
    "response.status_code"
   ]
  },
  {
   "cell_type": "code",
   "execution_count": 5,
   "id": "763baf9d-acab-46bc-bedb-ae6dc6902c18",
   "metadata": {},
   "outputs": [],
   "source": [
    "#the 200 status code means the request succeeded "
   ]
  },
  {
   "cell_type": "code",
   "execution_count": 6,
   "id": "b3946fa3-0707-4b59-a6b8-fcf72b81e9d6",
   "metadata": {
    "scrolled": true
   },
   "outputs": [],
   "source": [
    "#response.text"
   ]
  },
  {
   "cell_type": "markdown",
   "id": "5481502d-c3a5-4d59-bb25-8c514c569c09",
   "metadata": {},
   "source": [
    "Now we create the functions to retrive all the reviews"
   ]
  },
  {
   "cell_type": "code",
   "execution_count": 7,
   "id": "d8b4920a-b03e-4354-8da5-a9d4b012a08e",
   "metadata": {},
   "outputs": [],
   "source": [
    "#function to get the search query page\n",
    "def get_Amazon_page(search_query):\n",
    "    url= base_url + search_query\n",
    "    print(url)\n",
    "    page=requests.get(url,headers=header)\n",
    "    if page.status_code == 200:\n",
    "        return page\n",
    "    else:\n",
    "        return 'Error'"
   ]
  },
  {
   "cell_type": "code",
   "execution_count": 8,
   "id": "f1ce202c-dc9a-4252-a071-1a73b926af39",
   "metadata": {},
   "outputs": [],
   "source": [
    "#function to get the contents of each product page using the unique identification number(asin)\n",
    "#the /dp/ leads to the directory path to the product detail page\n",
    "def get_asin(asin):\n",
    "    url='https://www.amazon.com/dp/'+asin\n",
    "    print(url)\n",
    "    page=requests.get(url,headers=header)\n",
    "    if page.status_code==200:\n",
    "        return page\n",
    "    else:\n",
    "        return 'Error'"
   ]
  },
  {
   "cell_type": "code",
   "execution_count": 9,
   "id": "874a8b51-8586-421d-a425-0837eb8835fa",
   "metadata": {},
   "outputs": [],
   "source": [
    "#function to extract the content from 'see all reviews' page\n",
    "def get_reviews(review_link):\n",
    "    url='https://www.amazon.com'+ review_link\n",
    "    print(url)\n",
    "    page= requests.get(url,headers=header)\n",
    "    if page.status_code == 200:\n",
    "        return page\n",
    "    else:\n",
    "        return 'Error'"
   ]
  },
  {
   "cell_type": "markdown",
   "id": "5e64c18d-c185-4795-84ac-3d7091d6bb11",
   "metadata": {},
   "source": [
    "Now we begin the extraction of product reviews"
   ]
  },
  {
   "cell_type": "code",
   "execution_count": 10,
   "id": "fab5aa25-bd8d-4551-a9bc-c5ae04c46b3d",
   "metadata": {},
   "outputs": [
    {
     "name": "stdout",
     "output_type": "stream",
     "text": [
      "https://www.amazon.com/s?k=beats+headphones+wireless\n"
     ]
    }
   ],
   "source": [
    "#I create the empty list and call my first function. I then inspect element for a product on the page and\n",
    "#find the span element in the html and copy and paste the class\n",
    "product_names=[]\n",
    "response=get_Amazon_page(search_query)\n",
    "soup=BeautifulSoup(response.content)\n",
    "for n in soup.findAll('span',{'class':'a-size-medium a-color-base a-text-normal'}):# this tag is common for all the product names\n",
    "        product_names.append(n.text) #adds them to the empty list"
   ]
  },
  {
   "cell_type": "code",
   "execution_count": 11,
   "id": "fb7c1afb-c65b-4d8b-bd50-fd88ceb63495",
   "metadata": {
    "scrolled": true
   },
   "outputs": [
    {
     "data": {
      "text/plain": [
       "['Soundcore by Anker Life Q30 Hybrid Active Noise Cancelling Headphones with Multiple Modes, Hi-Res Sound, Custom EQ via App, 40H Playtime, Comfortable Fit, Bluetooth, Multipoint Connection',\n",
       " 'ZIHNIC Active Noise Cancelling Headphones, 40H Playtime Wireless Bluetooth Headset with Deep Bass Hi-Fi Stereo Sound,Comfortable Earpads for Travel/Home/Office (Black)',\n",
       " 'Beats Studio Pro - Wireless Bluetooth Noise Cancelling Headphones - Sandstone (Renewed)',\n",
       " 'Beats Studio Pro - Wireless Bluetooth Noise Cancelling Headphones - Personalized Spatial Audio, USB-C Lossless Audio, Apple & Android Compatibility, Up to 40 Hours Battery Life - Black',\n",
       " 'Beats Solo3 Wireless Headphones - Silver (Renewed)',\n",
       " 'Beats Solo2 On-Ear Headphone Luxe Edition (WIRED, Not Wireless) (Renewed) - Blue',\n",
       " 'beats by Dr. Dre EP On-Ear Headphones - Black (Renewed)',\n",
       " \"Beats Solo3 Wireless On-Ear Headphones - Apple W1 Headphone Chip, Class 1 Bluetooth, 40 Hours Of Listening Time - Mickey's 90th Anniversary Edition - Grey (Previous Model)\",\n",
       " 'Beats Studio Pro - Wireless Bluetooth Noise Cancelling Headphones - Navy (Renewed Premium)',\n",
       " 'Beats Flex Wireless Earbuds - Apple W1 Headphone Chip, Magnetic Earphones, Class 1 Bluetooth, 12 Hours of Listening Time, Built-in Microphone - Flame Blue',\n",
       " 'Beats Studio Buds - True Wireless Noise Cancelling\\xa0Earbuds\\xa0- Compatible with Apple & Android, Built-in Microphone, IPX4 Rating, Sweat Resistant Earphones, Class 1 Bluetooth\\xa0Headphones - Moon Gray',\n",
       " 'soundcore by Anker Liberty 4 NC Wireless Earbuds, 98.5% Noise Reduction, Adaptive Noise Cancelling to Ears and Environment, Hi-Res Sound, 50H Battery, Wireless Charging, Bluetooth 5.3',\n",
       " 'Beats Studio Wireless Over-Ear Headphones - Blue (Renewed)',\n",
       " 'MONODEAL Wireless Headphones for TV Watching with Digital Optical RCA AUX Bluetooth 5.1 Transmitter & Charging Dock, Over Ear Headset for Seniors, 100ft Range, 30Hrs Playtime, No Lip-Sync Delay',\n",
       " 'Vibe Beam True Wireless Headphones - Black, Small',\n",
       " 'Soundcore by Anker, Space One, Active Noise Cancelling Headphones, 2X Stronger Voice Reduction, 40H ANC Playtime, App Control, LDAC Hi-Res Wireless Audio, Comfortable Fit, Clear Calls, Bluetooth 5.3',\n",
       " 'KVIDIO [Updated Bluetooth Headphones Over Ear, 65 Hours Playtime Wireless Headphones with Microphone,Foldable Lightweight Headset with Deep Bass,HiFi Stereo Sound for Travel Work Cellphone',\n",
       " 'Tune Flex - True Wireless Noise Cancelling Earbuds (Black), Small',\n",
       " 'NEW Bose QuietComfort Wireless Noise Cancelling Headphones, Bluetooth Over Ear Headphones with Up To 24 Hours of Battery Life, Black',\n",
       " 'Tune 510BT: Wireless On-Ear Headphones with Purebass Sound - Black',\n",
       " 'Wireless Earbuds Bluetooth Headphones 90Hrs Playtime Ear Buds IPX7 Waterproof Sports Earphones Wireless Charging Case & Over-Ear Earhooks for Workout',\n",
       " 'HT2 Hybrid Active Noise Cancelling Headphones, Wireless Over Ear Bluetooth Headphones, 60H Playtime, Hi-Res Audio Custom EQ via App Deep Bass Comfort Fit Ear Cups, for Home Office Travel',\n",
       " 'RUNOLIM Hybrid Active Noise Cancelling Headphones, Wireless Over Ear Bluetooth Headphones with Microphone, 65H Playtime, Foldable Headphones with HiFi Audio, Deep Bass for Home Travel Office',\n",
       " 'Raycon The Everyday Bluetooth Wireless Earbuds with Microphone- Stereo Sound in-Ear Bluetooth Headset True Wireless Earbuds 32 Hours Playtime (Matte Black)']"
      ]
     },
     "execution_count": 11,
     "metadata": {},
     "output_type": "execute_result"
    }
   ],
   "source": [
    "product_names"
   ]
  },
  {
   "cell_type": "code",
   "execution_count": 12,
   "id": "91390969-4ab5-442b-95dd-987221ed3445",
   "metadata": {},
   "outputs": [
    {
     "data": {
      "text/plain": [
       "24"
      ]
     },
     "execution_count": 12,
     "metadata": {},
     "output_type": "execute_result"
    }
   ],
   "source": [
    "len(product_names)"
   ]
  },
  {
   "cell_type": "code",
   "execution_count": 13,
   "id": "80434998-79e4-437c-adb1-3a5ed921074e",
   "metadata": {},
   "outputs": [
    {
     "name": "stdout",
     "output_type": "stream",
     "text": [
      "https://www.amazon.com/s?k=beats+headphones+wireless\n"
     ]
    }
   ],
   "source": [
    "#getting the unqiue asin numbers uses the same function and method \n",
    "asin_data=[]\n",
    "response=get_Amazon_page(search_query)\n",
    "soup=BeautifulSoup(response.content)\n",
    "for n in soup.findAll('div',{'class':'sg-col-20-of-24 s-result-item s-asin sg-col-0-of-12 sg-col-16-of-20 sg-col s-widget-spacing-small sg-col-12-of-16'}):\n",
    "    asin_data.append(n['data-asin'])"
   ]
  },
  {
   "cell_type": "code",
   "execution_count": 14,
   "id": "798b75e1-0c64-4b9e-8668-fe61017073d9",
   "metadata": {},
   "outputs": [
    {
     "data": {
      "text/plain": [
       "['B0CGKLFHW4',\n",
       " 'B0C8PR4W22',\n",
       " 'B0CQLP2431',\n",
       " 'B0789YJNPP',\n",
       " 'B06XH4RF7J',\n",
       " 'B07HJJ94NJ',\n",
       " 'B0CL3NY4JM',\n",
       " 'B08QBCXZXP',\n",
       " 'B09VWH36DH',\n",
       " 'B0CBQKBYXR',\n",
       " 'B0CG5Q83K7',\n",
       " 'B0BQPNMXQV',\n",
       " 'B0C6KJ3R71',\n",
       " 'B0C1QNRGHC',\n",
       " 'B0CCZ26B5V',\n",
       " 'B08WM3LMJF']"
      ]
     },
     "execution_count": 14,
     "metadata": {},
     "output_type": "execute_result"
    }
   ],
   "source": [
    "asin_data"
   ]
  },
  {
   "cell_type": "code",
   "execution_count": 15,
   "id": "f20f1907-e024-49c7-b1bd-d9f7b830c4fc",
   "metadata": {},
   "outputs": [
    {
     "data": {
      "text/plain": [
       "16"
      ]
     },
     "execution_count": 15,
     "metadata": {},
     "output_type": "execute_result"
    }
   ],
   "source": [
    "len(asin_data)"
   ]
  },
  {
   "cell_type": "markdown",
   "id": "d344aad0-e3e3-4f01-8da3-e12ac1ab426a",
   "metadata": {},
   "source": [
    "Now we pass the thr asin numbers to extract the 'see all reviews' link for each product page"
   ]
  },
  {
   "cell_type": "code",
   "execution_count": 16,
   "id": "026a9e43-b01d-47b2-8104-f236f1e330b6",
   "metadata": {},
   "outputs": [
    {
     "name": "stdout",
     "output_type": "stream",
     "text": [
      "https://www.amazon.com/dp/B0CGKLFHW4\n",
      "https://www.amazon.com/dp/B0C8PR4W22\n",
      "https://www.amazon.com/dp/B0CQLP2431\n",
      "https://www.amazon.com/dp/B0789YJNPP\n",
      "https://www.amazon.com/dp/B06XH4RF7J\n",
      "https://www.amazon.com/dp/B07HJJ94NJ\n",
      "https://www.amazon.com/dp/B0CL3NY4JM\n",
      "https://www.amazon.com/dp/B08QBCXZXP\n",
      "https://www.amazon.com/dp/B09VWH36DH\n",
      "https://www.amazon.com/dp/B0CBQKBYXR\n",
      "https://www.amazon.com/dp/B0CG5Q83K7\n",
      "https://www.amazon.com/dp/B0BQPNMXQV\n",
      "https://www.amazon.com/dp/B0C6KJ3R71\n",
      "https://www.amazon.com/dp/B0C1QNRGHC\n",
      "https://www.amazon.com/dp/B0CCZ26B5V\n",
      "https://www.amazon.com/dp/B08WM3LMJF\n"
     ]
    }
   ],
   "source": [
    "link=[]\n",
    "for n in range(len(asin_data)):\n",
    "    response=get_asin(asin_data[n])\n",
    "    soup=BeautifulSoup(response.content)\n",
    "    for n in soup.findAll('a',{'data-hook':'see-all-reviews-link-foot'}):\n",
    "        link.append(n['href'])"
   ]
  },
  {
   "cell_type": "code",
   "execution_count": 17,
   "id": "981c25e6-113c-4c0c-98ff-61249e984af4",
   "metadata": {},
   "outputs": [
    {
     "data": {
      "text/plain": [
       "['/Beats-Studio-Pro-Cancelling-Headphones/product-reviews/B0CGKLFHW4/ref=cm_cr_dp_d_show_all_btm?ie=UTF8&reviewerType=all_reviews',\n",
       " '/Beats-Studio-Pro-Personalized-Compatibility/product-reviews/B0C8PR4W22/ref=cm_cr_dp_d_show_all_btm?ie=UTF8&reviewerType=all_reviews',\n",
       " '/Beats-Studio-Pro-Personalized-Compatibility/product-reviews/B0C8PR4W22/ref=cm_cr_dp_d_show_all_btm?ie=UTF8&reviewerType=all_reviews',\n",
       " '/Beats-Solo2-Headphone-Wireless-Refurbished/product-reviews/B0789YJNPP/ref=cm_cr_dp_d_show_all_btm?ie=UTF8&reviewerType=all_reviews',\n",
       " '/Beats-Dr-Dre-Ear-Headphones/product-reviews/B06XH4RF7J/ref=cm_cr_dp_d_show_all_btm?ie=UTF8&reviewerType=all_reviews',\n",
       " '/Beats-Dr-Dre-Ear-Headphones/product-reviews/B06XH4RF7J/ref=cm_cr_dp_d_show_all_btm?ie=UTF8&reviewerType=all_reviews',\n",
       " '/Beats-Solo3-Wireless-Headphones-Anniversary/product-reviews/B07HJJ94NJ/ref=cm_cr_dp_d_show_all_btm?ie=UTF8&reviewerType=all_reviews',\n",
       " '/Beats-Solo3-Wireless-Headphones-Anniversary/product-reviews/B07HJJ94NJ/ref=cm_cr_dp_d_show_all_btm?ie=UTF8&reviewerType=all_reviews',\n",
       " '/Beats-Studio-Pro-Cancelling-Headphones/product-reviews/B0CL3NY4JM/ref=cm_cr_dp_d_show_all_btm?ie=UTF8&reviewerType=all_reviews',\n",
       " '/Beats-Flex-Wireless-Earbuds-Built/product-reviews/B08QBCXZXP/ref=cm_cr_dp_d_show_all_btm?ie=UTF8&reviewerType=all_reviews',\n",
       " '/Beats-Flex-Wireless-Earbuds-Built/product-reviews/B08QBCXZXP/ref=cm_cr_dp_d_show_all_btm?ie=UTF8&reviewerType=all_reviews',\n",
       " '/Beats-Studio-Cancelling-Earbuds-Built-Bluetooth-Headphones/product-reviews/B09VWH36DH/ref=cm_cr_dp_d_show_all_btm?ie=UTF8&reviewerType=all_reviews',\n",
       " '/Beats-Studio-Cancelling-Earbuds-Built-Bluetooth-Headphones/product-reviews/B09VWH36DH/ref=cm_cr_dp_d_show_all_btm?ie=UTF8&reviewerType=all_reviews',\n",
       " '/MONODEAL-Wireless-Headphones-Bluetooth-Transmitter/product-reviews/B0CG5Q83K7/ref=cm_cr_dp_d_show_all_btm?ie=UTF8&reviewerType=all_reviews',\n",
       " '/JBL-Vibe-Beam-Wireless-Headphones/product-reviews/B0BQPNMXQV/ref=cm_cr_dp_d_show_all_btm?ie=UTF8&reviewerType=all_reviews',\n",
       " '/JBL-Vibe-Beam-Wireless-Headphones/product-reviews/B0BQPNMXQV/ref=cm_cr_dp_d_show_all_btm?ie=UTF8&reviewerType=all_reviews',\n",
       " '/Soundcore-Cancelling-Headphones-Reduction-Comfortable/product-reviews/B0C6KJ3R71/ref=cm_cr_dp_d_show_all_btm?ie=UTF8&reviewerType=all_reviews',\n",
       " '/Soundcore-Cancelling-Headphones-Reduction-Comfortable/product-reviews/B0C6KJ3R71/ref=cm_cr_dp_d_show_all_btm?ie=UTF8&reviewerType=all_reviews',\n",
       " '/JBL-Tune-Flex-Wireless-Cancelling/product-reviews/B0C1QNRGHC/ref=cm_cr_dp_d_show_all_btm?ie=UTF8&reviewerType=all_reviews',\n",
       " '/JBL-Tune-Flex-Wireless-Cancelling/product-reviews/B0C1QNRGHC/ref=cm_cr_dp_d_show_all_btm?ie=UTF8&reviewerType=all_reviews',\n",
       " '/Bose-QuietComfort-Cancelling-Headphones-Bluetooth/product-reviews/B0CCZ26B5V/ref=cm_cr_dp_d_show_all_btm?ie=UTF8&reviewerType=all_reviews',\n",
       " '/Bose-QuietComfort-Cancelling-Headphones-Bluetooth/product-reviews/B0CCZ26B5V/ref=cm_cr_dp_d_show_all_btm?ie=UTF8&reviewerType=all_reviews',\n",
       " '/JBL-Tune-510BT-Ear-Headphones/product-reviews/B08WM3LMJF/ref=cm_cr_dp_d_show_all_btm?ie=UTF8&reviewerType=all_reviews',\n",
       " '/JBL-Tune-510BT-Ear-Headphones/product-reviews/B08WM3LMJF/ref=cm_cr_dp_d_show_all_btm?ie=UTF8&reviewerType=all_reviews']"
      ]
     },
     "execution_count": 17,
     "metadata": {},
     "output_type": "execute_result"
    }
   ],
   "source": [
    "link"
   ]
  },
  {
   "cell_type": "code",
   "execution_count": 18,
   "id": "2aad8082-d94e-4b20-b17f-d83417184005",
   "metadata": {},
   "outputs": [
    {
     "data": {
      "text/plain": [
       "24"
      ]
     },
     "execution_count": 18,
     "metadata": {},
     "output_type": "execute_result"
    }
   ],
   "source": [
    "len(link)"
   ]
  },
  {
   "cell_type": "markdown",
   "id": "601d2ff4-d9a7-4820-80ce-5af98455e8ca",
   "metadata": {},
   "source": [
    "Now that we have the links for the 'see all reviews' page we can extract the reviews from pages"
   ]
  },
  {
   "cell_type": "code",
   "execution_count": 19,
   "id": "d95ec866-ae77-42f7-8670-2c1c776feb22",
   "metadata": {
    "scrolled": true
   },
   "outputs": [
    {
     "name": "stdout",
     "output_type": "stream",
     "text": [
      "https://www.amazon.com/Beats-Studio-Pro-Cancelling-Headphones/product-reviews/B0CGKLFHW4/ref=cm_cr_dp_d_show_all_btm?ie=UTF8&reviewerType=all_reviews&pageNumber=0\n",
      "https://www.amazon.com/Beats-Studio-Pro-Cancelling-Headphones/product-reviews/B0CGKLFHW4/ref=cm_cr_dp_d_show_all_btm?ie=UTF8&reviewerType=all_reviews&pageNumber=1\n",
      "https://www.amazon.com/Beats-Studio-Pro-Personalized-Compatibility/product-reviews/B0C8PR4W22/ref=cm_cr_dp_d_show_all_btm?ie=UTF8&reviewerType=all_reviews&pageNumber=0\n",
      "https://www.amazon.com/Beats-Studio-Pro-Personalized-Compatibility/product-reviews/B0C8PR4W22/ref=cm_cr_dp_d_show_all_btm?ie=UTF8&reviewerType=all_reviews&pageNumber=1\n",
      "https://www.amazon.com/Beats-Studio-Pro-Personalized-Compatibility/product-reviews/B0C8PR4W22/ref=cm_cr_dp_d_show_all_btm?ie=UTF8&reviewerType=all_reviews&pageNumber=0\n",
      "https://www.amazon.com/Beats-Studio-Pro-Personalized-Compatibility/product-reviews/B0C8PR4W22/ref=cm_cr_dp_d_show_all_btm?ie=UTF8&reviewerType=all_reviews&pageNumber=1\n",
      "https://www.amazon.com/Beats-Solo2-Headphone-Wireless-Refurbished/product-reviews/B0789YJNPP/ref=cm_cr_dp_d_show_all_btm?ie=UTF8&reviewerType=all_reviews&pageNumber=0\n",
      "https://www.amazon.com/Beats-Solo2-Headphone-Wireless-Refurbished/product-reviews/B0789YJNPP/ref=cm_cr_dp_d_show_all_btm?ie=UTF8&reviewerType=all_reviews&pageNumber=1\n",
      "https://www.amazon.com/Beats-Dr-Dre-Ear-Headphones/product-reviews/B06XH4RF7J/ref=cm_cr_dp_d_show_all_btm?ie=UTF8&reviewerType=all_reviews&pageNumber=0\n",
      "https://www.amazon.com/Beats-Dr-Dre-Ear-Headphones/product-reviews/B06XH4RF7J/ref=cm_cr_dp_d_show_all_btm?ie=UTF8&reviewerType=all_reviews&pageNumber=1\n",
      "https://www.amazon.com/Beats-Dr-Dre-Ear-Headphones/product-reviews/B06XH4RF7J/ref=cm_cr_dp_d_show_all_btm?ie=UTF8&reviewerType=all_reviews&pageNumber=0\n",
      "https://www.amazon.com/Beats-Dr-Dre-Ear-Headphones/product-reviews/B06XH4RF7J/ref=cm_cr_dp_d_show_all_btm?ie=UTF8&reviewerType=all_reviews&pageNumber=1\n",
      "https://www.amazon.com/Beats-Solo3-Wireless-Headphones-Anniversary/product-reviews/B07HJJ94NJ/ref=cm_cr_dp_d_show_all_btm?ie=UTF8&reviewerType=all_reviews&pageNumber=0\n",
      "https://www.amazon.com/Beats-Solo3-Wireless-Headphones-Anniversary/product-reviews/B07HJJ94NJ/ref=cm_cr_dp_d_show_all_btm?ie=UTF8&reviewerType=all_reviews&pageNumber=1\n",
      "https://www.amazon.com/Beats-Solo3-Wireless-Headphones-Anniversary/product-reviews/B07HJJ94NJ/ref=cm_cr_dp_d_show_all_btm?ie=UTF8&reviewerType=all_reviews&pageNumber=0\n",
      "https://www.amazon.com/Beats-Solo3-Wireless-Headphones-Anniversary/product-reviews/B07HJJ94NJ/ref=cm_cr_dp_d_show_all_btm?ie=UTF8&reviewerType=all_reviews&pageNumber=1\n",
      "https://www.amazon.com/Beats-Studio-Pro-Cancelling-Headphones/product-reviews/B0CL3NY4JM/ref=cm_cr_dp_d_show_all_btm?ie=UTF8&reviewerType=all_reviews&pageNumber=0\n",
      "https://www.amazon.com/Beats-Studio-Pro-Cancelling-Headphones/product-reviews/B0CL3NY4JM/ref=cm_cr_dp_d_show_all_btm?ie=UTF8&reviewerType=all_reviews&pageNumber=1\n",
      "https://www.amazon.com/Beats-Flex-Wireless-Earbuds-Built/product-reviews/B08QBCXZXP/ref=cm_cr_dp_d_show_all_btm?ie=UTF8&reviewerType=all_reviews&pageNumber=0\n",
      "https://www.amazon.com/Beats-Flex-Wireless-Earbuds-Built/product-reviews/B08QBCXZXP/ref=cm_cr_dp_d_show_all_btm?ie=UTF8&reviewerType=all_reviews&pageNumber=1\n",
      "https://www.amazon.com/Beats-Flex-Wireless-Earbuds-Built/product-reviews/B08QBCXZXP/ref=cm_cr_dp_d_show_all_btm?ie=UTF8&reviewerType=all_reviews&pageNumber=0\n",
      "https://www.amazon.com/Beats-Flex-Wireless-Earbuds-Built/product-reviews/B08QBCXZXP/ref=cm_cr_dp_d_show_all_btm?ie=UTF8&reviewerType=all_reviews&pageNumber=1\n",
      "https://www.amazon.com/Beats-Studio-Cancelling-Earbuds-Built-Bluetooth-Headphones/product-reviews/B09VWH36DH/ref=cm_cr_dp_d_show_all_btm?ie=UTF8&reviewerType=all_reviews&pageNumber=0\n",
      "https://www.amazon.com/Beats-Studio-Cancelling-Earbuds-Built-Bluetooth-Headphones/product-reviews/B09VWH36DH/ref=cm_cr_dp_d_show_all_btm?ie=UTF8&reviewerType=all_reviews&pageNumber=1\n",
      "https://www.amazon.com/Beats-Studio-Cancelling-Earbuds-Built-Bluetooth-Headphones/product-reviews/B09VWH36DH/ref=cm_cr_dp_d_show_all_btm?ie=UTF8&reviewerType=all_reviews&pageNumber=0\n",
      "https://www.amazon.com/Beats-Studio-Cancelling-Earbuds-Built-Bluetooth-Headphones/product-reviews/B09VWH36DH/ref=cm_cr_dp_d_show_all_btm?ie=UTF8&reviewerType=all_reviews&pageNumber=1\n",
      "https://www.amazon.com/MONODEAL-Wireless-Headphones-Bluetooth-Transmitter/product-reviews/B0CG5Q83K7/ref=cm_cr_dp_d_show_all_btm?ie=UTF8&reviewerType=all_reviews&pageNumber=0\n",
      "https://www.amazon.com/MONODEAL-Wireless-Headphones-Bluetooth-Transmitter/product-reviews/B0CG5Q83K7/ref=cm_cr_dp_d_show_all_btm?ie=UTF8&reviewerType=all_reviews&pageNumber=1\n",
      "https://www.amazon.com/JBL-Vibe-Beam-Wireless-Headphones/product-reviews/B0BQPNMXQV/ref=cm_cr_dp_d_show_all_btm?ie=UTF8&reviewerType=all_reviews&pageNumber=0\n",
      "https://www.amazon.com/JBL-Vibe-Beam-Wireless-Headphones/product-reviews/B0BQPNMXQV/ref=cm_cr_dp_d_show_all_btm?ie=UTF8&reviewerType=all_reviews&pageNumber=1\n",
      "https://www.amazon.com/JBL-Vibe-Beam-Wireless-Headphones/product-reviews/B0BQPNMXQV/ref=cm_cr_dp_d_show_all_btm?ie=UTF8&reviewerType=all_reviews&pageNumber=0\n",
      "https://www.amazon.com/JBL-Vibe-Beam-Wireless-Headphones/product-reviews/B0BQPNMXQV/ref=cm_cr_dp_d_show_all_btm?ie=UTF8&reviewerType=all_reviews&pageNumber=1\n",
      "https://www.amazon.com/Soundcore-Cancelling-Headphones-Reduction-Comfortable/product-reviews/B0C6KJ3R71/ref=cm_cr_dp_d_show_all_btm?ie=UTF8&reviewerType=all_reviews&pageNumber=0\n",
      "https://www.amazon.com/Soundcore-Cancelling-Headphones-Reduction-Comfortable/product-reviews/B0C6KJ3R71/ref=cm_cr_dp_d_show_all_btm?ie=UTF8&reviewerType=all_reviews&pageNumber=1\n",
      "https://www.amazon.com/Soundcore-Cancelling-Headphones-Reduction-Comfortable/product-reviews/B0C6KJ3R71/ref=cm_cr_dp_d_show_all_btm?ie=UTF8&reviewerType=all_reviews&pageNumber=0\n",
      "https://www.amazon.com/Soundcore-Cancelling-Headphones-Reduction-Comfortable/product-reviews/B0C6KJ3R71/ref=cm_cr_dp_d_show_all_btm?ie=UTF8&reviewerType=all_reviews&pageNumber=1\n",
      "https://www.amazon.com/JBL-Tune-Flex-Wireless-Cancelling/product-reviews/B0C1QNRGHC/ref=cm_cr_dp_d_show_all_btm?ie=UTF8&reviewerType=all_reviews&pageNumber=0\n",
      "https://www.amazon.com/JBL-Tune-Flex-Wireless-Cancelling/product-reviews/B0C1QNRGHC/ref=cm_cr_dp_d_show_all_btm?ie=UTF8&reviewerType=all_reviews&pageNumber=1\n",
      "https://www.amazon.com/JBL-Tune-Flex-Wireless-Cancelling/product-reviews/B0C1QNRGHC/ref=cm_cr_dp_d_show_all_btm?ie=UTF8&reviewerType=all_reviews&pageNumber=0\n",
      "https://www.amazon.com/JBL-Tune-Flex-Wireless-Cancelling/product-reviews/B0C1QNRGHC/ref=cm_cr_dp_d_show_all_btm?ie=UTF8&reviewerType=all_reviews&pageNumber=1\n",
      "https://www.amazon.com/Bose-QuietComfort-Cancelling-Headphones-Bluetooth/product-reviews/B0CCZ26B5V/ref=cm_cr_dp_d_show_all_btm?ie=UTF8&reviewerType=all_reviews&pageNumber=0\n",
      "https://www.amazon.com/Bose-QuietComfort-Cancelling-Headphones-Bluetooth/product-reviews/B0CCZ26B5V/ref=cm_cr_dp_d_show_all_btm?ie=UTF8&reviewerType=all_reviews&pageNumber=1\n",
      "https://www.amazon.com/Bose-QuietComfort-Cancelling-Headphones-Bluetooth/product-reviews/B0CCZ26B5V/ref=cm_cr_dp_d_show_all_btm?ie=UTF8&reviewerType=all_reviews&pageNumber=0\n",
      "https://www.amazon.com/Bose-QuietComfort-Cancelling-Headphones-Bluetooth/product-reviews/B0CCZ26B5V/ref=cm_cr_dp_d_show_all_btm?ie=UTF8&reviewerType=all_reviews&pageNumber=1\n",
      "https://www.amazon.com/JBL-Tune-510BT-Ear-Headphones/product-reviews/B08WM3LMJF/ref=cm_cr_dp_d_show_all_btm?ie=UTF8&reviewerType=all_reviews&pageNumber=0\n",
      "https://www.amazon.com/JBL-Tune-510BT-Ear-Headphones/product-reviews/B08WM3LMJF/ref=cm_cr_dp_d_show_all_btm?ie=UTF8&reviewerType=all_reviews&pageNumber=1\n",
      "https://www.amazon.com/JBL-Tune-510BT-Ear-Headphones/product-reviews/B08WM3LMJF/ref=cm_cr_dp_d_show_all_btm?ie=UTF8&reviewerType=all_reviews&pageNumber=0\n",
      "https://www.amazon.com/JBL-Tune-510BT-Ear-Headphones/product-reviews/B08WM3LMJF/ref=cm_cr_dp_d_show_all_btm?ie=UTF8&reviewerType=all_reviews&pageNumber=1\n"
     ]
    }
   ],
   "source": [
    "reviews=[]\n",
    "for n in range(len(link)):\n",
    "    for i in range(2):\n",
    "        response=get_reviews(link[n]+'&pageNumber='+str(i))\n",
    "        soup=BeautifulSoup(response.content)\n",
    "        for j in soup.findAll('span',{'data-hook':'review-body'}):\n",
    "            reviews.append(j.text)"
   ]
  },
  {
   "cell_type": "code",
   "execution_count": 20,
   "id": "6968b5d4-b574-4972-9752-a0201f58dd6b",
   "metadata": {},
   "outputs": [
    {
     "data": {
      "text/plain": [
       "231"
      ]
     },
     "execution_count": 20,
     "metadata": {},
     "output_type": "execute_result"
    }
   ],
   "source": [
    "len(reviews)"
   ]
  },
  {
   "cell_type": "code",
   "execution_count": 21,
   "id": "efe5872c-beff-4a04-b189-c313d19b501d",
   "metadata": {},
   "outputs": [],
   "source": [
    "rev={'Reviews':reviews}"
   ]
  },
  {
   "cell_type": "code",
   "execution_count": 22,
   "id": "1b7ec612-eb7b-487b-971b-ed62fa33b12c",
   "metadata": {},
   "outputs": [],
   "source": [
    "review_data=pd.DataFrame.from_dict(rev)"
   ]
  },
  {
   "cell_type": "code",
   "execution_count": 23,
   "id": "c8fcb8fe-930a-41b3-8c55-d482e86742f9",
   "metadata": {},
   "outputs": [
    {
     "data": {
      "text/html": [
       "<div>\n",
       "<style scoped>\n",
       "    .dataframe tbody tr th:only-of-type {\n",
       "        vertical-align: middle;\n",
       "    }\n",
       "\n",
       "    .dataframe tbody tr th {\n",
       "        vertical-align: top;\n",
       "    }\n",
       "\n",
       "    .dataframe thead th {\n",
       "        text-align: right;\n",
       "    }\n",
       "</style>\n",
       "<table border=\"1\" class=\"dataframe\">\n",
       "  <thead>\n",
       "    <tr style=\"text-align: right;\">\n",
       "      <th></th>\n",
       "      <th>Reviews</th>\n",
       "    </tr>\n",
       "  </thead>\n",
       "  <tbody>\n",
       "    <tr>\n",
       "      <th>226</th>\n",
       "      <td>\\nThe JBL Tune 510BT wireless on-ear headphones have exceeded my expectations, delivering an exceptional audio experience wrapped in a stylish and comfortable design.The first thing that caught my eye was the vibrant blue color – a refreshing departure from the typical headphone hues. The sleek design and medium size make them not only visually appealing but also comfortable for extended wear. The on-ear cups sit snugly without causing discomfort, and the adjustable headband ensures a perfect fit for various head sizes.Sound quality is where the JBL Tune 510BT truly shines. The Purebass technology lives up to its name, delivering deep, rich bass that adds a new dimension to my music and enhances the overall listening experience. The audio is well-balanced, providing crisp highs and clear mids, making it suitable for a variety of genres.The wireless connectivity is seamless, and pairing with my devices was a breeze. The Bluetooth range is impressive, allowing me to move around without any signal loss. The on-ear controls are intuitive and responsive, providing easy access to playback, volume adjustment, and calls.Battery life is another strong suit of these headphones. A single charge lasts for hours, making them ideal for long commutes, workouts, or extended listening sessions. The convenience of a quick charge feature ensures that even if I forget to charge them overnight, a short charging session provides enough power for a substantial listening period.The built-in microphone delivers clear and distortion-free calls, and the ambient noise reduction feature is a nice touch, ensuring crystal-clear communication even in noisy environments.What sets the JBL Tune 510BT apart is the perfect balance it strikes between style, comfort, and high-quality sound. The inclusion of the foldable design adds portability, making them an excellent choice for on-the-go use. Whether you're a music enthusiast or someone who appreciates a reliable pair of wireless headphones, the JBL Tune 510BT is a solid investment. It's a testament to JBL's commitment to delivering an outstanding audio experience in a stylish and affordable package. I wholeheartedly recommend these headphones to anyone in search of a top-tier wireless audio solution.\\n</td>\n",
       "    </tr>\n",
       "    <tr>\n",
       "      <th>227</th>\n",
       "      <td>\\nMy first impression of these headphones were that they were very lightweight. Not too heavy to wear for long periods of time. The ear muff parts are isolated so they can swivel to be stored or to fit on your head. If they are too tight, they are easy to adjust for a perfect fit. These headphones were very easy to connect to my phone via Bluetooth, and the music sounded great played through what obviously are good quality speakers. They are somewhat noise-cancelling as well.Something that I generally look for in considering headphones is being able to listen to higher volumes without disturbing the people around me. With these headphones, I could listen at my preferred volume without being heard by people seated nearby, which comes in especially handy when I'm on a flight or commuting across town.  All in all, great sound - lightweight - adjustable - and a bargain.  I'm very happy with my purchase.\\n</td>\n",
       "    </tr>\n",
       "    <tr>\n",
       "      <th>228</th>\n",
       "      <td>\\nFantastic purchase. Tried these out because I'm prone to ear infections, so in-ear buds are out of the question. Wish I would've considered these years ago, instead of going with the high dollar galaxy buds/airpods. This is the sound quality you would expect from $200-300 headphones for a fraction of the price. Not in the business of supporting big brands like this with reviews, but truly a quality product. They charge very fast and stay charged for literal hours. They're also very comfortable/flexible on my big head and ears.\\n</td>\n",
       "    </tr>\n",
       "    <tr>\n",
       "      <th>229</th>\n",
       "      <td>\\nI bought a set of JBL ear buds so I could work in the shop and listen to some opera as well as classic rock  with impunity.  “Keeping it to myself” took on a whole new meaning and I tried to work with that dictate, so bought the buds.  But they kept falling out, the music was lackluster with little or no bass component, and I just felt they didn’t give me the listening experience I was looking for. It’s hard to tell until you try them.  I recognize that listening tastes are personal, so I returned the buds in acknowledgement of their apparent shortcomings. Despite not being a power user I have had other, and always liked JBL products; they usually hit my listening sweet spot, regardless of the genre of music, so as a brand loyal customer I ordered a set of over-ear JBL headphones, the JBL Tune 510 BT.  I’m not sure what the model numbers mean,  but when I first put them on and listened to them I had a “wow” moment, and said “these are keepers”.  They are comfortable, they stay put on my ears when I’m working in the shop, they block out a lot of background noise, and they reveal so much more within the music than I was used to, ever knew existed, or was even hoping for.  I can’t say with certainty that the headphones hit the highest highs or  the lowest lows, but the overall presentation is complex, colorful and pleasing. They leave me wanting for nothing.  I’m entertained now with “active hearing”, as I can discern so much more depth of sound with these headphones. I fully enjoy them  such that I even wear them while preparing meals.  They would get 10 stars if they also made me a better cook.  But that’s just not gonna happen under any circumstance. At least I still have the headphones to fall back on.I don’t know if I’ll ever travel with them, but they fold kinda flat, which seems like a nice feature, although not a dealbreaker for me.  My quest started out about the quality of sound, and that’s where it ended when I purchased the JBL Tune 510BT headphones.  I’m satisfied that I can cross that quest off my to-do list.\\n</td>\n",
       "    </tr>\n",
       "    <tr>\n",
       "      <th>230</th>\n",
       "      <td>\\nThese are a great value for what I paid, I got them during a sale and I hope they come down in price again because I would 100% buy these again. They are noise canceling and have a surround sound effect which is awesome. The noise canceling was so good for me that I couldn’t hear my kids, which isn’t necessarily a bad thing when they are fighting. The range is decent too, I am able to cook and clean in peace and able to put my phone down and still listen to music or a show. These are going to be SO nice on the ride down to Florida for vacation next year as it is an 11-13 hour drive. Battery life is decent too. The headphones themselves are comfortable to wear but they are for a more smaller/ narrow head someone who might have a larger head might not be able to wear these comfortably. Maybe something the brand can look into for the future to be more inclusive to clientele.\\n</td>\n",
       "    </tr>\n",
       "  </tbody>\n",
       "</table>\n",
       "</div>"
      ],
      "text/plain": [
       "                                                                                                                                                                                                                                                                                                                                                                                                                                                                                                                                                                                                                                                                                                                                                                                                                                                                                                                                                                                                                                                                                                                                                                                                                                                                                                                                                                                                                                                                                                                                                                                                                                                                                                                                                                                                                                                                                                                                                                                                                                                                                                                                                                                                                                                                                                                                              Reviews\n",
       "226  \\nThe JBL Tune 510BT wireless on-ear headphones have exceeded my expectations, delivering an exceptional audio experience wrapped in a stylish and comfortable design.The first thing that caught my eye was the vibrant blue color – a refreshing departure from the typical headphone hues. The sleek design and medium size make them not only visually appealing but also comfortable for extended wear. The on-ear cups sit snugly without causing discomfort, and the adjustable headband ensures a perfect fit for various head sizes.Sound quality is where the JBL Tune 510BT truly shines. The Purebass technology lives up to its name, delivering deep, rich bass that adds a new dimension to my music and enhances the overall listening experience. The audio is well-balanced, providing crisp highs and clear mids, making it suitable for a variety of genres.The wireless connectivity is seamless, and pairing with my devices was a breeze. The Bluetooth range is impressive, allowing me to move around without any signal loss. The on-ear controls are intuitive and responsive, providing easy access to playback, volume adjustment, and calls.Battery life is another strong suit of these headphones. A single charge lasts for hours, making them ideal for long commutes, workouts, or extended listening sessions. The convenience of a quick charge feature ensures that even if I forget to charge them overnight, a short charging session provides enough power for a substantial listening period.The built-in microphone delivers clear and distortion-free calls, and the ambient noise reduction feature is a nice touch, ensuring crystal-clear communication even in noisy environments.What sets the JBL Tune 510BT apart is the perfect balance it strikes between style, comfort, and high-quality sound. The inclusion of the foldable design adds portability, making them an excellent choice for on-the-go use. Whether you're a music enthusiast or someone who appreciates a reliable pair of wireless headphones, the JBL Tune 510BT is a solid investment. It's a testament to JBL's commitment to delivering an outstanding audio experience in a stylish and affordable package. I wholeheartedly recommend these headphones to anyone in search of a top-tier wireless audio solution.\\n\n",
       "227                                                                                                                                                                                                                                                                                                                                                                                                                                                                                                                                                                                                                                                                                                                                                                                                                                                                                                                                                                                                                                                                                                                                                                                                                                                                                                                                                                                                \\nMy first impression of these headphones were that they were very lightweight. Not too heavy to wear for long periods of time. The ear muff parts are isolated so they can swivel to be stored or to fit on your head. If they are too tight, they are easy to adjust for a perfect fit. These headphones were very easy to connect to my phone via Bluetooth, and the music sounded great played through what obviously are good quality speakers. They are somewhat noise-cancelling as well.Something that I generally look for in considering headphones is being able to listen to higher volumes without disturbing the people around me. With these headphones, I could listen at my preferred volume without being heard by people seated nearby, which comes in especially handy when I'm on a flight or commuting across town.  All in all, great sound - lightweight - adjustable - and a bargain.  I'm very happy with my purchase.\\n\n",
       "228                                                                                                                                                                                                                                                                                                                                                                                                                                                                                                                                                                                                                                                                                                                                                                                                                                                                                                                                                                                                                                                                                                                                                                                                                                                                                                                                                                                                                                                                                                                                                                                                                                                                                                                                                                                          \\nFantastic purchase. Tried these out because I'm prone to ear infections, so in-ear buds are out of the question. Wish I would've considered these years ago, instead of going with the high dollar galaxy buds/airpods. This is the sound quality you would expect from $200-300 headphones for a fraction of the price. Not in the business of supporting big brands like this with reviews, but truly a quality product. They charge very fast and stay charged for literal hours. They're also very comfortable/flexible on my big head and ears.\\n\n",
       "229                                                                                                                                                                                                       \\nI bought a set of JBL ear buds so I could work in the shop and listen to some opera as well as classic rock  with impunity.  “Keeping it to myself” took on a whole new meaning and I tried to work with that dictate, so bought the buds.  But they kept falling out, the music was lackluster with little or no bass component, and I just felt they didn’t give me the listening experience I was looking for. It’s hard to tell until you try them.  I recognize that listening tastes are personal, so I returned the buds in acknowledgement of their apparent shortcomings. Despite not being a power user I have had other, and always liked JBL products; they usually hit my listening sweet spot, regardless of the genre of music, so as a brand loyal customer I ordered a set of over-ear JBL headphones, the JBL Tune 510 BT.  I’m not sure what the model numbers mean,  but when I first put them on and listened to them I had a “wow” moment, and said “these are keepers”.  They are comfortable, they stay put on my ears when I’m working in the shop, they block out a lot of background noise, and they reveal so much more within the music than I was used to, ever knew existed, or was even hoping for.  I can’t say with certainty that the headphones hit the highest highs or  the lowest lows, but the overall presentation is complex, colorful and pleasing. They leave me wanting for nothing.  I’m entertained now with “active hearing”, as I can discern so much more depth of sound with these headphones. I fully enjoy them  such that I even wear them while preparing meals.  They would get 10 stars if they also made me a better cook.  But that’s just not gonna happen under any circumstance. At least I still have the headphones to fall back on.I don’t know if I’ll ever travel with them, but they fold kinda flat, which seems like a nice feature, although not a dealbreaker for me.  My quest started out about the quality of sound, and that’s where it ended when I purchased the JBL Tune 510BT headphones.  I’m satisfied that I can cross that quest off my to-do list.\\n\n",
       "230                                                                                                                                                                                                                                                                                                                                                                                                                                                                                                                                                                                                                                                                                                                                                                                                                                                                                                                                                                                                                                                                                                                                                                                                                                                                                                                                                                                                                          \\nThese are a great value for what I paid, I got them during a sale and I hope they come down in price again because I would 100% buy these again. They are noise canceling and have a surround sound effect which is awesome. The noise canceling was so good for me that I couldn’t hear my kids, which isn’t necessarily a bad thing when they are fighting. The range is decent too, I am able to cook and clean in peace and able to put my phone down and still listen to music or a show. These are going to be SO nice on the ride down to Florida for vacation next year as it is an 11-13 hour drive. Battery life is decent too. The headphones themselves are comfortable to wear but they are for a more smaller/ narrow head someone who might have a larger head might not be able to wear these comfortably. Maybe something the brand can look into for the future to be more inclusive to clientele.\\n"
      ]
     },
     "execution_count": 23,
     "metadata": {},
     "output_type": "execute_result"
    }
   ],
   "source": [
    "pd.set_option('max_colwidth',10000)\n",
    "review_data.tail(5)"
   ]
  },
  {
   "cell_type": "markdown",
   "id": "088c2532-38ff-48fb-bd5b-aa9aab6eec1f",
   "metadata": {},
   "source": [
    "Now that I have all the reviews I need, this part of the project is complete. I can now store the reviews as a csv file for use in the second part of the project: preparing the data "
   ]
  },
  {
   "cell_type": "code",
   "execution_count": 24,
   "id": "dc144d92-1c13-428f-8737-bf0667b3f770",
   "metadata": {},
   "outputs": [],
   "source": [
    "review_data.to_csv('Scraped_Reviews.csv',index=False)"
   ]
  }
 ],
 "metadata": {
  "kernelspec": {
   "display_name": "Python 3 (ipykernel)",
   "language": "python",
   "name": "python3"
  },
  "language_info": {
   "codemirror_mode": {
    "name": "ipython",
    "version": 3
   },
   "file_extension": ".py",
   "mimetype": "text/x-python",
   "name": "python",
   "nbconvert_exporter": "python",
   "pygments_lexer": "ipython3",
   "version": "3.11.2"
  }
 },
 "nbformat": 4,
 "nbformat_minor": 5
}
